{
  "nbformat": 4,
  "nbformat_minor": 0,
  "metadata": {
    "colab": {
      "name": "Tekweb add linked data.ipynb",
      "provenance": [],
      "collapsed_sections": [
        "nBhYR3lXUHrM",
        "2PYjcyPrUMMb",
        "9KIfuZCorFn8",
        "8jT3jqRw4tZV",
        "mN9x3YTy4wQb"
      ]
    },
    "kernelspec": {
      "name": "python3",
      "display_name": "Python 3"
    }
  },
  "cells": [
    {
      "cell_type": "markdown",
      "metadata": {
        "id": "pIOrhHVm9_t5"
      },
      "source": [
        "# **Vocabulary Lazada Indonesian Reviews**\n",
        "## Kontributor: Gary Dimitri Hamidi, Rakha Abadi Susilo, Nur Aini Rakhmawati\n",
        "## Email Kontributor: dimitri.18052@mhs.its.ac.id, \n",
        "05211840000102@mahasiswa.integra.its.ac.id\n",
        "\n",
        "### Departemen Sistem Informasi, Institut Teknologi Sepuluh Nopember\n"
      ]
    },
    {
      "cell_type": "markdown",
      "metadata": {
        "id": "WtfOlir1hhSd"
      },
      "source": [
        "\n",
        "## **Abstrak**\n",
        "\n",
        "Lazada merupakan salah satu e-commerce terbesar di dunia. Salah satu negara di mana Lazada menyediakan jasa mereka adalah di Indonesia. Di Indonesia, Lazada menengahi berbagai transaksi dalam berbagai bidang, salah satunya adalah barang elektronik. Di paper ini dilakukan pembuatan vocabulary terhadap produk-produk elektronik tertentu yang ada di Lazada, berdasarkan dataset yang diambil pada tahun 2019. Di paper ini dilakukan pembuatan dua vocabulary, yang pertama adalah vocabulary manual tanpa menggunakan vocabulary yang bersifat spesifik, dan yang kedua adalah vocabulary extended, di mana digunakan vocabulary GoodRelations (gr), Friend-of-a-Fried (foaf), dan schema.org (s).\n",
        "\n",
        "\n",
        "**Keyword**: E-commerce, lazada, xml, vocabulary, semantic web."
      ]
    },
    {
      "cell_type": "markdown",
      "metadata": {
        "id": "nBhYR3lXUHrM"
      },
      "source": [
        "\n",
        "\n",
        "---\n",
        "\n",
        "\n",
        "## **Dataset**\n",
        "\n"
      ]
    },
    {
      "cell_type": "markdown",
      "metadata": {
        "id": "k3-jxefAS6nq"
      },
      "source": [
        "Data yang terdiri dari 4286 baris dan 9 kolom merupakan yang didapat  dari e-commerce [Lazada](https://lazada.co.id) yang tersedia di [Kaggle](https://www.kaggle.com/grikomsn/lazada-indonesian-reviews). Setiap row mempresentasikan sebuah produk elektronik yang sedang dijual pada saat data diambil (2 Oktober 2019). Di data ini, sembilan kolom dapat dijelaskan seperti berikut:\n",
        "* **itemId** - ID Item / Produk di Lazada\n",
        "* **category** - Kategori di mana Lazada menaruh produk ini. Terdapat 5 kategori:\n",
        " * beli-harddisk-eksternal\n",
        " * beli-laptop\n",
        " * beli-smart-tv\n",
        " * jual-flash-drives\n",
        " * shop-televisi-digital\n",
        "* **name** - Nama produk yang dicantumkan oleh penjual.\n",
        "* **brandName** - Gender of customer\n",
        "* **url** - URL produk.\n",
        "* **price** - Harga produk.\n",
        "* **averagerating** - Nilai rata-rata ulasan pelanggan pada produk.\n",
        "* **totalReviews** - Jumlah ulasan pelanggan pada produk.\n",
        "* **retrievedDate** - Tanggal data diambil."
      ]
    },
    {
      "cell_type": "code",
      "metadata": {
        "id": "Jl62dognmwEr",
        "colab": {
          "base_uri": "https://localhost:8080/"
        },
        "outputId": "114330a3-9284-468f-d612-ea848966b751"
      },
      "source": [
        "from google_drive_downloader import GoogleDriveDownloader as gdd\n",
        "import pandas as pd \n",
        "\n",
        "gdd.download_file_from_google_drive(file_id='1h2_LvGAEeieqcZSRLs0YnP2MjYJYJGbd', dest_path='./data.xls', showsize=True)\n",
        "data = pd.read_excel('data.xls')\n",
        "data"
      ],
      "execution_count": null,
      "outputs": [
        {
          "output_type": "stream",
          "name": "stdout",
          "text": [
            "Downloading 1h2_LvGAEeieqcZSRLs0YnP2MjYJYJGbd into ./data.xls... \n",
            "9.9 MiB Done.\n"
          ]
        },
        {
          "output_type": "execute_result",
          "data": {
            "text/html": [
              "<div>\n",
              "<style scoped>\n",
              "    .dataframe tbody tr th:only-of-type {\n",
              "        vertical-align: middle;\n",
              "    }\n",
              "\n",
              "    .dataframe tbody tr th {\n",
              "        vertical-align: top;\n",
              "    }\n",
              "\n",
              "    .dataframe thead th {\n",
              "        text-align: right;\n",
              "    }\n",
              "</style>\n",
              "<table border=\"1\" class=\"dataframe\">\n",
              "  <thead>\n",
              "    <tr style=\"text-align: right;\">\n",
              "      <th></th>\n",
              "      <th>itemId</th>\n",
              "      <th>category</th>\n",
              "      <th>name</th>\n",
              "      <th>brandName</th>\n",
              "      <th>url</th>\n",
              "      <th>price</th>\n",
              "      <th>averageRating</th>\n",
              "      <th>totalReviews</th>\n",
              "      <th>retrievedDate</th>\n",
              "    </tr>\n",
              "  </thead>\n",
              "  <tbody>\n",
              "    <tr>\n",
              "      <th>0</th>\n",
              "      <td>100002528</td>\n",
              "      <td>beli-harddisk-eksternal</td>\n",
              "      <td>TOSHIBA Smart HD LED TV 32\" - 32L5650VJ Free B...</td>\n",
              "      <td>Toshiba</td>\n",
              "      <td>https://www.lazada.co.id/products/toshiba-smar...</td>\n",
              "      <td>2499000</td>\n",
              "      <td>4</td>\n",
              "      <td>8</td>\n",
              "      <td>2019-10-02</td>\n",
              "    </tr>\n",
              "    <tr>\n",
              "      <th>1</th>\n",
              "      <td>100003785</td>\n",
              "      <td>beli-harddisk-eksternal</td>\n",
              "      <td>TOSHIBA Full HD Smart LED TV 40\" - 40L5650VJ -...</td>\n",
              "      <td>Toshiba</td>\n",
              "      <td>https://www.lazada.co.id/products/toshiba-full...</td>\n",
              "      <td>3788000</td>\n",
              "      <td>3</td>\n",
              "      <td>3</td>\n",
              "      <td>2019-10-02</td>\n",
              "    </tr>\n",
              "    <tr>\n",
              "      <th>2</th>\n",
              "      <td>100004132</td>\n",
              "      <td>beli-harddisk-eksternal</td>\n",
              "      <td>Samsung 40 Inch Full HD Flat LED Digital TV 40...</td>\n",
              "      <td>LG</td>\n",
              "      <td>https://www.lazada.co.id/products/samsung-40-i...</td>\n",
              "      <td>3850000</td>\n",
              "      <td>3</td>\n",
              "      <td>2</td>\n",
              "      <td>2019-10-02</td>\n",
              "    </tr>\n",
              "    <tr>\n",
              "      <th>3</th>\n",
              "      <td>100004505</td>\n",
              "      <td>beli-harddisk-eksternal</td>\n",
              "      <td>Sharp HD LED TV 24\" - LC-24LE175I - Hitam</td>\n",
              "      <td>Sharp</td>\n",
              "      <td>https://www.lazada.co.id/products/sharp-hd-led...</td>\n",
              "      <td>1275000</td>\n",
              "      <td>3</td>\n",
              "      <td>11</td>\n",
              "      <td>2019-10-02</td>\n",
              "    </tr>\n",
              "    <tr>\n",
              "      <th>4</th>\n",
              "      <td>100005037</td>\n",
              "      <td>beli-harddisk-eksternal</td>\n",
              "      <td>Lenovo Ideapad 130-15AST LAPTOP MULTIMEDIA I A...</td>\n",
              "      <td>Lenovo</td>\n",
              "      <td>https://www.lazada.co.id/products/lenovo-ideap...</td>\n",
              "      <td>3984100</td>\n",
              "      <td>5</td>\n",
              "      <td>1</td>\n",
              "      <td>2019-10-02</td>\n",
              "    </tr>\n",
              "    <tr>\n",
              "      <th>...</th>\n",
              "      <td>...</td>\n",
              "      <td>...</td>\n",
              "      <td>...</td>\n",
              "      <td>...</td>\n",
              "      <td>...</td>\n",
              "      <td>...</td>\n",
              "      <td>...</td>\n",
              "      <td>...</td>\n",
              "      <td>...</td>\n",
              "    </tr>\n",
              "    <tr>\n",
              "      <th>10937</th>\n",
              "      <td>9467887</td>\n",
              "      <td>shop-televisi-digital</td>\n",
              "      <td>Toshiba 32L3750VJ Digital Tv DVB-T2 LED TV 32\"...</td>\n",
              "      <td>Toshiba</td>\n",
              "      <td>https://www.lazada.co.id/products/toshiba-32l3...</td>\n",
              "      <td>1990000</td>\n",
              "      <td>4</td>\n",
              "      <td>12</td>\n",
              "      <td>2019-10-02</td>\n",
              "    </tr>\n",
              "    <tr>\n",
              "      <th>10938</th>\n",
              "      <td>9467898</td>\n",
              "      <td>shop-televisi-digital</td>\n",
              "      <td>Samsung 43K5002AK Televisi LED - Khusus JABODE...</td>\n",
              "      <td>Samsung</td>\n",
              "      <td>https://www.lazada.co.id/products/samsung-43k5...</td>\n",
              "      <td>4590000</td>\n",
              "      <td>1</td>\n",
              "      <td>1</td>\n",
              "      <td>2019-10-02</td>\n",
              "    </tr>\n",
              "    <tr>\n",
              "      <th>10939</th>\n",
              "      <td>9467899</td>\n",
              "      <td>shop-televisi-digital</td>\n",
              "      <td>Sharp 32LE180i  AQUOS LED TV 32 \" Khusus JABOD...</td>\n",
              "      <td>Sharp</td>\n",
              "      <td>https://www.lazada.co.id/products/sharp-32le18...</td>\n",
              "      <td>1990000</td>\n",
              "      <td>4</td>\n",
              "      <td>2</td>\n",
              "      <td>2019-10-02</td>\n",
              "    </tr>\n",
              "    <tr>\n",
              "      <th>10940</th>\n",
              "      <td>9548087</td>\n",
              "      <td>shop-televisi-digital</td>\n",
              "      <td>Akari LED TV LE-50D88 50\" FULL HD (Hitam)   - ...</td>\n",
              "      <td>Akari</td>\n",
              "      <td>https://www.lazada.co.id/products/akari-led-tv...</td>\n",
              "      <td>4790000</td>\n",
              "      <td>5</td>\n",
              "      <td>1</td>\n",
              "      <td>2019-10-02</td>\n",
              "    </tr>\n",
              "    <tr>\n",
              "      <th>10941</th>\n",
              "      <td>9548767</td>\n",
              "      <td>shop-televisi-digital</td>\n",
              "      <td>Akari LED TV LE-25B88 25\" HD READY (Hitam)   -...</td>\n",
              "      <td>Akari</td>\n",
              "      <td>https://www.lazada.co.id/products/akari-led-tv...</td>\n",
              "      <td>1590000</td>\n",
              "      <td>4</td>\n",
              "      <td>2</td>\n",
              "      <td>2019-10-02</td>\n",
              "    </tr>\n",
              "  </tbody>\n",
              "</table>\n",
              "<p>10942 rows × 9 columns</p>\n",
              "</div>"
            ],
            "text/plain": [
              "          itemId                 category  ... totalReviews retrievedDate\n",
              "0      100002528  beli-harddisk-eksternal  ...            8    2019-10-02\n",
              "1      100003785  beli-harddisk-eksternal  ...            3    2019-10-02\n",
              "2      100004132  beli-harddisk-eksternal  ...            2    2019-10-02\n",
              "3      100004505  beli-harddisk-eksternal  ...           11    2019-10-02\n",
              "4      100005037  beli-harddisk-eksternal  ...            1    2019-10-02\n",
              "...          ...                      ...  ...          ...           ...\n",
              "10937    9467887    shop-televisi-digital  ...           12    2019-10-02\n",
              "10938    9467898    shop-televisi-digital  ...            1    2019-10-02\n",
              "10939    9467899    shop-televisi-digital  ...            2    2019-10-02\n",
              "10940    9548087    shop-televisi-digital  ...            1    2019-10-02\n",
              "10941    9548767    shop-televisi-digital  ...            2    2019-10-02\n",
              "\n",
              "[10942 rows x 9 columns]"
            ]
          },
          "metadata": {},
          "execution_count": 2
        }
      ]
    },
    {
      "cell_type": "code",
      "metadata": {
        "colab": {
          "base_uri": "https://localhost:8080/"
        },
        "id": "Fpj94A0YTres",
        "outputId": "a46f8343-fe59-4b10-eab3-7ebf04b38c9e"
      },
      "source": [
        "!python -m pip install --no-input jupyter-rdfify"
      ],
      "execution_count": null,
      "outputs": [
        {
          "output_type": "stream",
          "name": "stdout",
          "text": [
            "Collecting jupyter-rdfify\n",
            "  Downloading jupyter_rdfify-1.0.1-py3-none-any.whl (15 kB)\n",
            "Collecting owlrl\n",
            "  Downloading owlrl-5.2.3-py3-none-any.whl (57 kB)\n",
            "\u001b[K     |████████████████████████████████| 57 kB 2.2 MB/s \n",
            "\u001b[?25hRequirement already satisfied: graphviz in /usr/local/lib/python3.7/dist-packages (from jupyter-rdfify) (0.10.1)\n",
            "Collecting PyShEx\n",
            "  Downloading PyShEx-0.7.20-py3-none-any.whl (51 kB)\n",
            "\u001b[K     |████████████████████████████████| 51 kB 496 kB/s \n",
            "\u001b[?25hCollecting ipython>=7.0.0\n",
            "  Downloading ipython-7.28.0-py3-none-any.whl (788 kB)\n",
            "\u001b[K     |████████████████████████████████| 788 kB 8.9 MB/s \n",
            "\u001b[?25hCollecting rdflib-jsonld\n",
            "  Downloading rdflib_jsonld-0.6.2-py2.py3-none-any.whl (4.0 kB)\n",
            "Collecting rdflib\n",
            "  Downloading rdflib-6.0.1-py3-none-any.whl (379 kB)\n",
            "\u001b[K     |████████████████████████████████| 379 kB 58.3 MB/s \n",
            "\u001b[?25hCollecting sparqlwrapper\n",
            "  Downloading SPARQLWrapper-1.8.5-py3-none-any.whl (26 kB)\n",
            "Collecting prompt-toolkit!=3.0.0,!=3.0.1,<3.1.0,>=2.0.0\n",
            "  Downloading prompt_toolkit-3.0.20-py3-none-any.whl (370 kB)\n",
            "\u001b[K     |████████████████████████████████| 370 kB 39.6 MB/s \n",
            "\u001b[?25hRequirement already satisfied: pygments in /usr/local/lib/python3.7/dist-packages (from ipython>=7.0.0->jupyter-rdfify) (2.6.1)\n",
            "Requirement already satisfied: pexpect>4.3 in /usr/local/lib/python3.7/dist-packages (from ipython>=7.0.0->jupyter-rdfify) (4.8.0)\n",
            "Requirement already satisfied: traitlets>=4.2 in /usr/local/lib/python3.7/dist-packages (from ipython>=7.0.0->jupyter-rdfify) (5.1.0)\n",
            "Requirement already satisfied: matplotlib-inline in /usr/local/lib/python3.7/dist-packages (from ipython>=7.0.0->jupyter-rdfify) (0.1.3)\n",
            "Requirement already satisfied: setuptools>=18.5 in /usr/local/lib/python3.7/dist-packages (from ipython>=7.0.0->jupyter-rdfify) (57.4.0)\n",
            "Requirement already satisfied: decorator in /usr/local/lib/python3.7/dist-packages (from ipython>=7.0.0->jupyter-rdfify) (4.4.2)\n",
            "Requirement already satisfied: pickleshare in /usr/local/lib/python3.7/dist-packages (from ipython>=7.0.0->jupyter-rdfify) (0.7.5)\n",
            "Requirement already satisfied: jedi>=0.16 in /usr/local/lib/python3.7/dist-packages (from ipython>=7.0.0->jupyter-rdfify) (0.18.0)\n",
            "Requirement already satisfied: backcall in /usr/local/lib/python3.7/dist-packages (from ipython>=7.0.0->jupyter-rdfify) (0.2.0)\n",
            "Requirement already satisfied: parso<0.9.0,>=0.8.0 in /usr/local/lib/python3.7/dist-packages (from jedi>=0.16->ipython>=7.0.0->jupyter-rdfify) (0.8.2)\n",
            "Requirement already satisfied: ptyprocess>=0.5 in /usr/local/lib/python3.7/dist-packages (from pexpect>4.3->ipython>=7.0.0->jupyter-rdfify) (0.7.0)\n",
            "Requirement already satisfied: wcwidth in /usr/local/lib/python3.7/dist-packages (from prompt-toolkit!=3.0.0,!=3.0.1,<3.1.0,>=2.0.0->ipython>=7.0.0->jupyter-rdfify) (0.2.5)\n",
            "Collecting isodate\n",
            "  Downloading isodate-0.6.0-py2.py3-none-any.whl (45 kB)\n",
            "\u001b[K     |████████████████████████████████| 45 kB 3.0 MB/s \n",
            "\u001b[?25hRequirement already satisfied: pyparsing in /usr/local/lib/python3.7/dist-packages (from rdflib->jupyter-rdfify) (2.4.7)\n",
            "Requirement already satisfied: six in /usr/local/lib/python3.7/dist-packages (from isodate->rdflib->jupyter-rdfify) (1.15.0)\n",
            "Requirement already satisfied: urllib3 in /usr/local/lib/python3.7/dist-packages (from PyShEx->jupyter-rdfify) (1.24.3)\n",
            "Collecting sparqlslurper~=0.4\n",
            "  Downloading sparqlslurper-0.4.1-py3-none-any.whl (5.4 kB)\n",
            "Collecting rdflib\n",
            "  Downloading rdflib-5.0.0-py3-none-any.whl (231 kB)\n",
            "\u001b[K     |████████████████████████████████| 231 kB 44.6 MB/s \n",
            "\u001b[?25hCollecting pyshexc==0.8.3\n",
            "  Downloading PyShExC-0.8.3-py2.py3-none-any.whl (69 kB)\n",
            "\u001b[K     |████████████████████████████████| 69 kB 6.9 MB/s \n",
            "\u001b[?25hCollecting cfgraph>=0.2.1\n",
            "  Downloading CFGraph-0.2.1.tar.gz (2.6 kB)\n",
            "Requirement already satisfied: requests>=2.22.0 in /usr/local/lib/python3.7/dist-packages (from PyShEx->jupyter-rdfify) (2.23.0)\n",
            "Collecting shexjsg>=0.7.1\n",
            "  Downloading ShExJSG-0.7.1-py2.py3-none-any.whl (14 kB)\n",
            "Collecting antlr4-python3-runtime~=4.9\n",
            "  Downloading antlr4-python3-runtime-4.9.2.tar.gz (117 kB)\n",
            "\u001b[K     |████████████████████████████████| 117 kB 49.6 MB/s \n",
            "\u001b[?25hCollecting jsonasobj>=1.2.1\n",
            "  Downloading jsonasobj-1.3.1-py3-none-any.whl (4.4 kB)\n",
            "Collecting pyjsg>=0.11.6\n",
            "  Downloading PyJSG-0.11.6-py3-none-any.whl (80 kB)\n",
            "\u001b[K     |████████████████████████████████| 80 kB 9.0 MB/s \n",
            "\u001b[?25hRequirement already satisfied: certifi>=2017.4.17 in /usr/local/lib/python3.7/dist-packages (from requests>=2.22.0->PyShEx->jupyter-rdfify) (2021.5.30)\n",
            "Requirement already satisfied: idna<3,>=2.5 in /usr/local/lib/python3.7/dist-packages (from requests>=2.22.0->PyShEx->jupyter-rdfify) (2.10)\n",
            "Requirement already satisfied: chardet<4,>=3.0.2 in /usr/local/lib/python3.7/dist-packages (from requests>=2.22.0->PyShEx->jupyter-rdfify) (3.0.4)\n",
            "Building wheels for collected packages: antlr4-python3-runtime, cfgraph\n",
            "  Building wheel for antlr4-python3-runtime (setup.py) ... \u001b[?25l\u001b[?25hdone\n",
            "  Created wheel for antlr4-python3-runtime: filename=antlr4_python3_runtime-4.9.2-py3-none-any.whl size=144567 sha256=a844db6785d94c0fa5b91e8f953ed0757e50d09b98a429094feff5799203cf7d\n",
            "  Stored in directory: /root/.cache/pip/wheels/14/4c/18/1dbbc9875a2547d2063400ea9f404da4af3331965a71061029\n",
            "  Building wheel for cfgraph (setup.py) ... \u001b[?25l\u001b[?25hdone\n",
            "  Created wheel for cfgraph: filename=CFGraph-0.2.1-py3-none-any.whl size=2232 sha256=a3ef0ed2a117dbf704e56e236444f2d61b96504eb0c30e6482b9506cd260db8e\n",
            "  Stored in directory: /root/.cache/pip/wheels/0a/72/53/b99a09df307fe10189b014245f38060ca20cede2a783bd377c\n",
            "Successfully built antlr4-python3-runtime cfgraph\n",
            "Installing collected packages: jsonasobj, isodate, antlr4-python3-runtime, rdflib, pyjsg, sparqlwrapper, shexjsg, rdflib-jsonld, sparqlslurper, pyshexc, prompt-toolkit, cfgraph, PyShEx, owlrl, ipython, jupyter-rdfify\n",
            "  Attempting uninstall: prompt-toolkit\n",
            "    Found existing installation: prompt-toolkit 1.0.18\n",
            "    Uninstalling prompt-toolkit-1.0.18:\n",
            "      Successfully uninstalled prompt-toolkit-1.0.18\n",
            "  Attempting uninstall: ipython\n",
            "    Found existing installation: ipython 5.5.0\n",
            "    Uninstalling ipython-5.5.0:\n",
            "      Successfully uninstalled ipython-5.5.0\n",
            "\u001b[31mERROR: pip's dependency resolver does not currently take into account all the packages that are installed. This behaviour is the source of the following dependency conflicts.\n",
            "jupyter-console 5.2.0 requires prompt-toolkit<2.0.0,>=1.0.0, but you have prompt-toolkit 3.0.20 which is incompatible.\n",
            "google-colab 1.0.0 requires ipython~=5.5.0, but you have ipython 7.28.0 which is incompatible.\u001b[0m\n",
            "Successfully installed PyShEx-0.7.20 antlr4-python3-runtime-4.9.2 cfgraph-0.2.1 ipython-7.28.0 isodate-0.6.0 jsonasobj-1.3.1 jupyter-rdfify-1.0.1 owlrl-5.2.3 prompt-toolkit-3.0.20 pyjsg-0.11.6 pyshexc-0.8.3 rdflib-5.0.0 rdflib-jsonld-0.6.2 shexjsg-0.7.1 sparqlslurper-0.4.1 sparqlwrapper-1.8.5\n"
          ]
        }
      ]
    },
    {
      "cell_type": "code",
      "metadata": {
        "colab": {
          "base_uri": "https://localhost:8080/"
        },
        "id": "FLuKMOPeTsci",
        "outputId": "39fce90e-9b48-43ad-add2-933a32e20d88"
      },
      "source": [
        "%reload_ext jupyter-rdfify"
      ],
      "execution_count": null,
      "outputs": [
        {
          "output_type": "stream",
          "name": "stderr",
          "text": [
            "/usr/local/lib/python3.7/dist-packages/rdflib_jsonld/__init__.py:12: DeprecationWarning: The rdflib-jsonld package has been integrated into rdflib as of rdflib==6.0.1.  Please remove rdflib-jsonld from your project's dependencies.\n",
            "  DeprecationWarning,\n"
          ]
        },
        {
          "output_type": "display_data",
          "data": {
            "application/javascript": [
              "\n",
              "    if (typeof IPython !== \"undefined\") {\n",
              "        IPython.CodeCell.options_default.highlight_modes['application/sparql-query'] = {'reg':[/^%%rdf sparql/]};\n",
              "        IPython.CodeCell.options_default.highlight_modes['text/turtle'] = {'reg':[/^%%rdf turtle/, /^%%rdf shex/]};\n",
              "        IPython.CodeCell.options_default.highlight_modes['application/ld+json'] = {'reg':[/^%%rdf json-ld/]};\n",
              "        IPython.notebook.get_cells().map(function(cell){ if (cell.cell_type == 'code'){ cell.auto_highlight(); } });\n",
              "    }\n",
              "    "
            ]
          },
          "metadata": {}
        }
      ]
    },
    {
      "cell_type": "markdown",
      "metadata": {
        "id": "2PYjcyPrUMMb"
      },
      "source": [
        "\n",
        "\n",
        "---\n",
        "\n",
        "\n",
        "## **Vocabulary**"
      ]
    },
    {
      "cell_type": "markdown",
      "metadata": {
        "id": "oRNF5EtOsd7m"
      },
      "source": [
        "### **Namespaces**"
      ]
    },
    {
      "cell_type": "markdown",
      "metadata": {
        "id": "hA5x-JE4ryo_"
      },
      "source": [
        "* @prefix rdfs: <http://www.w3.org/2000/01/rdf-schema#> .\n",
        "* @prefix rdf: <http://www.w3.org/1999/02/22-rdf-syntax-ns#> .\n",
        "* @prefix xsd: <http://www.w3.org/2001/XMLSchema#> .\n",
        "* @prefix ex: <http://example.com/> .\n",
        "* @prefix gr: <http://purl.org/goodrelations/v1#>"
      ]
    },
    {
      "cell_type": "markdown",
      "metadata": {
        "id": "9Cc-k4l9q7Xv"
      },
      "source": [
        "### **Classes**"
      ]
    },
    {
      "cell_type": "markdown",
      "metadata": {
        "id": "HmsRVEOZAhTg"
      },
      "source": [
        "Terdapat 3 kelas pada vocabulary ini:\n",
        "* **Kategori**. Contoh: \"beli-smart-tv\". Properti class Kategori adalah:\n",
        " * **memilikiMerk [class:merk]**: Kategori memilikiMerk Toshiba.\n",
        "\n",
        "<br>\n",
        "\n",
        "* **Merk**. Contoh:  \"Toshiba\". Properti class Merk adalah:\n",
        " * **memilikiProduk [class:produk]**: Toshiba memilikiProduk TOSHIBA_Smart_HD_LED_TV_32.\n",
        "\n",
        "<br>\n",
        "\n",
        "\n",
        "* **Produk**. Contoh: \"TOSHIBA_Smart_HD_LED_TV_32\". Properti class Merk adalah:\n",
        " * **memilikiUri [xsd:anyUri]**: TOSHIBA_Smart_HD_LED_TV_32 memilkiUri \"https://www.lazada.co.id/products/toshiba-smart-hd-led-tv-32.html\"\n",
        " * **memilikiHarga [xsd:currency]**: TOSHIBA_Smart_HD_LED_TV_32 memilkiHarga \"2499000\".\n",
        " * **memilikiRating [xsd:integer]**: TOSHIBA_Smart_HD_LED_TV_32 memilkiRating \"4\".\n",
        " * **memilikiTotalReview [xsd:integer]**: TOSHIBA_Smart_HD_LED_TV_32 memilkiTotalReview \"4\".\n",
        " * **memilikiTanggalMasuk [xsd:date]**: TOSHIBA_Smart_HD_LED_TV_32 memilikiTanggalMasuk \"2019-10-02\".\n"
      ]
    },
    {
      "cell_type": "markdown",
      "metadata": {
        "id": "_IJ9n6zdrNE1"
      },
      "source": [
        "### **Instances**"
      ]
    },
    {
      "cell_type": "markdown",
      "metadata": {
        "id": "0ZZTmK9frZlO"
      },
      "source": [
        "#### **Instance 1**"
      ]
    },
    {
      "cell_type": "markdown",
      "metadata": {
        "id": "mslKRrP4pZyv"
      },
      "source": [
        "* beli-smart-tv merupakan Kategori\n",
        "* beli-smart-tv memilikiMerk Toshiba\n",
        "* Toshiba memilikiProduk TOSHIBA_Smart_HD_LED_TV_32\n",
        "* TOSHIBA_Smart_HD_LED_TV_32 merupakan Produk.\n",
        "* TOSHIBA_Smart_HD_LED_TV_32 memilikiUri https://www.lazada.co.id/products/toshiba-smart-hd-led-tv-32.html.\n",
        "* TOSHIBA_Smart_HD_LED_TV_32 memilikiHarga 2499000.\n",
        "* TOSHIBA_Smart_HD_LED_TV_32 memilikiRating 4.\n",
        "* TOSHIBA_Smart_HD_LED_TV_32 memilikiTotalReview 8.\n",
        "* TOSHIBA_Smart_HD_LED_TV_32 memilikiTanggalMasuk 2019-10-02."
      ]
    },
    {
      "cell_type": "code",
      "metadata": {
        "id": "nXZL4AMNA5uR",
        "colab": {
          "base_uri": "https://localhost:8080/"
        },
        "outputId": "120f7012-c089-4a28-dc76-794554092b46"
      },
      "source": [
        "%%rdf turtle\n",
        "@prefix rdfs: <http://www.w3.org/2000/01/rdf-schema#> .\n",
        "@prefix rdf: <http://www.w3.org/1999/02/22-rdf-syntax-ns#> .\n",
        "@prefix xsd: <http://www.w3.org/2001/XMLSchema#> .\n",
        "@prefix ex: <http://example.com/> .\n",
        "\n",
        "######**CLASS**\n",
        "ex:category a rdfs:Class .\n",
        "ex:merk a rdfs:Class .\n",
        "ex:produk a rdfs:Class .\n",
        "\n",
        "####**PROPERTIES**\n",
        "ex:memilkiMerk a rdf:Property .\n",
        "ex:memilkiMerk rdfs:domain ex:category .\n",
        "ex:memilkiMerk rdfs:range ex:merk .\n",
        "ex:memilkiProduk a rdf:Property .\n",
        "ex:memilkiProduk rdfs:domain ex:merk .\n",
        "ex:memilkiProduk rdfs:range ex:produk .\n",
        "ex:memilkiUri a rdf:Property .\n",
        "ex:memilkiUri rdfs:domain ex:produk .\n",
        "ex:memilkiUri rdfs:range xsd:anyUri .\n",
        "ex:memilikiHarga a rdf:Property .\n",
        "ex:memilikiHarga rdfs:domain ex:produk .\n",
        "ex:memilikiHarga rdfs:range xsd:integer .\n",
        "ex:memilikiRating a rdf:Property .\n",
        "ex:memilikiRating rdfs:domain ex:produk .\n",
        "ex:memilikiRating rdfs:range xsd:integer .\n",
        "\n",
        "ex:memilkiTotalReview a rdf:Property .\n",
        "ex:memilkiTotalReview rdfs:domain ex:produk .\n",
        "ex:memilkiTotalReview rdfs:range xsd:integer .\n",
        "ex:memilikiTanggalMasuk a rdf:Property .\n",
        "ex:memilikiTanggalMasuk rdfs:domain ex:produk .\n",
        "ex:memilikiTanggalMasuk rdfs:range xsd:date .\n",
        "\n",
        "#####**INSTANCES**\n",
        "\n",
        "#####\n",
        "ex:TOSHIBA_Smart_HD_LED_TV_32 a ex:produk.\n",
        "ex:TOSHIBA_Smart_HD_LED_TV_32 ex:memilikiUri \"https://www.lazada.co.id/products/toshiba-smart-hd-led-tv-32.html\"^^xsd:anyUri.\n",
        "ex:TOSHIBA_Smart_HD_LED_TV_32 ex:memilikiHarga \"2499000\"^^xsd:integer.\n",
        "ex:TOSHIBA_Smart_HD_LED_TV_32 ex:memilikiRating \"4\"^^xsd:integer.\n",
        "ex:TOSHIBA_Smart_HD_LED_TV_32 ex:memilikiTotalReview \"8\"^^xsd:integer.\n",
        "ex:TOSHIBA_Smart_HD_LED_TV_32 ex:memilikiTanggalMasuk \"2019-10-02\"^^xsd:date.\n",
        "#####\n",
        "\n",
        "ex:beli-smart-tv a ex:category.\n",
        "\n",
        "ex:beli-smart-tv ex:memilikiMerk ex:Toshiba .\n",
        "\n",
        "ex:Toshiba ex:memilkiProduk ex:TOSHIBA_Smart_HD_LED_TV_32.\n",
        "ex:Toshiba a ex:merk.\n",
        "\n",
        "ex:TOSHIBA_Smart_HD_LED_TV_32 a ex:produk.\n",
        "ex:TOSHIBA_Smart_HD_LED_TV_32 ex:memilikiUri \"https://www.lazada.co.id/products/toshiba-smart-hd-led-tv-32.html\"^^xsd:anyUri.\n",
        "ex:TOSHIBA_Smart_HD_LED_TV_32 ex:memilikiHarga \"2499000\"^^xsd:integer. #currency #memiliki produk\n",
        "ex:TOSHIBA_Smart_HD_LED_TV_32 ex:memilikiRating \"4\"^^xsd:integer.\n",
        "ex:TOSHIBA_Smart_HD_LED_TV_32 ex:memilikiTotalReview \"8\"^^xsd:integer.\n",
        "ex:TOSHIBA_Smart_HD_LED_TV_32 ex:memilikiTanggalMasuk \"2019-10-02\"^^xsd:date."
      ],
      "execution_count": null,
      "outputs": [
        {
          "output_type": "display_data",
          "data": {
            "text/plain": [
              "<graphviz.dot.Digraph at 0x7f3f770b4550>"
            ],
            "image/svg+xml": "<?xml version=\"1.0\" encoding=\"UTF-8\" standalone=\"no\"?>\n<!DOCTYPE svg PUBLIC \"-//W3C//DTD SVG 1.1//EN\"\n \"http://www.w3.org/Graphics/SVG/1.1/DTD/svg11.dtd\">\n<!-- Generated by graphviz version 2.40.1 (20161225.0304)\n -->\n<!-- Title: %3 Pages: 1 -->\n<svg width=\"2890pt\" height=\"392pt\"\n viewBox=\"0.00 0.00 2890.50 392.00\" xmlns=\"http://www.w3.org/2000/svg\" xmlns:xlink=\"http://www.w3.org/1999/xlink\">\n<g id=\"graph0\" class=\"graph\" transform=\"scale(1 1) rotate(0) translate(4 388)\">\n<title>%3</title>\n<polygon fill=\"#ffffff\" stroke=\"transparent\" points=\"-4,4 -4,-388 2886.4954,-388 2886.4954,4 -4,4\"/>\n<!-- 0 -->\n<g id=\"node1\" class=\"node\">\n<title>0</title>\n<ellipse fill=\"none\" stroke=\"#000000\" cx=\"213.9954\" cy=\"-192\" rx=\"64.9885\" ry=\"18\"/>\n<text text-anchor=\"middle\" x=\"213.9954\" y=\"-188.3\" font-family=\"Times,serif\" font-size=\"14.00\" fill=\"#000000\">ex:memilkiUri</text>\n</g>\n<!-- 10 -->\n<g id=\"node11\" class=\"node\">\n<title>10</title>\n<ellipse fill=\"none\" stroke=\"#000000\" cx=\"51.9954\" cy=\"-105\" rx=\"51.9908\" ry=\"18\"/>\n<text text-anchor=\"middle\" x=\"51.9954\" y=\"-101.3\" font-family=\"Times,serif\" font-size=\"14.00\" fill=\"#000000\">xsd:anyUri</text>\n</g>\n<!-- 0&#45;&gt;10 -->\n<g id=\"edge16\" class=\"edge\">\n<title>0&#45;&gt;10</title>\n<path fill=\"none\" stroke=\"#000000\" d=\"M156.4368,-183.5095C121.7652,-177.316 81.8987,-167.9294 68.9954,-156 62.5642,-150.0542 58.5637,-141.6143 56.0759,-133.3078\"/>\n<polygon fill=\"#000000\" stroke=\"#000000\" points=\"59.4437,-132.3406 53.73,-123.4185 52.6327,-133.9564 59.4437,-132.3406\"/>\n<text text-anchor=\"middle\" x=\"97.9954\" y=\"-144.8\" font-family=\"Times,serif\" font-size=\"14.00\" fill=\"#000000\">rdfs:range</text>\n</g>\n<!-- 19 -->\n<g id=\"node20\" class=\"node\">\n<title>19</title>\n<ellipse fill=\"none\" stroke=\"#000000\" cx=\"984.9954\" cy=\"-105\" rx=\"55.7903\" ry=\"18\"/>\n<text text-anchor=\"middle\" x=\"984.9954\" y=\"-101.3\" font-family=\"Times,serif\" font-size=\"14.00\" fill=\"#000000\">rdf:Property</text>\n</g>\n<!-- 0&#45;&gt;19 -->\n<g id=\"edge15\" class=\"edge\">\n<title>0&#45;&gt;19</title>\n<path fill=\"none\" stroke=\"#000000\" d=\"M245.2583,-176.141C273.6176,-161.8903 312.1584,-142.9113 319.9954,-141 449.5902,-109.3937 788.1014,-142.9436 919.9954,-123 925.0046,-122.2426 930.1772,-121.227 935.315,-120.0622\"/>\n<polygon fill=\"#000000\" stroke=\"#000000\" points=\"936.219,-123.4444 945.1,-117.667 934.5546,-116.6451 936.219,-123.4444\"/>\n<text text-anchor=\"middle\" x=\"342.9954\" y=\"-144.8\" font-family=\"Times,serif\" font-size=\"14.00\" fill=\"#000000\">rdf:type</text>\n</g>\n<!-- 22 -->\n<g id=\"node23\" class=\"node\">\n<title>22</title>\n<ellipse fill=\"none\" stroke=\"#000000\" cx=\"861.9954\" cy=\"-105\" rx=\"49.2915\" ry=\"18\"/>\n<text text-anchor=\"middle\" x=\"861.9954\" y=\"-101.3\" font-family=\"Times,serif\" font-size=\"14.00\" fill=\"#000000\">ex:produk</text>\n</g>\n<!-- 0&#45;&gt;22 -->\n<g id=\"edge10\" class=\"edge\">\n<title>0&#45;&gt;22</title>\n<path fill=\"none\" stroke=\"#000000\" d=\"M208.7595,-173.6167C206.8673,-162.7097 206.8795,-149.4133 214.9954,-141 225.134,-130.4899 644.6706,-113.3384 802.652,-107.2394\"/>\n<polygon fill=\"#000000\" stroke=\"#000000\" points=\"802.8146,-110.7358 812.6726,-106.8538 802.5454,-103.741 802.8146,-110.7358\"/>\n<text text-anchor=\"middle\" x=\"249.9954\" y=\"-144.8\" font-family=\"Times,serif\" font-size=\"14.00\" fill=\"#000000\">rdfs:domain</text>\n</g>\n<!-- 1 -->\n<g id=\"node2\" class=\"node\">\n<title>1</title>\n<polygon fill=\"none\" stroke=\"#000000\" points=\"2246.4954,-123 2133.4954,-123 2133.4954,-87 2246.4954,-87 2246.4954,-123\"/>\n<text text-anchor=\"middle\" x=\"2189.9954\" y=\"-101.3\" font-family=\"Times,serif\" font-size=\"14.00\" fill=\"#000000\">&quot;4&quot;^^xsd:integer</text>\n</g>\n<!-- 2 -->\n<g id=\"node3\" class=\"node\">\n<title>2</title>\n<ellipse fill=\"none\" stroke=\"#000000\" cx=\"867.9954\" cy=\"-192\" rx=\"77.1866\" ry=\"18\"/>\n<text text-anchor=\"middle\" x=\"867.9954\" y=\"-188.3\" font-family=\"Times,serif\" font-size=\"14.00\" fill=\"#000000\">ex:memilikiHarga</text>\n</g>\n<!-- 11 -->\n<g id=\"node12\" class=\"node\">\n<title>11</title>\n<ellipse fill=\"none\" stroke=\"#000000\" cx=\"375.9954\" cy=\"-105\" rx=\"51.9908\" ry=\"18\"/>\n<text text-anchor=\"middle\" x=\"375.9954\" y=\"-101.3\" font-family=\"Times,serif\" font-size=\"14.00\" fill=\"#000000\">xsd:integer</text>\n</g>\n<!-- 2&#45;&gt;11 -->\n<g id=\"edge20\" class=\"edge\">\n<title>2&#45;&gt;11</title>\n<path fill=\"none\" stroke=\"#000000\" d=\"M811.6903,-179.4776C801.8214,-177.494 791.6294,-175.5793 781.9954,-174 715.2994,-163.0665 696.1856,-173.8364 630.9954,-156 615.0646,-151.6412 612.8292,-145.6989 596.9954,-141 543.924,-125.2503 481.5101,-115.883 436.5704,-110.671\"/>\n<polygon fill=\"#000000\" stroke=\"#000000\" points=\"436.7279,-107.1668 426.3995,-109.5276 435.9459,-114.1229 436.7279,-107.1668\"/>\n<text text-anchor=\"middle\" x=\"659.9954\" y=\"-144.8\" font-family=\"Times,serif\" font-size=\"14.00\" fill=\"#000000\">rdfs:range</text>\n</g>\n<!-- 2&#45;&gt;19 -->\n<g id=\"edge14\" class=\"edge\">\n<title>2&#45;&gt;19</title>\n<path fill=\"none\" stroke=\"#000000\" d=\"M901.462,-175.7051C911.9288,-170.0279 923.2746,-163.2487 932.9954,-156 943.1878,-148.3996 953.3954,-138.9021 962.034,-130.1703\"/>\n<polygon fill=\"#000000\" stroke=\"#000000\" points=\"964.7579,-132.3879 969.1818,-122.7608 959.7199,-127.5279 964.7579,-132.3879\"/>\n<text text-anchor=\"middle\" x=\"971.9954\" y=\"-144.8\" font-family=\"Times,serif\" font-size=\"14.00\" fill=\"#000000\">rdf:type</text>\n</g>\n<!-- 2&#45;&gt;22 -->\n<g id=\"edge1\" class=\"edge\">\n<title>2&#45;&gt;22</title>\n<path fill=\"none\" stroke=\"#000000\" d=\"M865.0312,-173.7317C864.2267,-168.0642 863.4524,-161.7872 862.9954,-156 862.4239,-148.7635 862.1159,-140.9325 861.9612,-133.6296\"/>\n<polygon fill=\"#000000\" stroke=\"#000000\" points=\"865.4586,-133.3932 861.8314,-123.4386 858.4591,-133.4824 865.4586,-133.3932\"/>\n<text text-anchor=\"middle\" x=\"897.9954\" y=\"-144.8\" font-family=\"Times,serif\" font-size=\"14.00\" fill=\"#000000\">rdfs:domain</text>\n</g>\n<!-- 3 -->\n<g id=\"node4\" class=\"node\">\n<title>3</title>\n<ellipse fill=\"none\" stroke=\"#000000\" cx=\"1266.9954\" cy=\"-105\" rx=\"41.6928\" ry=\"18\"/>\n<text text-anchor=\"middle\" x=\"1266.9954\" y=\"-101.3\" font-family=\"Times,serif\" font-size=\"14.00\" fill=\"#000000\">xsd:date</text>\n</g>\n<!-- 4 -->\n<g id=\"node5\" class=\"node\">\n<title>4</title>\n<ellipse fill=\"none\" stroke=\"#000000\" cx=\"692.9954\" cy=\"-192\" rx=\"79.8859\" ry=\"18\"/>\n<text text-anchor=\"middle\" x=\"692.9954\" y=\"-188.3\" font-family=\"Times,serif\" font-size=\"14.00\" fill=\"#000000\">ex:memilikiRating</text>\n</g>\n<!-- 4&#45;&gt;11 -->\n<g id=\"edge8\" class=\"edge\">\n<title>4&#45;&gt;11</title>\n<path fill=\"none\" stroke=\"#000000\" d=\"M626.4989,-181.9896C607.0239,-179.2165 585.6772,-176.3308 565.9954,-174 545.0467,-171.5192 391.3394,-171.4677 376.9954,-156 371.4065,-149.9733 369.7386,-141.613 369.8833,-133.4033\"/>\n<polygon fill=\"#000000\" stroke=\"#000000\" points=\"373.384,-133.566 370.8772,-123.2721 366.4175,-132.8825 373.384,-133.566\"/>\n<text text-anchor=\"middle\" x=\"405.9954\" y=\"-144.8\" font-family=\"Times,serif\" font-size=\"14.00\" fill=\"#000000\">rdfs:range</text>\n</g>\n<!-- 4&#45;&gt;19 -->\n<g id=\"edge13\" class=\"edge\">\n<title>4&#45;&gt;19</title>\n<path fill=\"none\" stroke=\"#000000\" d=\"M728.4118,-175.7072C757.2342,-162.6579 795.7098,-145.7716 811.9954,-141 858.6943,-127.3173 872.4814,-133.5079 919.9954,-123 924.424,-122.0206 929.0005,-120.9255 933.5788,-119.7721\"/>\n<polygon fill=\"#000000\" stroke=\"#000000\" points=\"934.7522,-123.0834 943.5476,-117.1764 932.9883,-116.3092 934.7522,-123.0834\"/>\n<text text-anchor=\"middle\" x=\"834.9954\" y=\"-144.8\" font-family=\"Times,serif\" font-size=\"14.00\" fill=\"#000000\">rdf:type</text>\n</g>\n<!-- 4&#45;&gt;22 -->\n<g id=\"edge23\" class=\"edge\">\n<title>4&#45;&gt;22</title>\n<path fill=\"none\" stroke=\"#000000\" d=\"M691.1125,-173.7694C691.0295,-162.9199 692.9036,-149.6303 700.9954,-141 715.0369,-126.024 763.8365,-116.5319 804.0645,-111.0779\"/>\n<polygon fill=\"#000000\" stroke=\"#000000\" points=\"804.6148,-114.536 814.0809,-109.7775 803.7135,-107.5942 804.6148,-114.536\"/>\n<text text-anchor=\"middle\" x=\"735.9954\" y=\"-144.8\" font-family=\"Times,serif\" font-size=\"14.00\" fill=\"#000000\">rdfs:domain</text>\n</g>\n<!-- 5 -->\n<g id=\"node6\" class=\"node\">\n<title>5</title>\n<ellipse fill=\"none\" stroke=\"#000000\" cx=\"1576.9954\" cy=\"-105\" rx=\"53.8905\" ry=\"18\"/>\n<text text-anchor=\"middle\" x=\"1576.9954\" y=\"-101.3\" font-family=\"Times,serif\" font-size=\"14.00\" fill=\"#000000\">ex:category</text>\n</g>\n<!-- 6 -->\n<g id=\"node7\" class=\"node\">\n<title>6</title>\n<ellipse fill=\"none\" stroke=\"#000000\" cx=\"1576.9954\" cy=\"-18\" rx=\"46.5926\" ry=\"18\"/>\n<text text-anchor=\"middle\" x=\"1576.9954\" y=\"-14.3\" font-family=\"Times,serif\" font-size=\"14.00\" fill=\"#000000\">rdfs:Class</text>\n</g>\n<!-- 5&#45;&gt;6 -->\n<g id=\"edge26\" class=\"edge\">\n<title>5&#45;&gt;6</title>\n<path fill=\"none\" stroke=\"#000000\" d=\"M1576.9954,-86.9735C1576.9954,-75.1918 1576.9954,-59.5607 1576.9954,-46.1581\"/>\n<polygon fill=\"#000000\" stroke=\"#000000\" points=\"1580.4955,-46.0033 1576.9954,-36.0034 1573.4955,-46.0034 1580.4955,-46.0033\"/>\n<text text-anchor=\"middle\" x=\"1599.9954\" y=\"-57.8\" font-family=\"Times,serif\" font-size=\"14.00\" fill=\"#000000\">rdf:type</text>\n</g>\n<!-- 7 -->\n<g id=\"node8\" class=\"node\">\n<title>7</title>\n<ellipse fill=\"none\" stroke=\"#000000\" cx=\"1586.9954\" cy=\"-366\" rx=\"68.7879\" ry=\"18\"/>\n<text text-anchor=\"middle\" x=\"1586.9954\" y=\"-362.3\" font-family=\"Times,serif\" font-size=\"14.00\" fill=\"#000000\">ex:beli&#45;smart&#45;tv</text>\n</g>\n<!-- 7&#45;&gt;5 -->\n<g id=\"edge11\" class=\"edge\">\n<title>7&#45;&gt;5</title>\n<path fill=\"none\" stroke=\"#000000\" d=\"M1586.2922,-347.647C1584.5745,-302.8139 1580.1548,-187.4607 1578.0895,-133.5557\"/>\n<polygon fill=\"#000000\" stroke=\"#000000\" points=\"1581.5782,-133.1914 1577.6978,-123.3327 1574.5833,-133.4594 1581.5782,-133.1914\"/>\n<text text-anchor=\"middle\" x=\"1604.9954\" y=\"-231.8\" font-family=\"Times,serif\" font-size=\"14.00\" fill=\"#000000\">rdf:type</text>\n</g>\n<!-- 8 -->\n<g id=\"node9\" class=\"node\">\n<title>8</title>\n<ellipse fill=\"none\" stroke=\"#000000\" cx=\"1838.9954\" cy=\"-279\" rx=\"51.9908\" ry=\"18\"/>\n<text text-anchor=\"middle\" x=\"1838.9954\" y=\"-275.3\" font-family=\"Times,serif\" font-size=\"14.00\" fill=\"#000000\">ex:Toshiba</text>\n</g>\n<!-- 7&#45;&gt;8 -->\n<g id=\"edge2\" class=\"edge\">\n<title>7&#45;&gt;8</title>\n<path fill=\"none\" stroke=\"#000000\" d=\"M1628.6081,-351.6337C1673.6346,-336.0888 1745.2699,-311.3576 1792.2168,-295.1498\"/>\n<polygon fill=\"#000000\" stroke=\"#000000\" points=\"1793.5312,-298.3987 1801.8416,-291.8269 1791.2468,-291.782 1793.5312,-298.3987\"/>\n<text text-anchor=\"middle\" x=\"1777.9954\" y=\"-318.8\" font-family=\"Times,serif\" font-size=\"14.00\" fill=\"#000000\">ex:memilikiMerk</text>\n</g>\n<!-- 16 -->\n<g id=\"node17\" class=\"node\">\n<title>16</title>\n<ellipse fill=\"none\" stroke=\"#000000\" cx=\"2066.9954\" cy=\"-192\" rx=\"163.5712\" ry=\"18\"/>\n<text text-anchor=\"middle\" x=\"2066.9954\" y=\"-188.3\" font-family=\"Times,serif\" font-size=\"14.00\" fill=\"#000000\">ex:TOSHIBA_Smart_HD_LED_TV_32</text>\n</g>\n<!-- 8&#45;&gt;16 -->\n<g id=\"edge33\" class=\"edge\">\n<title>8&#45;&gt;16</title>\n<path fill=\"none\" stroke=\"#000000\" d=\"M1874.1207,-265.5969C1910.9342,-251.5497 1969.2714,-229.2894 2012.1567,-212.9253\"/>\n<polygon fill=\"#000000\" stroke=\"#000000\" points=\"2013.5107,-216.1548 2021.6059,-209.3197 2011.0152,-209.6148 2013.5107,-216.1548\"/>\n<text text-anchor=\"middle\" x=\"2019.9954\" y=\"-231.8\" font-family=\"Times,serif\" font-size=\"14.00\" fill=\"#000000\">ex:memilkiProduk</text>\n</g>\n<!-- 20 -->\n<g id=\"node21\" class=\"node\">\n<title>20</title>\n<ellipse fill=\"none\" stroke=\"#000000\" cx=\"1698.9954\" cy=\"-105\" rx=\"40.8928\" ry=\"18\"/>\n<text text-anchor=\"middle\" x=\"1698.9954\" y=\"-101.3\" font-family=\"Times,serif\" font-size=\"14.00\" fill=\"#000000\">ex:merk</text>\n</g>\n<!-- 8&#45;&gt;20 -->\n<g id=\"edge3\" class=\"edge\">\n<title>8&#45;&gt;20</title>\n<path fill=\"none\" stroke=\"#000000\" d=\"M1840.2049,-260.81C1841.1079,-231.7373 1838.5051,-174.6573 1807.9954,-141 1805.6054,-138.3634 1771.9423,-127.4597 1742.652,-118.3361\"/>\n<polygon fill=\"#000000\" stroke=\"#000000\" points=\"1743.5258,-114.9428 1732.9379,-115.3248 1741.4531,-121.6289 1743.5258,-114.9428\"/>\n<text text-anchor=\"middle\" x=\"1859.9954\" y=\"-188.3\" font-family=\"Times,serif\" font-size=\"14.00\" fill=\"#000000\">rdf:type</text>\n</g>\n<!-- 9 -->\n<g id=\"node10\" class=\"node\">\n<title>9</title>\n<polygon fill=\"none\" stroke=\"#000000\" points=\"2377.4954,-123 2264.4954,-123 2264.4954,-87 2377.4954,-87 2377.4954,-123\"/>\n<text text-anchor=\"middle\" x=\"2320.9954\" y=\"-101.3\" font-family=\"Times,serif\" font-size=\"14.00\" fill=\"#000000\">&quot;8&quot;^^xsd:integer</text>\n</g>\n<!-- 12 -->\n<g id=\"node13\" class=\"node\">\n<title>12</title>\n<polygon fill=\"none\" stroke=\"#000000\" points=\"2882.4954,-123 2395.4954,-123 2395.4954,-87 2882.4954,-87 2882.4954,-123\"/>\n<text text-anchor=\"middle\" x=\"2638.9954\" y=\"-101.3\" font-family=\"Times,serif\" font-size=\"14.00\" fill=\"#000000\">&quot;https://www.lazada.co.id/products/toshiba&#45;smart&#45;hd&#45;led&#45;tv&#45;32.html&quot;^^xsd:anyUri</text>\n</g>\n<!-- 13 -->\n<g id=\"node14\" class=\"node\">\n<title>13</title>\n<polygon fill=\"none\" stroke=\"#000000\" points=\"1927.9954,-123 1769.9954,-123 1769.9954,-87 1927.9954,-87 1927.9954,-123\"/>\n<text text-anchor=\"middle\" x=\"1848.9954\" y=\"-101.3\" font-family=\"Times,serif\" font-size=\"14.00\" fill=\"#000000\">&quot;2499000&quot;^^xsd:integer</text>\n</g>\n<!-- 14 -->\n<g id=\"node15\" class=\"node\">\n<title>14</title>\n<ellipse fill=\"none\" stroke=\"#000000\" cx=\"1167.9954\" cy=\"-192\" rx=\"110.4804\" ry=\"18\"/>\n<text text-anchor=\"middle\" x=\"1167.9954\" y=\"-188.3\" font-family=\"Times,serif\" font-size=\"14.00\" fill=\"#000000\">ex:memilikiTanggalMasuk</text>\n</g>\n<!-- 14&#45;&gt;3 -->\n<g id=\"edge6\" class=\"edge\">\n<title>14&#45;&gt;3</title>\n<path fill=\"none\" stroke=\"#000000\" d=\"M1216.6814,-175.7721C1226.9634,-170.6607 1237.0824,-164.1547 1244.9954,-156 1251.2017,-149.6041 1255.7942,-141.1792 1259.1292,-133.0238\"/>\n<polygon fill=\"#000000\" stroke=\"#000000\" points=\"1262.5122,-133.9588 1262.5975,-123.3643 1255.924,-131.5932 1262.5122,-133.9588\"/>\n<text text-anchor=\"middle\" x=\"1283.9954\" y=\"-144.8\" font-family=\"Times,serif\" font-size=\"14.00\" fill=\"#000000\">rdfs:range</text>\n</g>\n<!-- 14&#45;&gt;19 -->\n<g id=\"edge9\" class=\"edge\">\n<title>14&#45;&gt;19</title>\n<path fill=\"none\" stroke=\"#000000\" d=\"M1177.3062,-173.6159C1181.2528,-162.9806 1183.432,-149.9692 1175.9954,-141 1160.1609,-121.9022 1099.5033,-112.8663 1050.7376,-108.6343\"/>\n<polygon fill=\"#000000\" stroke=\"#000000\" points=\"1050.7838,-105.1265 1040.5324,-107.8022 1050.2149,-112.1033 1050.7838,-105.1265\"/>\n<text text-anchor=\"middle\" x=\"1202.9954\" y=\"-144.8\" font-family=\"Times,serif\" font-size=\"14.00\" fill=\"#000000\">rdf:type</text>\n</g>\n<!-- 14&#45;&gt;22 -->\n<g id=\"edge29\" class=\"edge\">\n<title>14&#45;&gt;22</title>\n<path fill=\"none\" stroke=\"#000000\" d=\"M1096.9349,-178.2058C1073.5777,-172.5987 1047.7737,-165.229 1024.9954,-156 1012.631,-150.9904 1011.4156,-145.8696 998.9954,-141 965.4691,-127.8554 954.773,-132.3437 919.9954,-123 916.3712,-122.0263 912.6336,-120.9754 908.8841,-119.8875\"/>\n<polygon fill=\"#000000\" stroke=\"#000000\" points=\"909.584,-116.4443 899.0013,-116.9495 907.5892,-123.1541 909.584,-116.4443\"/>\n<text text-anchor=\"middle\" x=\"1059.9954\" y=\"-144.8\" font-family=\"Times,serif\" font-size=\"14.00\" fill=\"#000000\">rdfs:domain</text>\n</g>\n<!-- 15 -->\n<g id=\"node16\" class=\"node\">\n<title>15</title>\n<ellipse fill=\"none\" stroke=\"#000000\" cx=\"1671.9954\" cy=\"-192\" rx=\"72.5877\" ry=\"18\"/>\n<text text-anchor=\"middle\" x=\"1671.9954\" y=\"-188.3\" font-family=\"Times,serif\" font-size=\"14.00\" fill=\"#000000\">ex:memilkiMerk</text>\n</g>\n<!-- 15&#45;&gt;5 -->\n<g id=\"edge22\" class=\"edge\">\n<title>15&#45;&gt;5</title>\n<path fill=\"none\" stroke=\"#000000\" d=\"M1634.3156,-176.589C1623.9843,-171.1441 1613.3429,-164.2724 1604.9954,-156 1598.2188,-149.2844 1592.6311,-140.5817 1588.2775,-132.2724\"/>\n<polygon fill=\"#000000\" stroke=\"#000000\" points=\"1591.3895,-130.6679 1583.889,-123.1851 1585.086,-133.7121 1591.3895,-130.6679\"/>\n<text text-anchor=\"middle\" x=\"1639.9954\" y=\"-144.8\" font-family=\"Times,serif\" font-size=\"14.00\" fill=\"#000000\">rdfs:domain</text>\n</g>\n<!-- 15&#45;&gt;19 -->\n<g id=\"edge24\" class=\"edge\">\n<title>15&#45;&gt;19</title>\n<path fill=\"none\" stroke=\"#000000\" d=\"M1601.2145,-187.6901C1550.2231,-183.1856 1480.2521,-174.107 1420.9954,-156 1406.3576,-151.5271 1404.7482,-145.0775 1389.9954,-141 1373.8718,-136.5436 1159.5194,-118.9445 1049.3785,-110.1124\"/>\n<polygon fill=\"#000000\" stroke=\"#000000\" points=\"1049.6246,-106.621 1039.3771,-109.3116 1049.0658,-113.5987 1049.6246,-106.621\"/>\n<text text-anchor=\"middle\" x=\"1443.9954\" y=\"-144.8\" font-family=\"Times,serif\" font-size=\"14.00\" fill=\"#000000\">rdf:type</text>\n</g>\n<!-- 15&#45;&gt;20 -->\n<g id=\"edge4\" class=\"edge\">\n<title>15&#45;&gt;20</title>\n<path fill=\"none\" stroke=\"#000000\" d=\"M1718.5892,-178.031C1728.6507,-172.7693 1738.0441,-165.6294 1743.9954,-156 1750.7891,-145.0075 1743.5507,-134.0932 1733.0358,-125.1991\"/>\n<polygon fill=\"#000000\" stroke=\"#000000\" points=\"1735.0464,-122.3318 1724.954,-119.1077 1730.8331,-127.9217 1735.0464,-122.3318\"/>\n<text text-anchor=\"middle\" x=\"1774.9954\" y=\"-144.8\" font-family=\"Times,serif\" font-size=\"14.00\" fill=\"#000000\">rdfs:range</text>\n</g>\n<!-- 16&#45;&gt;1 -->\n<g id=\"edge12\" class=\"edge\">\n<title>16&#45;&gt;1</title>\n<path fill=\"none\" stroke=\"#000000\" d=\"M2138.0912,-175.7086C2149.3822,-170.766 2160.2137,-164.3422 2168.9954,-156 2175.5819,-149.7431 2180.1707,-141.1191 2183.3379,-132.7419\"/>\n<polygon fill=\"#000000\" stroke=\"#000000\" points=\"2186.684,-133.7698 2186.4375,-123.1778 2180.0249,-131.6117 2186.684,-133.7698\"/>\n<text text-anchor=\"middle\" x=\"2232.4954\" y=\"-144.8\" font-family=\"Times,serif\" font-size=\"14.00\" fill=\"#000000\">ex:memilikiRating</text>\n</g>\n<!-- 16&#45;&gt;9 -->\n<g id=\"edge31\" class=\"edge\">\n<title>16&#45;&gt;9</title>\n<path fill=\"none\" stroke=\"#000000\" d=\"M2194.2857,-180.6726C2234.82,-175.1104 2273.443,-167.139 2289.9954,-156 2298.6085,-150.2038 2305.2282,-141.1323 2310.0955,-132.2372\"/>\n<polygon fill=\"#000000\" stroke=\"#000000\" points=\"2313.2787,-133.6953 2314.5434,-123.1762 2306.9949,-130.6106 2313.2787,-133.6953\"/>\n<text text-anchor=\"middle\" x=\"2374.9954\" y=\"-144.8\" font-family=\"Times,serif\" font-size=\"14.00\" fill=\"#000000\">ex:memilikiTotalReview</text>\n</g>\n<!-- 16&#45;&gt;12 -->\n<g id=\"edge32\" class=\"edge\">\n<title>16&#45;&gt;12</title>\n<path fill=\"none\" stroke=\"#000000\" d=\"M2214.1953,-184.0345C2285.7503,-178.6721 2372.7705,-169.9442 2449.9954,-156 2491.1135,-148.5755 2536.3276,-136.5199 2572.2205,-125.9936\"/>\n<polygon fill=\"#000000\" stroke=\"#000000\" points=\"2573.4923,-129.2673 2582.0858,-123.0704 2571.5035,-122.5557 2573.4923,-129.2673\"/>\n<text text-anchor=\"middle\" x=\"2556.9954\" y=\"-144.8\" font-family=\"Times,serif\" font-size=\"14.00\" fill=\"#000000\">ex:memilikiUri</text>\n</g>\n<!-- 16&#45;&gt;13 -->\n<g id=\"edge30\" class=\"edge\">\n<title>16&#45;&gt;13</title>\n<path fill=\"none\" stroke=\"#000000\" d=\"M1964.0695,-177.9467C1943.4592,-172.7658 1922.479,-165.6822 1903.9954,-156 1891.7987,-149.6111 1880.2946,-139.7997 1870.9917,-130.4828\"/>\n<polygon fill=\"#000000\" stroke=\"#000000\" points=\"1873.4683,-128.0083 1864.0317,-123.1917 1868.405,-132.8418 1873.4683,-128.0083\"/>\n<text text-anchor=\"middle\" x=\"1955.4954\" y=\"-144.8\" font-family=\"Times,serif\" font-size=\"14.00\" fill=\"#000000\">ex:memilikiHarga</text>\n</g>\n<!-- 18 -->\n<g id=\"node19\" class=\"node\">\n<title>18</title>\n<polygon fill=\"none\" stroke=\"#000000\" points=\"2103.9954,-123 1945.9954,-123 1945.9954,-87 2103.9954,-87 2103.9954,-123\"/>\n<text text-anchor=\"middle\" x=\"2024.9954\" y=\"-101.3\" font-family=\"Times,serif\" font-size=\"14.00\" fill=\"#000000\">&quot;2019&#45;10&#45;02&quot;^^xsd:date</text>\n</g>\n<!-- 16&#45;&gt;18 -->\n<g id=\"edge19\" class=\"edge\">\n<title>16&#45;&gt;18</title>\n<path fill=\"none\" stroke=\"#000000\" d=\"M2031.5015,-174.3986C2024.8631,-169.4048 2018.8174,-163.2945 2014.9954,-156 2011.3267,-148.9981 2011.3402,-140.8157 2012.9453,-133.0807\"/>\n<polygon fill=\"#000000\" stroke=\"#000000\" points=\"2016.3559,-133.8872 2015.7964,-123.3071 2009.636,-131.9269 2016.3559,-133.8872\"/>\n<text text-anchor=\"middle\" x=\"2091.9954\" y=\"-144.8\" font-family=\"Times,serif\" font-size=\"14.00\" fill=\"#000000\">ex:memilikiTanggalMasuk</text>\n</g>\n<!-- 16&#45;&gt;22 -->\n<g id=\"edge34\" class=\"edge\">\n<title>16&#45;&gt;22</title>\n<path fill=\"none\" stroke=\"#000000\" d=\"M1946.8456,-179.7057C1927.5047,-177.7682 1907.6996,-175.809 1888.9954,-174 1845.6799,-169.8108 1734.4059,-172.1483 1693.9954,-156 1684.0047,-152.0076 1685.1164,-144.6494 1674.9954,-141 1596.0574,-112.5371 1002.8043,-136.5658 919.9954,-123 915.7816,-122.3097 911.4494,-121.3873 907.1417,-120.3235\"/>\n<polygon fill=\"#000000\" stroke=\"#000000\" points=\"907.77,-116.8675 897.2024,-117.6275 905.9374,-123.6234 907.77,-116.8675\"/>\n<text text-anchor=\"middle\" x=\"1716.9954\" y=\"-144.8\" font-family=\"Times,serif\" font-size=\"14.00\" fill=\"#000000\">rdf:type</text>\n</g>\n<!-- 17 -->\n<g id=\"node18\" class=\"node\">\n<title>17</title>\n<ellipse fill=\"none\" stroke=\"#000000\" cx=\"456.9954\" cy=\"-192\" rx=\"100.1823\" ry=\"18\"/>\n<text text-anchor=\"middle\" x=\"456.9954\" y=\"-188.3\" font-family=\"Times,serif\" font-size=\"14.00\" fill=\"#000000\">ex:memilkiTotalReview</text>\n</g>\n<!-- 17&#45;&gt;11 -->\n<g id=\"edge7\" class=\"edge\">\n<title>17&#45;&gt;11</title>\n<path fill=\"none\" stroke=\"#000000\" d=\"M370.7815,-182.7374C275.4361,-172.4437 134.9889,-157.1104 133.9954,-156 129.5501,-151.0317 129.6419,-146.049 133.9954,-141 145.703,-127.422 247.2249,-116.0954 315.0033,-109.9564\"/>\n<polygon fill=\"#000000\" stroke=\"#000000\" points=\"315.5077,-113.4254 325.1579,-109.0523 314.8869,-106.453 315.5077,-113.4254\"/>\n<text text-anchor=\"middle\" x=\"162.9954\" y=\"-144.8\" font-family=\"Times,serif\" font-size=\"14.00\" fill=\"#000000\">rdfs:range</text>\n</g>\n<!-- 17&#45;&gt;19 -->\n<g id=\"edge27\" class=\"edge\">\n<title>17&#45;&gt;19</title>\n<path fill=\"none\" stroke=\"#000000\" d=\"M493.522,-175.2207C504.8348,-169.5666 517.166,-162.9226 527.9954,-156 537.0604,-150.2053 536.9196,-144.7725 546.9954,-141 624.712,-111.902 838.0593,-136.1544 919.9954,-123 924.8006,-122.2285 929.7588,-121.2331 934.6937,-120.1068\"/>\n<polygon fill=\"#000000\" stroke=\"#000000\" points=\"935.8575,-123.4251 944.734,-117.6409 934.1878,-116.6271 935.8575,-123.4251\"/>\n<text text-anchor=\"middle\" x=\"569.9954\" y=\"-144.8\" font-family=\"Times,serif\" font-size=\"14.00\" fill=\"#000000\">rdf:type</text>\n</g>\n<!-- 17&#45;&gt;22 -->\n<g id=\"edge25\" class=\"edge\">\n<title>17&#45;&gt;22</title>\n<path fill=\"none\" stroke=\"#000000\" d=\"M451.8589,-173.7109C450.004,-162.8394 450.0207,-149.5472 457.9954,-141 480.9789,-116.3666 695.3771,-108.4446 802.1548,-106.0148\"/>\n<polygon fill=\"#000000\" stroke=\"#000000\" points=\"802.5316,-109.5075 812.4527,-105.7899 802.3787,-102.5091 802.5316,-109.5075\"/>\n<text text-anchor=\"middle\" x=\"492.9954\" y=\"-144.8\" font-family=\"Times,serif\" font-size=\"14.00\" fill=\"#000000\">rdfs:domain</text>\n</g>\n<!-- 20&#45;&gt;6 -->\n<g id=\"edge18\" class=\"edge\">\n<title>20&#45;&gt;6</title>\n<path fill=\"none\" stroke=\"#000000\" d=\"M1677.4651,-89.6464C1658.1404,-75.8657 1629.5542,-55.4804 1607.8098,-39.9742\"/>\n<polygon fill=\"#000000\" stroke=\"#000000\" points=\"1609.7238,-37.0404 1599.5498,-34.0839 1605.6596,-42.7397 1609.7238,-37.0404\"/>\n<text text-anchor=\"middle\" x=\"1667.9954\" y=\"-57.8\" font-family=\"Times,serif\" font-size=\"14.00\" fill=\"#000000\">rdf:type</text>\n</g>\n<!-- 21 -->\n<g id=\"node22\" class=\"node\">\n<title>21</title>\n<ellipse fill=\"none\" stroke=\"#000000\" cx=\"1376.9954\" cy=\"-192\" rx=\"80.6858\" ry=\"18\"/>\n<text text-anchor=\"middle\" x=\"1376.9954\" y=\"-188.3\" font-family=\"Times,serif\" font-size=\"14.00\" fill=\"#000000\">ex:memilkiProduk</text>\n</g>\n<!-- 21&#45;&gt;19 -->\n<g id=\"edge21\" class=\"edge\">\n<title>21&#45;&gt;19</title>\n<path fill=\"none\" stroke=\"#000000\" d=\"M1361.5503,-174.2342C1350.4075,-162.693 1334.3261,-148.4554 1316.9954,-141 1293.0854,-130.7143 1139.3512,-117.1443 1049.6967,-109.9591\"/>\n<polygon fill=\"#000000\" stroke=\"#000000\" points=\"1049.8738,-106.4623 1039.6276,-109.1574 1049.3182,-113.4402 1049.8738,-106.4623\"/>\n<text text-anchor=\"middle\" x=\"1362.9954\" y=\"-144.8\" font-family=\"Times,serif\" font-size=\"14.00\" fill=\"#000000\">rdf:type</text>\n</g>\n<!-- 21&#45;&gt;20 -->\n<g id=\"edge5\" class=\"edge\">\n<title>21&#45;&gt;20</title>\n<path fill=\"none\" stroke=\"#000000\" d=\"M1414.9325,-176.061C1443.1764,-164.7669 1482.9211,-150.067 1518.9954,-141 1571.7249,-127.7468 1586.9589,-134.9656 1639.9954,-123 1645.3493,-121.7921 1650.9241,-120.3464 1656.4169,-118.8066\"/>\n<polygon fill=\"#000000\" stroke=\"#000000\" points=\"1657.5319,-122.1272 1666.1497,-115.9642 1655.5695,-115.4079 1657.5319,-122.1272\"/>\n<text text-anchor=\"middle\" x=\"1553.9954\" y=\"-144.8\" font-family=\"Times,serif\" font-size=\"14.00\" fill=\"#000000\">rdfs:domain</text>\n</g>\n<!-- 21&#45;&gt;22 -->\n<g id=\"edge28\" class=\"edge\">\n<title>21&#45;&gt;22</title>\n<path fill=\"none\" stroke=\"#000000\" d=\"M1318.5563,-179.4859C1308.0779,-177.4782 1297.2356,-175.5533 1286.9954,-174 1210.5657,-162.407 1185.612,-185.1025 1113.9954,-156 1104.0281,-151.9496 1104.9651,-145.0445 1094.9954,-141 1022.5423,-111.6073 996.5983,-138.6645 919.9954,-123 916.0976,-122.203 912.0888,-121.2498 908.0863,-120.2039\"/>\n<polygon fill=\"#000000\" stroke=\"#000000\" points=\"908.7899,-116.7665 898.2171,-117.4489 906.9078,-123.5088 908.7899,-116.7665\"/>\n<text text-anchor=\"middle\" x=\"1142.9954\" y=\"-144.8\" font-family=\"Times,serif\" font-size=\"14.00\" fill=\"#000000\">rdfs:range</text>\n</g>\n<!-- 22&#45;&gt;6 -->\n<g id=\"edge17\" class=\"edge\">\n<title>22&#45;&gt;6</title>\n<path fill=\"none\" stroke=\"#000000\" d=\"M898.2196,-92.5633C905.3716,-90.4481 912.8696,-88.4651 919.9954,-87 1138.9627,-41.9791 1405.3618,-25.5148 1520.0273,-20.221\"/>\n<polygon fill=\"#000000\" stroke=\"#000000\" points=\"1520.4844,-23.7041 1530.3166,-19.7573 1520.1692,-16.7111 1520.4844,-23.7041\"/>\n<text text-anchor=\"middle\" x=\"1138.9954\" y=\"-57.8\" font-family=\"Times,serif\" font-size=\"14.00\" fill=\"#000000\">rdf:type</text>\n</g>\n</g>\n</svg>\n"
          },
          "metadata": {}
        }
      ]
    },
    {
      "cell_type": "markdown",
      "metadata": {
        "id": "89SGqK_ordNc"
      },
      "source": [
        "#### **Instance 2**"
      ]
    },
    {
      "cell_type": "markdown",
      "metadata": {
        "id": "Sb21T8b7rSjk"
      },
      "source": [
        "* beli-smart-tv merupakan Kategori\n",
        "* beli-smart-tv memilikiMerk Toshiba\n",
        "* Toshiba memilikiProduk TOSHIBA_Smart_HD_LED_TV_40\n",
        "* TOSHIBA_Smart_HD_LED_TV_40 a :produk.\n",
        "* TOSHIBA_Smart_HD_LED_TV_40 memilikiUri https://www.lazada.co.id/products/toshiba-smart-hd-led-tv-40.html.\n",
        "* TOSHIBA_Smart_HD_LED_TV_40 memilikiHarga 3788000.\n",
        "* TOSHIBA_Smart_HD_LED_TV_40 memilikiRating 3.\n",
        "* TOSHIBA_Smart_HD_LED_TV_40 memilikiTotalReview 3.\n",
        "* TOSHIBA_Smart_HD_LED_TV_40 memilikiTanggalMasuk 2019-10-02."
      ]
    },
    {
      "cell_type": "code",
      "metadata": {
        "id": "AGFfE9ZwWDod",
        "colab": {
          "base_uri": "https://localhost:8080/"
        },
        "outputId": "4017d716-ae53-4ead-f9a7-a7d3f46f1f2b"
      },
      "source": [
        "%%rdf turtle\n",
        "@prefix rdfs: <http://www.w3.org/2000/01/rdf-schema#> .\n",
        "@prefix rdf: <http://www.w3.org/1999/02/22-rdf-syntax-ns#> .\n",
        "@prefix xsd: <http://www.w3.org/2001/XMLSchema#> .\n",
        "@prefix ex: <http://example.com/> .\n",
        "\n",
        "ex:beli-smart-tv a ex:category.\n",
        "\n",
        "ex:beli-smart-tv ex:memilikiMerk ex:Toshiba .\n",
        "\n",
        "ex:Toshiba ex:memilikiProduk ex:TOSHIBA_Smart_HD_LED_TV_40.\n",
        "ex:Toshiba a ex:merk.\n",
        "\n",
        "ex:TOSHIBA_Smart_HD_LED_TV_40 a ex:produk.\n",
        "ex:TOSHIBA_Smart_HD_LED_TV_40 ex:memilikiUri \"https://www.lazada.co.id/products/toshiba-smart-hd-led-tv-40.html\"^^xsd:anyUri.\n",
        "ex:TOSHIBA_Smart_HD_LED_TV_40 ex:memilikiHarga \"3788000\"^^xsd:integer.\n",
        "ex:TOSHIBA_Smart_HD_LED_TV_40 ex:memilikiRating \"3\"^^xsd:integer.\n",
        "ex:TOSHIBA_Smart_HD_LED_TV_40 ex:memilikiTotalReview \"3\"^^xsd:integer.\n",
        "ex:TOSHIBA_Smart_HD_LED_TV_40 ex:memilikiTanggalMasuk \"2019-10-02\"^^xsd:date."
      ],
      "execution_count": null,
      "outputs": [
        {
          "output_type": "display_data",
          "data": {
            "text/plain": [
              "<graphviz.dot.Digraph at 0x7f3f770aabd0>"
            ],
            "image/svg+xml": "<?xml version=\"1.0\" encoding=\"UTF-8\" standalone=\"no\"?>\n<!DOCTYPE svg PUBLIC \"-//W3C//DTD SVG 1.1//EN\"\n \"http://www.w3.org/Graphics/SVG/1.1/DTD/svg11.dtd\">\n<!-- Generated by graphviz version 2.40.1 (20161225.0304)\n -->\n<!-- Title: %3 Pages: 1 -->\n<svg width=\"1094pt\" height=\"305pt\"\n viewBox=\"0.00 0.00 1094.40 305.00\" xmlns=\"http://www.w3.org/2000/svg\" xmlns:xlink=\"http://www.w3.org/1999/xlink\">\n<g id=\"graph0\" class=\"graph\" transform=\"scale(1 1) rotate(0) translate(4 301)\">\n<title>%3</title>\n<polygon fill=\"#ffffff\" stroke=\"transparent\" points=\"-4,4 -4,-301 1090.3956,-301 1090.3956,4 -4,4\"/>\n<!-- 0 -->\n<g id=\"node1\" class=\"node\">\n<title>0</title>\n<polygon fill=\"none\" stroke=\"#000000\" points=\"158,-36 0,-36 0,0 158,0 158,-36\"/>\n<text text-anchor=\"middle\" x=\"79\" y=\"-14.3\" font-family=\"Times,serif\" font-size=\"14.00\" fill=\"#000000\">&quot;3788000&quot;^^xsd:integer</text>\n</g>\n<!-- 1 -->\n<g id=\"node2\" class=\"node\">\n<title>1</title>\n<ellipse fill=\"none\" stroke=\"#000000\" cx=\"466\" cy=\"-192\" rx=\"51.9908\" ry=\"18\"/>\n<text text-anchor=\"middle\" x=\"466\" y=\"-188.3\" font-family=\"Times,serif\" font-size=\"14.00\" fill=\"#000000\">ex:Toshiba</text>\n</g>\n<!-- 5 -->\n<g id=\"node6\" class=\"node\">\n<title>5</title>\n<ellipse fill=\"none\" stroke=\"#000000\" cx=\"432\" cy=\"-105\" rx=\"40.8928\" ry=\"18\"/>\n<text text-anchor=\"middle\" x=\"432\" y=\"-101.3\" font-family=\"Times,serif\" font-size=\"14.00\" fill=\"#000000\">ex:merk</text>\n</g>\n<!-- 1&#45;&gt;5 -->\n<g id=\"edge2\" class=\"edge\">\n<title>1&#45;&gt;5</title>\n<path fill=\"none\" stroke=\"#000000\" d=\"M458.9552,-173.9735C454.2596,-161.9585 447.9996,-145.9401 442.6942,-132.3646\"/>\n<polygon fill=\"#000000\" stroke=\"#000000\" points=\"445.9357,-131.0434 439.0358,-123.0034 439.4159,-133.5914 445.9357,-131.0434\"/>\n<text text-anchor=\"middle\" x=\"475\" y=\"-144.8\" font-family=\"Times,serif\" font-size=\"14.00\" fill=\"#000000\">rdf:type</text>\n</g>\n<!-- 8 -->\n<g id=\"node9\" class=\"node\">\n<title>8</title>\n<ellipse fill=\"none\" stroke=\"#000000\" cx=\"655\" cy=\"-105\" rx=\"163.5712\" ry=\"18\"/>\n<text text-anchor=\"middle\" x=\"655\" y=\"-101.3\" font-family=\"Times,serif\" font-size=\"14.00\" fill=\"#000000\">ex:TOSHIBA_Smart_HD_LED_TV_40</text>\n</g>\n<!-- 1&#45;&gt;8 -->\n<g id=\"edge9\" class=\"edge\">\n<title>1&#45;&gt;8</title>\n<path fill=\"none\" stroke=\"#000000\" d=\"M497.6344,-177.4382C527.6034,-163.6429 573.0102,-142.7413 607.3589,-126.93\"/>\n<polygon fill=\"#000000\" stroke=\"#000000\" points=\"609.1114,-129.9764 616.7317,-122.6156 606.1844,-123.6177 609.1114,-129.9764\"/>\n<text text-anchor=\"middle\" x=\"627\" y=\"-144.8\" font-family=\"Times,serif\" font-size=\"14.00\" fill=\"#000000\">ex:memilikiProduk</text>\n</g>\n<!-- 2 -->\n<g id=\"node3\" class=\"node\">\n<title>2</title>\n<ellipse fill=\"none\" stroke=\"#000000\" cx=\"590\" cy=\"-192\" rx=\"53.8905\" ry=\"18\"/>\n<text text-anchor=\"middle\" x=\"590\" y=\"-188.3\" font-family=\"Times,serif\" font-size=\"14.00\" fill=\"#000000\">ex:category</text>\n</g>\n<!-- 3 -->\n<g id=\"node4\" class=\"node\">\n<title>3</title>\n<polygon fill=\"none\" stroke=\"#000000\" points=\"334,-36 176,-36 176,0 334,0 334,-36\"/>\n<text text-anchor=\"middle\" x=\"255\" y=\"-14.3\" font-family=\"Times,serif\" font-size=\"14.00\" fill=\"#000000\">&quot;2019&#45;10&#45;02&quot;^^xsd:date</text>\n</g>\n<!-- 4 -->\n<g id=\"node5\" class=\"node\">\n<title>4</title>\n<polygon fill=\"none\" stroke=\"#000000\" points=\"838.5,-36 351.5,-36 351.5,0 838.5,0 838.5,-36\"/>\n<text text-anchor=\"middle\" x=\"595\" y=\"-14.3\" font-family=\"Times,serif\" font-size=\"14.00\" fill=\"#000000\">&quot;https://www.lazada.co.id/products/toshiba&#45;smart&#45;hd&#45;led&#45;tv&#45;40.html&quot;^^xsd:anyUri</text>\n</g>\n<!-- 6 -->\n<g id=\"node7\" class=\"node\">\n<title>6</title>\n<polygon fill=\"none\" stroke=\"#000000\" points=\"969.5,-36 856.5,-36 856.5,0 969.5,0 969.5,-36\"/>\n<text text-anchor=\"middle\" x=\"913\" y=\"-14.3\" font-family=\"Times,serif\" font-size=\"14.00\" fill=\"#000000\">&quot;3&quot;^^xsd:integer</text>\n</g>\n<!-- 7 -->\n<g id=\"node8\" class=\"node\">\n<title>7</title>\n<ellipse fill=\"none\" stroke=\"#000000\" cx=\"528\" cy=\"-279\" rx=\"68.7879\" ry=\"18\"/>\n<text text-anchor=\"middle\" x=\"528\" y=\"-275.3\" font-family=\"Times,serif\" font-size=\"14.00\" fill=\"#000000\">ex:beli&#45;smart&#45;tv</text>\n</g>\n<!-- 7&#45;&gt;1 -->\n<g id=\"edge1\" class=\"edge\">\n<title>7&#45;&gt;1</title>\n<path fill=\"none\" stroke=\"#000000\" d=\"M489.8717,-263.7839C481.2524,-258.5089 473.1387,-251.6749 468,-243 464.0259,-236.2911 462.5476,-228.1682 462.3189,-220.3961\"/>\n<polygon fill=\"#000000\" stroke=\"#000000\" points=\"465.8243,-220.2938 462.6646,-210.1812 458.8283,-220.0571 465.8243,-220.2938\"/>\n<text text-anchor=\"middle\" x=\"518\" y=\"-231.8\" font-family=\"Times,serif\" font-size=\"14.00\" fill=\"#000000\">ex:memilikiMerk</text>\n</g>\n<!-- 7&#45;&gt;2 -->\n<g id=\"edge5\" class=\"edge\">\n<title>7&#45;&gt;2</title>\n<path fill=\"none\" stroke=\"#000000\" d=\"M550.4592,-261.8362C556.6969,-256.308 563.0965,-249.8307 568,-243 573.1173,-235.8716 577.3763,-227.3668 580.7408,-219.3648\"/>\n<polygon fill=\"#000000\" stroke=\"#000000\" points=\"584.0281,-220.5683 584.3984,-209.9799 577.5059,-218.0263 584.0281,-220.5683\"/>\n<text text-anchor=\"middle\" x=\"599\" y=\"-231.8\" font-family=\"Times,serif\" font-size=\"14.00\" fill=\"#000000\">rdf:type</text>\n</g>\n<!-- 8&#45;&gt;0 -->\n<g id=\"edge4\" class=\"edge\">\n<title>8&#45;&gt;0</title>\n<path fill=\"none\" stroke=\"#000000\" d=\"M536.838,-92.4496C518.4839,-90.5742 499.7347,-88.7011 482,-87 390.9562,-78.2671 367.1457,-84.4591 277,-69 233.8036,-61.5922 186.2178,-49.467 148.5243,-38.8978\"/>\n<polygon fill=\"#000000\" stroke=\"#000000\" points=\"149.2418,-35.4634 138.6664,-36.1061 147.3344,-42.1985 149.2418,-35.4634\"/>\n<text text-anchor=\"middle\" x=\"328.5\" y=\"-57.8\" font-family=\"Times,serif\" font-size=\"14.00\" fill=\"#000000\">ex:memilikiHarga</text>\n</g>\n<!-- 8&#45;&gt;3 -->\n<g id=\"edge10\" class=\"edge\">\n<title>8&#45;&gt;3</title>\n<path fill=\"none\" stroke=\"#000000\" d=\"M556.1183,-90.6324C519.4822,-84.7349 477.6939,-77.3282 440,-69 401.5085,-60.4956 359.0783,-48.958 324.5727,-39.0076\"/>\n<polygon fill=\"#000000\" stroke=\"#000000\" points=\"325.1767,-35.5385 314.5974,-36.1118 323.2251,-42.261 325.1767,-35.5385\"/>\n<text text-anchor=\"middle\" x=\"517\" y=\"-57.8\" font-family=\"Times,serif\" font-size=\"14.00\" fill=\"#000000\">ex:memilikiTanggalMasuk</text>\n</g>\n<!-- 8&#45;&gt;4 -->\n<g id=\"edge3\" class=\"edge\">\n<title>8&#45;&gt;4</title>\n<path fill=\"none\" stroke=\"#000000\" d=\"M622.6287,-87.176C615.9046,-82.1088 609.5037,-76.0233 605,-69 600.6653,-62.2402 598.1359,-54.0164 596.6805,-46.1637\"/>\n<polygon fill=\"#000000\" stroke=\"#000000\" points=\"600.1422,-45.6445 595.3243,-36.2085 593.2062,-46.5894 600.1422,-45.6445\"/>\n<text text-anchor=\"middle\" x=\"649\" y=\"-57.8\" font-family=\"Times,serif\" font-size=\"14.00\" fill=\"#000000\">ex:memilikiUri</text>\n</g>\n<!-- 8&#45;&gt;6 -->\n<g id=\"edge7\" class=\"edge\">\n<title>8&#45;&gt;6</title>\n<path fill=\"none\" stroke=\"#000000\" d=\"M677.1303,-87.1105C692.2604,-75.8218 713.26,-61.9235 734,-54 779.109,-36.7666 795.8898,-45.6546 846.5131,-36.0983\"/>\n<polygon fill=\"#000000\" stroke=\"#000000\" points=\"847.2741,-39.5152 856.3738,-34.0888 845.8763,-32.6562 847.2741,-39.5152\"/>\n<text text-anchor=\"middle\" x=\"805\" y=\"-57.8\" font-family=\"Times,serif\" font-size=\"14.00\" fill=\"#000000\">ex:memilikiTotalReview</text>\n</g>\n<!-- 8&#45;&gt;6 -->\n<g id=\"edge8\" class=\"edge\">\n<title>8&#45;&gt;6</title>\n<path fill=\"none\" stroke=\"#000000\" d=\"M778.6061,-93.1316C819.4723,-87.4595 858.8741,-79.5548 876,-69 885.4288,-63.189 893.187,-53.9969 899.1212,-45.0071\"/>\n<polygon fill=\"#000000\" stroke=\"#000000\" points=\"902.2575,-46.5847 904.4418,-36.2175 896.2691,-42.9598 902.2575,-46.5847\"/>\n<text text-anchor=\"middle\" x=\"945.5\" y=\"-57.8\" font-family=\"Times,serif\" font-size=\"14.00\" fill=\"#000000\">ex:memilikiRating</text>\n</g>\n<!-- 9 -->\n<g id=\"node10\" class=\"node\">\n<title>9</title>\n<ellipse fill=\"none\" stroke=\"#000000\" cx=\"1037\" cy=\"-18\" rx=\"49.2915\" ry=\"18\"/>\n<text text-anchor=\"middle\" x=\"1037\" y=\"-14.3\" font-family=\"Times,serif\" font-size=\"14.00\" fill=\"#000000\">ex:produk</text>\n</g>\n<!-- 8&#45;&gt;9 -->\n<g id=\"edge6\" class=\"edge\">\n<title>8&#45;&gt;9</title>\n<path fill=\"none\" stroke=\"#000000\" d=\"M797.2151,-96.0058C885.3354,-89.4418 985.0585,-79.8265 1003,-69 1012.2933,-63.3921 1019.5786,-54.1567 1024.9807,-45.0746\"/>\n<polygon fill=\"#000000\" stroke=\"#000000\" points=\"1028.1079,-46.649 1029.7596,-36.1837 1021.9422,-43.3348 1028.1079,-46.649\"/>\n<text text-anchor=\"middle\" x=\"1041\" y=\"-57.8\" font-family=\"Times,serif\" font-size=\"14.00\" fill=\"#000000\">rdf:type</text>\n</g>\n</g>\n</svg>\n"
          },
          "metadata": {}
        }
      ]
    },
    {
      "cell_type": "markdown",
      "metadata": {
        "id": "ciOSf8_2rh6t"
      },
      "source": [
        "#### **Instance 3**"
      ]
    },
    {
      "cell_type": "markdown",
      "metadata": {
        "id": "jk8CKvparSoz"
      },
      "source": [
        "* beli-smart-tv merupakan Kategori.\n",
        "* beli-smart-tv memilikiMerk Sharp.\n",
        "* Sharp memilikiProduk arp_HD_LED_TV_24.\n",
        "* Sharp_HD_LED_TV_24 a ex:produk.\n",
        "* Sharp_HD_LED_TV_24 memilikiUri https://www.lazada.co.id/products/sharp-hd-led-tv-24-lc-24le175i-hitam-i100004505-s100007387.html.\n",
        "* Sharp_HD_LED_TV_24 memilikiHarga 1275000.\n",
        "* Sharp_HD_LED_TV_24 memilikiRating 3.\n",
        "* Sharp_HD_LED_TV_24 memilikiTotalReview 11.\n",
        "* Sharp_HD_LED_TV_24 memilikiTanggalMasuk 2019-10-02."
      ]
    },
    {
      "cell_type": "code",
      "metadata": {
        "id": "2M7O5z6uWHRk",
        "colab": {
          "base_uri": "https://localhost:8080/"
        },
        "outputId": "42f2b586-f98a-440c-c644-29fa7cfda784"
      },
      "source": [
        "%%rdf turtle\n",
        "@prefix rdfs: <http://www.w3.org/2000/01/rdf-schema#> .\n",
        "@prefix rdf: <http://www.w3.org/1999/02/22-rdf-syntax-ns#> .\n",
        "@prefix xsd: <http://www.w3.org/2001/XMLSchema#> .\n",
        "@prefix ex: <http://example.com/> .\n",
        "\n",
        "ex:beli-smart-tv a ex:category.\n",
        "\n",
        "ex:beli-smart-tv ex:memilikiMerk ex:Sharp .\n",
        "\n",
        "ex:Sharp ex:memilikiProduk ex:Sharp_HD_LED_TV_24.\n",
        "ex:Sharp a ex:merk.\n",
        "\n",
        "ex:Sharp_HD_LED_TV_24 a ex:produk.\n",
        "ex:Sharp_HD_LED_TV_24 ex:memilikiUri \"https://www.lazada.co.id/products/sharp-hd-led-tv-24-lc-24le175i-hitam-i100004505-s100007387.html\"^^xsd:anyUri.\n",
        "ex:Sharp_HD_LED_TV_24 ex:memilikiHarga \"1275000\"^^xsd:integer.\n",
        "ex:Sharp_HD_LED_TV_24 ex:memilikiRating \"3\"^^xsd:integer.\n",
        "ex:Sharp_HD_LED_TV_24 ex:memilikiTotalReview \"11\"^^xsd:integer.\n",
        "ex:Sharp_HD_LED_TV_24 ex:memilikiTanggalMasuk \"2019-10-02\"^^xsd:date."
      ],
      "execution_count": null,
      "outputs": [
        {
          "output_type": "display_data",
          "data": {
            "text/plain": [
              "<graphviz.dot.Digraph at 0x7f3f770cc0d0>"
            ],
            "image/svg+xml": "<?xml version=\"1.0\" encoding=\"UTF-8\" standalone=\"no\"?>\n<!DOCTYPE svg PUBLIC \"-//W3C//DTD SVG 1.1//EN\"\n \"http://www.w3.org/Graphics/SVG/1.1/DTD/svg11.dtd\">\n<!-- Generated by graphviz version 2.40.1 (20161225.0304)\n -->\n<!-- Title: %3 Pages: 1 -->\n<svg width=\"1483pt\" height=\"305pt\"\n viewBox=\"0.00 0.00 1482.90 305.00\" xmlns=\"http://www.w3.org/2000/svg\" xmlns:xlink=\"http://www.w3.org/1999/xlink\">\n<g id=\"graph0\" class=\"graph\" transform=\"scale(1 1) rotate(0) translate(4 301)\">\n<title>%3</title>\n<polygon fill=\"#ffffff\" stroke=\"transparent\" points=\"-4,4 -4,-301 1478.8956,-301 1478.8956,4 -4,4\"/>\n<!-- 0 -->\n<g id=\"node1\" class=\"node\">\n<title>0</title>\n<ellipse fill=\"none\" stroke=\"#000000\" cx=\"1051.5\" cy=\"-105\" rx=\"118.0794\" ry=\"18\"/>\n<text text-anchor=\"middle\" x=\"1051.5\" y=\"-101.3\" font-family=\"Times,serif\" font-size=\"14.00\" fill=\"#000000\">ex:Sharp_HD_LED_TV_24</text>\n</g>\n<!-- 1 -->\n<g id=\"node2\" class=\"node\">\n<title>1</title>\n<polygon fill=\"none\" stroke=\"#000000\" points=\"701,-36 0,-36 0,0 701,0 701,-36\"/>\n<text text-anchor=\"middle\" x=\"350.5\" y=\"-14.3\" font-family=\"Times,serif\" font-size=\"14.00\" fill=\"#000000\">&quot;https://www.lazada.co.id/products/sharp&#45;hd&#45;led&#45;tv&#45;24&#45;lc&#45;24le175i&#45;hitam&#45;i100004505&#45;s100007387.html&quot;^^xsd:anyUri</text>\n</g>\n<!-- 0&#45;&gt;1 -->\n<g id=\"edge5\" class=\"edge\">\n<title>0&#45;&gt;1</title>\n<path fill=\"none\" stroke=\"#000000\" d=\"M953.9562,-94.7736C889.6047,-87.8764 803.4721,-78.358 727.5,-69 648.1451,-59.2253 559.5387,-47.2909 488.1751,-37.425\"/>\n<polygon fill=\"#000000\" stroke=\"#000000\" points=\"488.6081,-33.9516 478.2226,-36.047 487.6481,-40.8855 488.6081,-33.9516\"/>\n<text text-anchor=\"middle\" x=\"771.5\" y=\"-57.8\" font-family=\"Times,serif\" font-size=\"14.00\" fill=\"#000000\">ex:memilikiUri</text>\n</g>\n<!-- 3 -->\n<g id=\"node4\" class=\"node\">\n<title>3</title>\n<polygon fill=\"none\" stroke=\"#000000\" points=\"877.5,-36 719.5,-36 719.5,0 877.5,0 877.5,-36\"/>\n<text text-anchor=\"middle\" x=\"798.5\" y=\"-14.3\" font-family=\"Times,serif\" font-size=\"14.00\" fill=\"#000000\">&quot;2019&#45;10&#45;02&quot;^^xsd:date</text>\n</g>\n<!-- 0&#45;&gt;3 -->\n<g id=\"edge10\" class=\"edge\">\n<title>0&#45;&gt;3</title>\n<path fill=\"none\" stroke=\"#000000\" d=\"M950.3888,-95.5503C903.976,-89.7359 854.9775,-81.0534 835.5,-69 826.0819,-63.1717 818.3259,-53.9759 812.3905,-44.9881\"/>\n<polygon fill=\"#000000\" stroke=\"#000000\" points=\"815.2428,-42.9415 807.0678,-36.202 809.2558,-46.5685 815.2428,-42.9415\"/>\n<text text-anchor=\"middle\" x=\"912.5\" y=\"-57.8\" font-family=\"Times,serif\" font-size=\"14.00\" fill=\"#000000\">ex:memilikiTanggalMasuk</text>\n</g>\n<!-- 4 -->\n<g id=\"node5\" class=\"node\">\n<title>4</title>\n<polygon fill=\"none\" stroke=\"#000000\" points=\"1053.5,-36 895.5,-36 895.5,0 1053.5,0 1053.5,-36\"/>\n<text text-anchor=\"middle\" x=\"974.5\" y=\"-14.3\" font-family=\"Times,serif\" font-size=\"14.00\" fill=\"#000000\">&quot;1275000&quot;^^xsd:integer</text>\n</g>\n<!-- 0&#45;&gt;4 -->\n<g id=\"edge2\" class=\"edge\">\n<title>0&#45;&gt;4</title>\n<path fill=\"none\" stroke=\"#000000\" d=\"M1023.9453,-87.3515C1016.7815,-81.9906 1009.4215,-75.7221 1003.5,-69 997.2386,-61.892 991.6992,-53.2178 987.1837,-45.0534\"/>\n<polygon fill=\"#000000\" stroke=\"#000000\" points=\"990.2708,-43.4038 982.5366,-36.1627 984.0671,-46.6465 990.2708,-43.4038\"/>\n<text text-anchor=\"middle\" x=\"1055\" y=\"-57.8\" font-family=\"Times,serif\" font-size=\"14.00\" fill=\"#000000\">ex:memilikiHarga</text>\n</g>\n<!-- 6 -->\n<g id=\"node7\" class=\"node\">\n<title>6</title>\n<polygon fill=\"none\" stroke=\"#000000\" points=\"1185,-36 1072,-36 1072,0 1185,0 1185,-36\"/>\n<text text-anchor=\"middle\" x=\"1128.5\" y=\"-14.3\" font-family=\"Times,serif\" font-size=\"14.00\" fill=\"#000000\">&quot;3&quot;^^xsd:integer</text>\n</g>\n<!-- 0&#45;&gt;6 -->\n<g id=\"edge9\" class=\"edge\">\n<title>0&#45;&gt;6</title>\n<path fill=\"none\" stroke=\"#000000\" d=\"M1084.8384,-87.6405C1092.6692,-82.4294 1100.4768,-76.162 1106.5,-69 1112.1479,-62.2842 1116.5604,-53.8987 1119.9021,-45.8791\"/>\n<polygon fill=\"#000000\" stroke=\"#000000\" points=\"1123.217,-47.0073 1123.4583,-36.4153 1116.6644,-44.5451 1123.217,-47.0073\"/>\n<text text-anchor=\"middle\" x=\"1169\" y=\"-57.8\" font-family=\"Times,serif\" font-size=\"14.00\" fill=\"#000000\">ex:memilikiRating</text>\n</g>\n<!-- 8 -->\n<g id=\"node9\" class=\"node\">\n<title>8</title>\n<polygon fill=\"none\" stroke=\"#000000\" points=\"1322,-36 1203,-36 1203,0 1322,0 1322,-36\"/>\n<text text-anchor=\"middle\" x=\"1262.5\" y=\"-14.3\" font-family=\"Times,serif\" font-size=\"14.00\" fill=\"#000000\">&quot;11&quot;^^xsd:integer</text>\n</g>\n<!-- 0&#45;&gt;8 -->\n<g id=\"edge1\" class=\"edge\">\n<title>0&#45;&gt;8</title>\n<path fill=\"none\" stroke=\"#000000\" d=\"M1139.6431,-92.9955C1175.3852,-86.8799 1211.7063,-78.682 1226.5,-69 1235.6817,-62.9909 1243.2319,-53.7573 1249.0049,-44.7899\"/>\n<polygon fill=\"#000000\" stroke=\"#000000\" points=\"1252.1015,-46.4294 1254.18,-36.0404 1246.0765,-42.8657 1252.1015,-46.4294\"/>\n<text text-anchor=\"middle\" x=\"1311.5\" y=\"-57.8\" font-family=\"Times,serif\" font-size=\"14.00\" fill=\"#000000\">ex:memilikiTotalReview</text>\n</g>\n<!-- 10 -->\n<g id=\"node11\" class=\"node\">\n<title>10</title>\n<ellipse fill=\"none\" stroke=\"#000000\" cx=\"1425.5\" cy=\"-18\" rx=\"49.2915\" ry=\"18\"/>\n<text text-anchor=\"middle\" x=\"1425.5\" y=\"-14.3\" font-family=\"Times,serif\" font-size=\"14.00\" fill=\"#000000\">ex:produk</text>\n</g>\n<!-- 0&#45;&gt;10 -->\n<g id=\"edge3\" class=\"edge\">\n<title>0&#45;&gt;10</title>\n<path fill=\"none\" stroke=\"#000000\" d=\"M1136.1271,-92.3514C1150.2598,-90.427 1164.7822,-88.5645 1178.5,-87 1224.5962,-81.7428 1345.8322,-91.3299 1386.5,-69 1396.7177,-63.3897 1405.0956,-53.8523 1411.4318,-44.5325\"/>\n<polygon fill=\"#000000\" stroke=\"#000000\" points=\"1414.5559,-46.137 1416.8745,-35.799 1408.6151,-42.4347 1414.5559,-46.137\"/>\n<text text-anchor=\"middle\" x=\"1426.5\" y=\"-57.8\" font-family=\"Times,serif\" font-size=\"14.00\" fill=\"#000000\">rdf:type</text>\n</g>\n<!-- 2 -->\n<g id=\"node3\" class=\"node\">\n<title>2</title>\n<ellipse fill=\"none\" stroke=\"#000000\" cx=\"1034.5\" cy=\"-192\" rx=\"53.8905\" ry=\"18\"/>\n<text text-anchor=\"middle\" x=\"1034.5\" y=\"-188.3\" font-family=\"Times,serif\" font-size=\"14.00\" fill=\"#000000\">ex:category</text>\n</g>\n<!-- 5 -->\n<g id=\"node6\" class=\"node\">\n<title>5</title>\n<ellipse fill=\"none\" stroke=\"#000000\" cx=\"1228.5\" cy=\"-105\" rx=\"40.8928\" ry=\"18\"/>\n<text text-anchor=\"middle\" x=\"1228.5\" y=\"-101.3\" font-family=\"Times,serif\" font-size=\"14.00\" fill=\"#000000\">ex:merk</text>\n</g>\n<!-- 7 -->\n<g id=\"node8\" class=\"node\">\n<title>7</title>\n<ellipse fill=\"none\" stroke=\"#000000\" cx=\"1068.5\" cy=\"-279\" rx=\"68.7879\" ry=\"18\"/>\n<text text-anchor=\"middle\" x=\"1068.5\" y=\"-275.3\" font-family=\"Times,serif\" font-size=\"14.00\" fill=\"#000000\">ex:beli&#45;smart&#45;tv</text>\n</g>\n<!-- 7&#45;&gt;2 -->\n<g id=\"edge4\" class=\"edge\">\n<title>7&#45;&gt;2</title>\n<path fill=\"none\" stroke=\"#000000\" d=\"M1061.4552,-260.9735C1056.7596,-248.9585 1050.4996,-232.9401 1045.1942,-219.3646\"/>\n<polygon fill=\"#000000\" stroke=\"#000000\" points=\"1048.4357,-218.0434 1041.5358,-210.0034 1041.9159,-220.5914 1048.4357,-218.0434\"/>\n<text text-anchor=\"middle\" x=\"1077.5\" y=\"-231.8\" font-family=\"Times,serif\" font-size=\"14.00\" fill=\"#000000\">rdf:type</text>\n</g>\n<!-- 9 -->\n<g id=\"node10\" class=\"node\">\n<title>9</title>\n<ellipse fill=\"none\" stroke=\"#000000\" cx=\"1150.5\" cy=\"-192\" rx=\"44.393\" ry=\"18\"/>\n<text text-anchor=\"middle\" x=\"1150.5\" y=\"-188.3\" font-family=\"Times,serif\" font-size=\"14.00\" fill=\"#000000\">ex:Sharp</text>\n</g>\n<!-- 7&#45;&gt;9 -->\n<g id=\"edge8\" class=\"edge\">\n<title>7&#45;&gt;9</title>\n<path fill=\"none\" stroke=\"#000000\" d=\"M1086.2615,-261.6006C1092.1331,-255.7531 1098.6565,-249.1525 1104.5,-243 1112.4651,-234.6138 1120.9984,-225.2607 1128.5257,-216.8774\"/>\n<polygon fill=\"#000000\" stroke=\"#000000\" points=\"1131.3317,-218.9899 1135.383,-209.2002 1126.111,-214.3267 1131.3317,-218.9899\"/>\n<text text-anchor=\"middle\" x=\"1166.5\" y=\"-231.8\" font-family=\"Times,serif\" font-size=\"14.00\" fill=\"#000000\">ex:memilikiMerk</text>\n</g>\n<!-- 9&#45;&gt;0 -->\n<g id=\"edge7\" class=\"edge\">\n<title>9&#45;&gt;0</title>\n<path fill=\"none\" stroke=\"#000000\" d=\"M1117.7073,-179.6756C1099.5281,-172.3121 1079.2618,-163.0505 1072.5,-156 1066.3744,-149.6129 1061.9347,-141.1903 1058.762,-133.0345\"/>\n<polygon fill=\"#000000\" stroke=\"#000000\" points=\"1062.0133,-131.7234 1055.4921,-123.3732 1055.3828,-133.9675 1062.0133,-131.7234\"/>\n<text text-anchor=\"middle\" x=\"1128.5\" y=\"-144.8\" font-family=\"Times,serif\" font-size=\"14.00\" fill=\"#000000\">ex:memilikiProduk</text>\n</g>\n<!-- 9&#45;&gt;5 -->\n<g id=\"edge6\" class=\"edge\">\n<title>9&#45;&gt;5</title>\n<path fill=\"none\" stroke=\"#000000\" d=\"M1169.2042,-175.3119C1175.5287,-169.403 1182.503,-162.5842 1188.5,-156 1195.7741,-148.0137 1203.2176,-138.8452 1209.6806,-130.5043\"/>\n<polygon fill=\"#000000\" stroke=\"#000000\" points=\"1212.4933,-132.5878 1215.7741,-122.5137 1206.9271,-128.343 1212.4933,-132.5878\"/>\n<text text-anchor=\"middle\" x=\"1223.5\" y=\"-144.8\" font-family=\"Times,serif\" font-size=\"14.00\" fill=\"#000000\">rdf:type</text>\n</g>\n</g>\n</svg>\n"
          },
          "metadata": {}
        }
      ]
    },
    {
      "cell_type": "markdown",
      "metadata": {
        "id": "9KIfuZCorFn8"
      },
      "source": [
        "\n",
        "\n",
        "---\n",
        "\n",
        "\n",
        "## **Vocabulary Perpanjangan dari Vocabulary Populer**"
      ]
    },
    {
      "cell_type": "markdown",
      "metadata": {
        "id": "8jT3jqRw4tZV"
      },
      "source": [
        "### **Namespaces**"
      ]
    },
    {
      "cell_type": "markdown",
      "metadata": {
        "id": "OOh_wHq1BSmT"
      },
      "source": [
        "* @prefix rdfs: <http://www.w3.org/2000/01/rdf-schema#> .\n",
        "* @prefix rdf: <http://www.w3.org/1999/02/22-rdf-syntax-ns#> .\n",
        "* @prefix xsd: <http://www.w3.org/2001/XMLSchema#> .\n",
        "* @prefix ex: <http://example.com/> .\n",
        "* @prefix gr: <http://purl.org/goodrelations/v1#> .\n",
        "* @prefix foaf: <http://xmlns.com/foaf/0.1/> .\n",
        "* @prefix s: <http://schema.org/> .\n"
      ]
    },
    {
      "cell_type": "markdown",
      "metadata": {
        "id": "mN9x3YTy4wQb"
      },
      "source": [
        "### **Classes**"
      ]
    },
    {
      "cell_type": "markdown",
      "metadata": {
        "id": "LyPHsGNZwPZe"
      },
      "source": [
        "* **gr:SomeItems**. Contoh: beli-smart-tv. Propertinya adalah:\n",
        " * **gr:category [xsd:string]**: beli-smart-tv category \"beli-smart-tv\".\n",
        " * **gr:hasBrand [gr:Brand]**: beli-smart-tv hasBrand Toshiba.\n",
        "\n",
        "<br>\n",
        "\n",
        "* **gr:Brand**. Contoh: Toshiba. Propertinya adalah:\n",
        " * **gr:name [xsd:string]**: Toshiba name \"Toshiba\".\n",
        "\n",
        "<br>\n",
        "\n",
        "* **gr:UnitPriceSpecification**. Contoh: Harga. Propertinya adalah:\n",
        " * **gr:hasCurrencyValue [xsd:currency]**.\n",
        "\n",
        "<br>\n",
        "\n",
        "* **gr:ProductOrServiceModel**. Contoh: TOSHIBA_Smart_HD_LED_TV_32. Propertinya adalah: \n",
        " * **gr:name [xsd:string]**: TOSHIBA_Smart_HD_LED_TV_32 name \"TOSHIBA Smart HD LED TV 32\".\n",
        " * **gr:hasBrand [xsd:string]**: TOSHIBA_Smart_HD_LED_TV_32 hasBrand Toshiba.\n",
        " * **gr:hasPriceSpecification [gr:UnitPriceSpecification]**: TOSHIBA_Smart_HD_LED_TV_32 hasPriceSpecification Harga.\n",
        " * **s:aggregateRating [s:AggregateRating; s:ratingValue; s:reviewCount]**: TOSHIBA_Smart_HD_LED_TV_32 AggregateRating; TOSHIBA_Smart_HD_LED_TV_32 ratingValue 4; TOSHIBA_Smart_HD_LED_TV_32 reviewCount 8.\n",
        " * **s:dateCreated [xsd:date]**: TOSHIBA_Smart_HD_LED_TV_32 dateCreated 2019-10-02."
      ]
    },
    {
      "cell_type": "markdown",
      "metadata": {
        "id": "ZXQdQFx74y87"
      },
      "source": [
        "### **Instances**"
      ]
    },
    {
      "cell_type": "markdown",
      "metadata": {
        "id": "UJ1nEX-D-P4t"
      },
      "source": [
        "Instance 1"
      ]
    },
    {
      "cell_type": "code",
      "metadata": {
        "id": "Vek0ZSFnBdj9",
        "colab": {
          "base_uri": "https://localhost:8080/",
          "height": 332
        },
        "outputId": "5d7dfe09-aa55-47fc-974a-0c59e5540285"
      },
      "source": [
        "%%rdf turtle\n",
        "@prefix rdfs: <http://www.w3.org/2000/01/rdf-schema#> .\n",
        "@prefix rdf: <http://www.w3.org/1999/02/22-rdf-syntax-ns#> .\n",
        "@prefix xsd: <http://www.w3.org/2001/XMLSchema#> .\n",
        "@prefix ex: <http://example.com/> .\n",
        "@prefix gr: <http://purl.org/goodrelations/v1#> .\n",
        "@prefix foaf: <http://xmlns.com/foaf/0.1/> .\n",
        "@prefix s: <http://schema.org/> .\n",
        "\n",
        "ex:beli-smart-tv a gr:SomeItems;\n",
        "  gr:category \"beli-smart-tv\"^^xsd:string;\n",
        "  gr:hasBrand ex:Toshiba .\n",
        "\n",
        "ex:Toshiba a gr:Brand;\n",
        "    gr:name \"Toshiba\"^^xsd:string.\n",
        "\n",
        "ex:Harga a gr:UnitPriceSpecification;\n",
        "  gr:hasCurrencyValue \"2499000\"^^xsd:currency.\n",
        "\n",
        "ex:TOSHIBA_Smart_HD_LED_TV_32 a gr:ProductOrServiceModel;\n",
        "  gr:name \"TOSHIBA Smart HD LED TV 32\"^^xsd:string;\n",
        "  gr:hasBrand ex:Toshiba;\n",
        "  gr:hasPriceSpecification ex:Harga;\n",
        "  foaf:page <https://www.lazada.co.id/products/toshiba-smart-hd-led-tv-32.html>;\n",
        "  s:aggregateRating [ a s:AggregateRating;\n",
        "                         s:ratingValue \"4\"^^xsd:integer;\n",
        "                         s:reviewCount \"8\"^^xsd:integer;\n",
        "                          ];\n",
        "  s:dateCreated \"2019-10-02\"^^xsd:date.\n"
      ],
      "execution_count": null,
      "outputs": [
        {
          "output_type": "display_data",
          "data": {
            "text/plain": [
              "<graphviz.dot.Digraph at 0x7f3f770ce150>"
            ],
            "image/svg+xml": "<?xml version=\"1.0\" encoding=\"UTF-8\" standalone=\"no\"?>\n<!DOCTYPE svg PUBLIC \"-//W3C//DTD SVG 1.1//EN\"\n \"http://www.w3.org/Graphics/SVG/1.1/DTD/svg11.dtd\">\n<!-- Generated by graphviz version 2.40.1 (20161225.0304)\n -->\n<!-- Title: %3 Pages: 1 -->\n<svg width=\"2063pt\" height=\"218pt\"\n viewBox=\"0.00 0.00 2063.04 218.00\" xmlns=\"http://www.w3.org/2000/svg\" xmlns:xlink=\"http://www.w3.org/1999/xlink\">\n<g id=\"graph0\" class=\"graph\" transform=\"scale(1 1) rotate(0) translate(4 214)\">\n<title>%3</title>\n<polygon fill=\"#ffffff\" stroke=\"transparent\" points=\"-4,4 -4,-214 2059.0352,-214 2059.0352,4 -4,4\"/>\n<!-- 0 -->\n<g id=\"node1\" class=\"node\">\n<title>0</title>\n<ellipse fill=\"none\" stroke=\"#000000\" cx=\"1526.3945\" cy=\"-105\" rx=\"258.8542\" ry=\"18\"/>\n<text text-anchor=\"start\" x=\"1335.3945\" y=\"-101.3\" font-family=\"Times,serif\" font-size=\"14.00\" fill=\"#000000\">https://www.lazada.co.id/products/toshiba&#45;smart&#45;hd&#45;led&#45;tv&#45;32.html</text>\n</g>\n<!-- 1 -->\n<g id=\"node2\" class=\"node\">\n<title>1</title>\n<ellipse fill=\"none\" stroke=\"#000000\" cx=\"449.3945\" cy=\"-18\" rx=\"44.393\" ry=\"18\"/>\n<text text-anchor=\"middle\" x=\"449.3945\" y=\"-14.3\" font-family=\"Times,serif\" font-size=\"14.00\" fill=\"#000000\">gr:Brand</text>\n</g>\n<!-- 2 -->\n<g id=\"node3\" class=\"node\">\n<title>2</title>\n<polygon fill=\"none\" stroke=\"#000000\" points=\"312.3945,-123 142.3945,-123 142.3945,-87 312.3945,-87 312.3945,-123\"/>\n<text text-anchor=\"middle\" x=\"227.3945\" y=\"-101.3\" font-family=\"Times,serif\" font-size=\"14.00\" fill=\"#000000\">&quot;beli&#45;smart&#45;tv&quot;^^xsd:string</text>\n</g>\n<!-- 3 -->\n<g id=\"node4\" class=\"node\">\n<title>3</title>\n<ellipse fill=\"none\" stroke=\"#000000\" cx=\"1217.3945\" cy=\"-18\" rx=\"79.8859\" ry=\"18\"/>\n<text text-anchor=\"middle\" x=\"1217.3945\" y=\"-14.3\" font-family=\"Times,serif\" font-size=\"14.00\" fill=\"#000000\">s:AggregateRating</text>\n</g>\n<!-- 4 -->\n<g id=\"node5\" class=\"node\">\n<title>4</title>\n<ellipse fill=\"none\" stroke=\"#000000\" cx=\"382.3945\" cy=\"-105\" rx=\"51.9908\" ry=\"18\"/>\n<text text-anchor=\"middle\" x=\"382.3945\" y=\"-101.3\" font-family=\"Times,serif\" font-size=\"14.00\" fill=\"#000000\">ex:Toshiba</text>\n</g>\n<!-- 4&#45;&gt;1 -->\n<g id=\"edge17\" class=\"edge\">\n<title>4&#45;&gt;1</title>\n<path fill=\"none\" stroke=\"#000000\" d=\"M395.9529,-87.3943C405.6425,-74.8122 418.8317,-57.6859 429.6828,-43.5957\"/>\n<polygon fill=\"#000000\" stroke=\"#000000\" points=\"432.7563,-45.3411 436.0848,-35.2827 427.2103,-41.07 432.7563,-45.3411\"/>\n<text text-anchor=\"middle\" x=\"443.3945\" y=\"-57.8\" font-family=\"Times,serif\" font-size=\"14.00\" fill=\"#000000\">rdf:type</text>\n</g>\n<!-- 14 -->\n<g id=\"node15\" class=\"node\">\n<title>14</title>\n<polygon fill=\"none\" stroke=\"#000000\" points=\"387.3945,-36 243.3945,-36 243.3945,0 387.3945,0 387.3945,-36\"/>\n<text text-anchor=\"middle\" x=\"315.3945\" y=\"-14.3\" font-family=\"Times,serif\" font-size=\"14.00\" fill=\"#000000\">&quot;Toshiba&quot;^^xsd:string</text>\n</g>\n<!-- 4&#45;&gt;14 -->\n<g id=\"edge12\" class=\"edge\">\n<title>4&#45;&gt;14</title>\n<path fill=\"none\" stroke=\"#000000\" d=\"M368.836,-87.3943C359.3364,-75.0589 346.4731,-58.3558 335.7471,-44.428\"/>\n<polygon fill=\"#000000\" stroke=\"#000000\" points=\"338.2685,-41.9658 329.394,-36.1785 332.7225,-46.2369 338.2685,-41.9658\"/>\n<text text-anchor=\"middle\" x=\"376.8945\" y=\"-57.8\" font-family=\"Times,serif\" font-size=\"14.00\" fill=\"#000000\">gr:name</text>\n</g>\n<!-- 5 -->\n<g id=\"node6\" class=\"node\">\n<title>5</title>\n<ellipse fill=\"none\" stroke=\"#000000\" cx=\"1018.3945\" cy=\"-192\" rx=\"163.5712\" ry=\"18\"/>\n<text text-anchor=\"middle\" x=\"1018.3945\" y=\"-188.3\" font-family=\"Times,serif\" font-size=\"14.00\" fill=\"#000000\">ex:TOSHIBA_Smart_HD_LED_TV_32</text>\n</g>\n<!-- 5&#45;&gt;0 -->\n<g id=\"edge10\" class=\"edge\">\n<title>5&#45;&gt;0</title>\n<path fill=\"none\" stroke=\"#000000\" d=\"M1110.6059,-177.0887C1149.7237,-170.699 1195.8026,-163.0881 1237.3945,-156 1298.8609,-145.5248 1367.6062,-133.4096 1422.6234,-123.6164\"/>\n<polygon fill=\"#000000\" stroke=\"#000000\" points=\"1423.5005,-127.0154 1432.7317,-121.8158 1422.2728,-120.1239 1423.5005,-127.0154\"/>\n<text text-anchor=\"middle\" x=\"1343.3945\" y=\"-144.8\" font-family=\"Times,serif\" font-size=\"14.00\" fill=\"#000000\">foaf:page</text>\n</g>\n<!-- 5&#45;&gt;4 -->\n<g id=\"edge16\" class=\"edge\">\n<title>5&#45;&gt;4</title>\n<path fill=\"none\" stroke=\"#000000\" d=\"M873.9075,-183.4997C756.6925,-174.4979 587.8079,-156.7302 443.3945,-123 439.2817,-122.0394 435.0361,-120.964 430.7893,-119.8296\"/>\n<polygon fill=\"#000000\" stroke=\"#000000\" points=\"431.5109,-116.3977 420.9395,-117.1016 429.6426,-123.1438 431.5109,-116.3977\"/>\n<text text-anchor=\"middle\" x=\"650.3945\" y=\"-144.8\" font-family=\"Times,serif\" font-size=\"14.00\" fill=\"#000000\">gr:hasBrand</text>\n</g>\n<!-- 9 -->\n<g id=\"node10\" class=\"node\">\n<title>9</title>\n<ellipse fill=\"none\" stroke=\"#000000\" cx=\"1847.3945\" cy=\"-105\" rx=\"44.393\" ry=\"18\"/>\n<text text-anchor=\"middle\" x=\"1847.3945\" y=\"-101.3\" font-family=\"Times,serif\" font-size=\"14.00\" fill=\"#000000\">ex:Harga</text>\n</g>\n<!-- 5&#45;&gt;9 -->\n<g id=\"edge11\" class=\"edge\">\n<title>5&#45;&gt;9</title>\n<path fill=\"none\" stroke=\"#000000\" d=\"M1162.2315,-183.3286C1352.5303,-171.1442 1677.5241,-147.6709 1794.3945,-123 1797.9808,-122.2429 1801.6608,-121.3182 1805.3292,-120.2917\"/>\n<polygon fill=\"#000000\" stroke=\"#000000\" points=\"1806.3831,-123.6296 1814.9397,-117.3817 1804.3545,-116.9299 1806.3831,-123.6296\"/>\n<text text-anchor=\"middle\" x=\"1735.3945\" y=\"-144.8\" font-family=\"Times,serif\" font-size=\"14.00\" fill=\"#000000\">gr:hasPriceSpecification</text>\n</g>\n<!-- 10 -->\n<g id=\"node11\" class=\"node\">\n<title>10</title>\n<polygon fill=\"none\" stroke=\"#000000\" points=\"610.3945,-123 452.3945,-123 452.3945,-87 610.3945,-87 610.3945,-123\"/>\n<text text-anchor=\"middle\" x=\"531.3945\" y=\"-101.3\" font-family=\"Times,serif\" font-size=\"14.00\" fill=\"#000000\">&quot;2019&#45;10&#45;02&quot;^^xsd:date</text>\n</g>\n<!-- 5&#45;&gt;10 -->\n<g id=\"edge7\" class=\"edge\">\n<title>5&#45;&gt;10</title>\n<path fill=\"none\" stroke=\"#000000\" d=\"M918.1684,-177.6965C876.4221,-171.4663 827.4911,-163.8098 783.3945,-156 713.3297,-143.5911 693.9023,-138.2486 620.7356,-123.2786\"/>\n<polygon fill=\"#000000\" stroke=\"#000000\" points=\"621.0436,-119.7695 610.5461,-121.2025 619.646,-126.6286 621.0436,-119.7695\"/>\n<text text-anchor=\"middle\" x=\"821.3945\" y=\"-144.8\" font-family=\"Times,serif\" font-size=\"14.00\" fill=\"#000000\">s:dateCreated</text>\n</g>\n<!-- 11 -->\n<g id=\"node12\" class=\"node\">\n<title>11</title>\n<ellipse fill=\"none\" stroke=\"#000000\" cx=\"740.3945\" cy=\"-105\" rx=\"111.5806\" ry=\"18\"/>\n<text text-anchor=\"middle\" x=\"740.3945\" y=\"-101.3\" font-family=\"Times,serif\" font-size=\"14.00\" fill=\"#000000\">gr:ProductOrServiceModel</text>\n</g>\n<!-- 5&#45;&gt;11 -->\n<g id=\"edge5\" class=\"edge\">\n<title>5&#45;&gt;11</title>\n<path fill=\"none\" stroke=\"#000000\" d=\"M963.8023,-174.9154C917.0548,-160.2858 849.8079,-139.2409 801.3203,-124.0667\"/>\n<polygon fill=\"#000000\" stroke=\"#000000\" points=\"802.1677,-120.6646 791.5788,-121.0181 800.077,-127.3451 802.1677,-120.6646\"/>\n<text text-anchor=\"middle\" x=\"919.3945\" y=\"-144.8\" font-family=\"Times,serif\" font-size=\"14.00\" fill=\"#000000\">rdf:type</text>\n</g>\n<!-- 12 -->\n<g id=\"node13\" class=\"node\">\n<title>12</title>\n<polygon fill=\"none\" stroke=\"#000000\" points=\"1166.8945,-123 869.8945,-123 869.8945,-87 1166.8945,-87 1166.8945,-123\"/>\n<text text-anchor=\"middle\" x=\"1018.3945\" y=\"-101.3\" font-family=\"Times,serif\" font-size=\"14.00\" fill=\"#000000\">&quot;TOSHIBA Smart HD LED TV 32&quot;^^xsd:string</text>\n</g>\n<!-- 5&#45;&gt;12 -->\n<g id=\"edge8\" class=\"edge\">\n<title>5&#45;&gt;12</title>\n<path fill=\"none\" stroke=\"#000000\" d=\"M1018.3945,-173.9735C1018.3945,-162.1918 1018.3945,-146.5607 1018.3945,-133.1581\"/>\n<polygon fill=\"#000000\" stroke=\"#000000\" points=\"1021.8946,-133.0033 1018.3945,-123.0034 1014.8946,-133.0034 1021.8946,-133.0033\"/>\n<text text-anchor=\"middle\" x=\"1041.8945\" y=\"-144.8\" font-family=\"Times,serif\" font-size=\"14.00\" fill=\"#000000\">gr:name</text>\n</g>\n<!-- 15 -->\n<g id=\"node16\" class=\"node\">\n<title>15</title>\n<ellipse fill=\"none\" stroke=\"#000000\" cx=\"1217.3945\" cy=\"-105\" rx=\"32.4942\" ry=\"18\"/>\n<text text-anchor=\"middle\" x=\"1217.3945\" y=\"-101.3\" font-family=\"Times,serif\" font-size=\"14.00\" fill=\"#000000\">_:bn0</text>\n</g>\n<!-- 5&#45;&gt;15 -->\n<g id=\"edge9\" class=\"edge\">\n<title>5&#45;&gt;15</title>\n<path fill=\"none\" stroke=\"#000000\" d=\"M1058.6651,-174.3943C1094.999,-158.5096 1147.9,-135.382 1182.4783,-120.2649\"/>\n<polygon fill=\"#000000\" stroke=\"#000000\" points=\"1183.9556,-123.4389 1191.7162,-116.2262 1181.1516,-117.0251 1183.9556,-123.4389\"/>\n<text text-anchor=\"middle\" x=\"1181.8945\" y=\"-144.8\" font-family=\"Times,serif\" font-size=\"14.00\" fill=\"#000000\">s:aggregateRating</text>\n</g>\n<!-- 6 -->\n<g id=\"node7\" class=\"node\">\n<title>6</title>\n<ellipse fill=\"none\" stroke=\"#000000\" cx=\"1950.3945\" cy=\"-18\" rx=\"104.7816\" ry=\"18\"/>\n<text text-anchor=\"middle\" x=\"1950.3945\" y=\"-14.3\" font-family=\"Times,serif\" font-size=\"14.00\" fill=\"#000000\">gr:UnitPriceSpecification</text>\n</g>\n<!-- 7 -->\n<g id=\"node8\" class=\"node\">\n<title>7</title>\n<polygon fill=\"none\" stroke=\"#000000\" points=\"1427.8945,-36 1314.8945,-36 1314.8945,0 1427.8945,0 1427.8945,-36\"/>\n<text text-anchor=\"middle\" x=\"1371.3945\" y=\"-14.3\" font-family=\"Times,serif\" font-size=\"14.00\" fill=\"#000000\">&quot;8&quot;^^xsd:integer</text>\n</g>\n<!-- 8 -->\n<g id=\"node9\" class=\"node\">\n<title>8</title>\n<ellipse fill=\"none\" stroke=\"#000000\" cx=\"62.3945\" cy=\"-105\" rx=\"62.2891\" ry=\"18\"/>\n<text text-anchor=\"middle\" x=\"62.3945\" y=\"-101.3\" font-family=\"Times,serif\" font-size=\"14.00\" fill=\"#000000\">gr:SomeItems</text>\n</g>\n<!-- 9&#45;&gt;6 -->\n<g id=\"edge3\" class=\"edge\">\n<title>9&#45;&gt;6</title>\n<path fill=\"none\" stroke=\"#000000\" d=\"M1866.768,-88.636C1882.2317,-75.5744 1904.1296,-57.0781 1921.6385,-42.289\"/>\n<polygon fill=\"#000000\" stroke=\"#000000\" points=\"1923.9544,-44.9144 1929.3354,-35.7878 1919.4374,-39.5667 1923.9544,-44.9144\"/>\n<text text-anchor=\"middle\" x=\"1927.3945\" y=\"-57.8\" font-family=\"Times,serif\" font-size=\"14.00\" fill=\"#000000\">rdf:type</text>\n</g>\n<!-- 16 -->\n<g id=\"node17\" class=\"node\">\n<title>16</title>\n<polygon fill=\"none\" stroke=\"#000000\" points=\"1827.3945,-36 1659.3945,-36 1659.3945,0 1827.3945,0 1827.3945,-36\"/>\n<text text-anchor=\"middle\" x=\"1743.3945\" y=\"-14.3\" font-family=\"Times,serif\" font-size=\"14.00\" fill=\"#000000\">&quot;2499000&quot;^^xsd:currency</text>\n</g>\n<!-- 9&#45;&gt;16 -->\n<g id=\"edge6\" class=\"edge\">\n<title>9&#45;&gt;16</title>\n<path fill=\"none\" stroke=\"#000000\" d=\"M1814.3141,-92.8037C1795.608,-85.3983 1774.5624,-76.0472 1767.3945,-69 1760.8744,-62.5898 1755.9167,-54.0648 1752.2493,-45.8227\"/>\n<polygon fill=\"#000000\" stroke=\"#000000\" points=\"1755.4608,-44.4262 1748.5207,-36.4209 1748.9538,-47.0069 1755.4608,-44.4262\"/>\n<text text-anchor=\"middle\" x=\"1827.8945\" y=\"-57.8\" font-family=\"Times,serif\" font-size=\"14.00\" fill=\"#000000\">gr:hasCurrencyValue</text>\n</g>\n<!-- 13 -->\n<g id=\"node14\" class=\"node\">\n<title>13</title>\n<polygon fill=\"none\" stroke=\"#000000\" points=\"1119.8945,-36 1006.8945,-36 1006.8945,0 1119.8945,0 1119.8945,-36\"/>\n<text text-anchor=\"middle\" x=\"1063.3945\" y=\"-14.3\" font-family=\"Times,serif\" font-size=\"14.00\" fill=\"#000000\">&quot;4&quot;^^xsd:integer</text>\n</g>\n<!-- 15&#45;&gt;3 -->\n<g id=\"edge13\" class=\"edge\">\n<title>15&#45;&gt;3</title>\n<path fill=\"none\" stroke=\"#000000\" d=\"M1217.3945,-86.9735C1217.3945,-75.1918 1217.3945,-59.5607 1217.3945,-46.1581\"/>\n<polygon fill=\"#000000\" stroke=\"#000000\" points=\"1220.8946,-46.0033 1217.3945,-36.0034 1213.8946,-46.0034 1220.8946,-46.0033\"/>\n<text text-anchor=\"middle\" x=\"1240.3945\" y=\"-57.8\" font-family=\"Times,serif\" font-size=\"14.00\" fill=\"#000000\">rdf:type</text>\n</g>\n<!-- 15&#45;&gt;7 -->\n<g id=\"edge4\" class=\"edge\">\n<title>15&#45;&gt;7</title>\n<path fill=\"none\" stroke=\"#000000\" d=\"M1240.4498,-91.9752C1264.1482,-78.5872 1301.5468,-57.4594 1330.3195,-41.2047\"/>\n<polygon fill=\"#000000\" stroke=\"#000000\" points=\"1332.3448,-44.0805 1339.3299,-36.1144 1328.9017,-37.9858 1332.3448,-44.0805\"/>\n<text text-anchor=\"middle\" x=\"1345.3945\" y=\"-57.8\" font-family=\"Times,serif\" font-size=\"14.00\" fill=\"#000000\">s:reviewCount</text>\n</g>\n<!-- 15&#45;&gt;13 -->\n<g id=\"edge15\" class=\"edge\">\n<title>15&#45;&gt;13</title>\n<path fill=\"none\" stroke=\"#000000\" d=\"M1191.4833,-93.7596C1172.3309,-85.3448 1147.9842,-74.3941 1138.3945,-69 1124.1215,-60.9717 1109.0674,-51.0494 1096.2225,-42.0969\"/>\n<polygon fill=\"#000000\" stroke=\"#000000\" points=\"1097.9063,-39.0012 1087.7195,-36.0892 1093.867,-44.7182 1097.9063,-39.0012\"/>\n<text text-anchor=\"middle\" x=\"1175.8945\" y=\"-57.8\" font-family=\"Times,serif\" font-size=\"14.00\" fill=\"#000000\">s:ratingValue</text>\n</g>\n<!-- 17 -->\n<g id=\"node18\" class=\"node\">\n<title>17</title>\n<ellipse fill=\"none\" stroke=\"#000000\" cx=\"227.3945\" cy=\"-192\" rx=\"68.7879\" ry=\"18\"/>\n<text text-anchor=\"middle\" x=\"227.3945\" y=\"-188.3\" font-family=\"Times,serif\" font-size=\"14.00\" fill=\"#000000\">ex:beli&#45;smart&#45;tv</text>\n</g>\n<!-- 17&#45;&gt;2 -->\n<g id=\"edge1\" class=\"edge\">\n<title>17&#45;&gt;2</title>\n<path fill=\"none\" stroke=\"#000000\" d=\"M227.3945,-173.9735C227.3945,-162.1918 227.3945,-146.5607 227.3945,-133.1581\"/>\n<polygon fill=\"#000000\" stroke=\"#000000\" points=\"230.8946,-133.0033 227.3945,-123.0034 223.8946,-133.0034 230.8946,-133.0033\"/>\n<text text-anchor=\"middle\" x=\"259.8945\" y=\"-144.8\" font-family=\"Times,serif\" font-size=\"14.00\" fill=\"#000000\">gr:category</text>\n</g>\n<!-- 17&#45;&gt;4 -->\n<g id=\"edge14\" class=\"edge\">\n<title>17&#45;&gt;4</title>\n<path fill=\"none\" stroke=\"#000000\" d=\"M259.1896,-175.8701C270.9538,-169.7819 284.3536,-162.7049 296.3945,-156 313.5093,-146.4698 332.247,-135.4312 347.8508,-126.066\"/>\n<polygon fill=\"#000000\" stroke=\"#000000\" points=\"349.8816,-128.9287 356.6401,-120.7694 346.2685,-122.9332 349.8816,-128.9287\"/>\n<text text-anchor=\"middle\" x=\"358.3945\" y=\"-144.8\" font-family=\"Times,serif\" font-size=\"14.00\" fill=\"#000000\">gr:hasBrand</text>\n</g>\n<!-- 17&#45;&gt;8 -->\n<g id=\"edge2\" class=\"edge\">\n<title>17&#45;&gt;8</title>\n<path fill=\"none\" stroke=\"#000000\" d=\"M196.7459,-175.8399C169.9194,-161.695 130.7921,-141.0642 101.6741,-125.7111\"/>\n<polygon fill=\"#000000\" stroke=\"#000000\" points=\"103.0784,-122.4948 92.6003,-120.9267 99.8135,-128.6868 103.0784,-122.4948\"/>\n<text text-anchor=\"middle\" x=\"178.3945\" y=\"-144.8\" font-family=\"Times,serif\" font-size=\"14.00\" fill=\"#000000\">rdf:type</text>\n</g>\n</g>\n</svg>\n"
          },
          "metadata": {}
        }
      ]
    },
    {
      "cell_type": "markdown",
      "metadata": {
        "id": "GGnpNTWT-Ryq"
      },
      "source": [
        "Instance 2"
      ]
    },
    {
      "cell_type": "code",
      "metadata": {
        "colab": {
          "base_uri": "https://localhost:8080/",
          "height": 332
        },
        "id": "2hbMLOH689F3",
        "outputId": "61debf79-ff00-45c0-a6fa-12e121e7e75e"
      },
      "source": [
        "%%rdf turtle\n",
        "@prefix rdfs: <http://www.w3.org/2000/01/rdf-schema#> .\n",
        "@prefix rdf: <http://www.w3.org/1999/02/22-rdf-syntax-ns#> .\n",
        "@prefix xsd: <http://www.w3.org/2001/XMLSchema#> .\n",
        "@prefix ex: <http://example.com/> .\n",
        "@prefix gr: <http://purl.org/goodrelations/v1#> .\n",
        "@prefix foaf: <http://xmlns.com/foaf/0.1/> .\n",
        "@prefix s: <http://schema.org/> .\n",
        "\n",
        "ex:beli-smart-tv a gr:SomeItems;\n",
        "  gr:category \"beli-smart-tv\"^^xsd:string;\n",
        "  gr:hasBrand ex:Toshiba .\n",
        "\n",
        "ex:Toshiba a gr:Brand;\n",
        "    gr:name \"Toshiba\"^^xsd:string.\n",
        "\n",
        "ex:Harga a gr:UnitPriceSpecification;\n",
        "  gr:hasCurrencyValue \"3788000\"^^xsd:currency.\n",
        "\n",
        "ex:TOSHIBA_Smart_HD_LED_TV_40 a gr:ProductOrServiceModel;\n",
        "  gr:name \"TOSHIBA Smart HD LED TV 40\"^^xsd:string;\n",
        "  gr:hasBrand ex:Toshiba;\n",
        "  gr:hasPriceSpecification ex:Harga;\n",
        "  foaf:page <https://www.lazada.co.id/products/toshiba-smart-hd-led-tv-40.html>;\n",
        "  s:aggregateRating [ a s:AggregateRating;\n",
        "                         s:ratingValue \"3\"^^xsd:integer;\n",
        "                         s:reviewCount \"3\"^^xsd:integer;\n",
        "                          ];\n",
        "  s:dateCreated \"2019-10-02\"^^xsd:date.\n"
      ],
      "execution_count": null,
      "outputs": [
        {
          "output_type": "display_data",
          "data": {
            "text/plain": [
              "<graphviz.dot.Digraph at 0x7f3f7e44d210>"
            ],
            "image/svg+xml": "<?xml version=\"1.0\" encoding=\"UTF-8\" standalone=\"no\"?>\n<!DOCTYPE svg PUBLIC \"-//W3C//DTD SVG 1.1//EN\"\n \"http://www.w3.org/Graphics/SVG/1.1/DTD/svg11.dtd\">\n<!-- Generated by graphviz version 2.40.1 (20161225.0304)\n -->\n<!-- Title: %3 Pages: 1 -->\n<svg width=\"1899pt\" height=\"218pt\"\n viewBox=\"0.00 0.00 1898.68 218.00\" xmlns=\"http://www.w3.org/2000/svg\" xmlns:xlink=\"http://www.w3.org/1999/xlink\">\n<g id=\"graph0\" class=\"graph\" transform=\"scale(1 1) rotate(0) translate(4 214)\">\n<title>%3</title>\n<polygon fill=\"#ffffff\" stroke=\"transparent\" points=\"-4,4 -4,-214 1894.677,-214 1894.677,4 -4,4\"/>\n<!-- 0 -->\n<g id=\"node1\" class=\"node\">\n<title>0</title>\n<ellipse fill=\"none\" stroke=\"#000000\" cx=\"1291.677\" cy=\"-18\" rx=\"44.393\" ry=\"18\"/>\n<text text-anchor=\"middle\" x=\"1291.677\" y=\"-14.3\" font-family=\"Times,serif\" font-size=\"14.00\" fill=\"#000000\">gr:Brand</text>\n</g>\n<!-- 1 -->\n<g id=\"node2\" class=\"node\">\n<title>1</title>\n<ellipse fill=\"none\" stroke=\"#000000\" cx=\"1527.677\" cy=\"-105\" rx=\"32.4942\" ry=\"18\"/>\n<text text-anchor=\"middle\" x=\"1527.677\" y=\"-101.3\" font-family=\"Times,serif\" font-size=\"14.00\" fill=\"#000000\">_:bn0</text>\n</g>\n<!-- 4 -->\n<g id=\"node5\" class=\"node\">\n<title>4</title>\n<ellipse fill=\"none\" stroke=\"#000000\" cx=\"1726.677\" cy=\"-18\" rx=\"79.8859\" ry=\"18\"/>\n<text text-anchor=\"middle\" x=\"1726.677\" y=\"-14.3\" font-family=\"Times,serif\" font-size=\"14.00\" fill=\"#000000\">s:AggregateRating</text>\n</g>\n<!-- 1&#45;&gt;4 -->\n<g id=\"edge17\" class=\"edge\">\n<title>1&#45;&gt;4</title>\n<path fill=\"none\" stroke=\"#000000\" d=\"M1552.6373,-93.1519C1558.1591,-90.8571 1564.0446,-88.6549 1569.677,-87 1615.945,-73.4055 1633.9247,-91.3107 1676.677,-69 1688.3568,-62.9048 1698.9543,-53.084 1707.356,-43.68\"/>\n<polygon fill=\"#000000\" stroke=\"#000000\" points=\"1710.0906,-45.8666 1713.8725,-35.9697 1704.7443,-41.348 1710.0906,-45.8666\"/>\n<text text-anchor=\"middle\" x=\"1720.677\" y=\"-57.8\" font-family=\"Times,serif\" font-size=\"14.00\" fill=\"#000000\">rdf:type</text>\n</g>\n<!-- 12 -->\n<g id=\"node13\" class=\"node\">\n<title>12</title>\n<polygon fill=\"none\" stroke=\"#000000\" points=\"1629.177,-36 1516.177,-36 1516.177,0 1629.177,0 1629.177,-36\"/>\n<text text-anchor=\"middle\" x=\"1572.677\" y=\"-14.3\" font-family=\"Times,serif\" font-size=\"14.00\" fill=\"#000000\">&quot;3&quot;^^xsd:integer</text>\n</g>\n<!-- 1&#45;&gt;12 -->\n<g id=\"edge3\" class=\"edge\">\n<title>1&#45;&gt;12</title>\n<path fill=\"none\" stroke=\"#000000\" d=\"M1554.8892,-94.8447C1566.2287,-89.1025 1578.2364,-80.6855 1584.677,-69 1588.5669,-61.9425 1588.3273,-53.6619 1586.3505,-45.8498\"/>\n<polygon fill=\"#000000\" stroke=\"#000000\" points=\"1589.6437,-44.6631 1583.0975,-36.3326 1583.0199,-46.9271 1589.6437,-44.6631\"/>\n<text text-anchor=\"middle\" x=\"1630.677\" y=\"-57.8\" font-family=\"Times,serif\" font-size=\"14.00\" fill=\"#000000\">s:reviewCount</text>\n</g>\n<!-- 1&#45;&gt;12 -->\n<g id=\"edge14\" class=\"edge\">\n<title>1&#45;&gt;12</title>\n<path fill=\"none\" stroke=\"#000000\" d=\"M1512.9321,-88.8479C1505.3847,-78.5438 1499.0462,-65.0903 1505.677,-54 1508.252,-49.6933 1511.5388,-45.8719 1515.2694,-42.4867\"/>\n<polygon fill=\"#000000\" stroke=\"#000000\" points=\"1517.7046,-45.0275 1523.4641,-36.1349 1513.4162,-39.4948 1517.7046,-45.0275\"/>\n<text text-anchor=\"middle\" x=\"1543.177\" y=\"-57.8\" font-family=\"Times,serif\" font-size=\"14.00\" fill=\"#000000\">s:ratingValue</text>\n</g>\n<!-- 2 -->\n<g id=\"node3\" class=\"node\">\n<title>2</title>\n<ellipse fill=\"none\" stroke=\"#000000\" cx=\"258.677\" cy=\"-105\" rx=\"258.8542\" ry=\"18\"/>\n<text text-anchor=\"start\" x=\"67.677\" y=\"-101.3\" font-family=\"Times,serif\" font-size=\"14.00\" fill=\"#000000\">https://www.lazada.co.id/products/toshiba&#45;smart&#45;hd&#45;led&#45;tv&#45;40.html</text>\n</g>\n<!-- 3 -->\n<g id=\"node4\" class=\"node\">\n<title>3</title>\n<polygon fill=\"none\" stroke=\"#000000\" points=\"1890.677,-123 1720.677,-123 1720.677,-87 1890.677,-87 1890.677,-123\"/>\n<text text-anchor=\"middle\" x=\"1805.677\" y=\"-101.3\" font-family=\"Times,serif\" font-size=\"14.00\" fill=\"#000000\">&quot;beli&#45;smart&#45;tv&quot;^^xsd:string</text>\n</g>\n<!-- 5 -->\n<g id=\"node6\" class=\"node\">\n<title>5</title>\n<ellipse fill=\"none\" stroke=\"#000000\" cx=\"1425.677\" cy=\"-105\" rx=\"51.9908\" ry=\"18\"/>\n<text text-anchor=\"middle\" x=\"1425.677\" y=\"-101.3\" font-family=\"Times,serif\" font-size=\"14.00\" fill=\"#000000\">ex:Toshiba</text>\n</g>\n<!-- 5&#45;&gt;0 -->\n<g id=\"edge6\" class=\"edge\">\n<title>5&#45;&gt;0</title>\n<path fill=\"none\" stroke=\"#000000\" d=\"M1401.0994,-89.0429C1379.3924,-74.9495 1347.5931,-54.3037 1323.8623,-38.8964\"/>\n<polygon fill=\"#000000\" stroke=\"#000000\" points=\"1325.4934,-35.7825 1315.2002,-33.2725 1321.6816,-41.6536 1325.4934,-35.7825\"/>\n<text text-anchor=\"middle\" x=\"1390.677\" y=\"-57.8\" font-family=\"Times,serif\" font-size=\"14.00\" fill=\"#000000\">rdf:type</text>\n</g>\n<!-- 13 -->\n<g id=\"node14\" class=\"node\">\n<title>13</title>\n<polygon fill=\"none\" stroke=\"#000000\" points=\"1497.677,-36 1353.677,-36 1353.677,0 1497.677,0 1497.677,-36\"/>\n<text text-anchor=\"middle\" x=\"1425.677\" y=\"-14.3\" font-family=\"Times,serif\" font-size=\"14.00\" fill=\"#000000\">&quot;Toshiba&quot;^^xsd:string</text>\n</g>\n<!-- 5&#45;&gt;13 -->\n<g id=\"edge2\" class=\"edge\">\n<title>5&#45;&gt;13</title>\n<path fill=\"none\" stroke=\"#000000\" d=\"M1425.677,-86.9735C1425.677,-75.1918 1425.677,-59.5607 1425.677,-46.1581\"/>\n<polygon fill=\"#000000\" stroke=\"#000000\" points=\"1429.1771,-46.0033 1425.677,-36.0034 1422.1771,-46.0034 1429.1771,-46.0033\"/>\n<text text-anchor=\"middle\" x=\"1449.177\" y=\"-57.8\" font-family=\"Times,serif\" font-size=\"14.00\" fill=\"#000000\">gr:name</text>\n</g>\n<!-- 6 -->\n<g id=\"node7\" class=\"node\">\n<title>6</title>\n<ellipse fill=\"none\" stroke=\"#000000\" cx=\"682.677\" cy=\"-18\" rx=\"104.7816\" ry=\"18\"/>\n<text text-anchor=\"middle\" x=\"682.677\" y=\"-14.3\" font-family=\"Times,serif\" font-size=\"14.00\" fill=\"#000000\">gr:UnitPriceSpecification</text>\n</g>\n<!-- 7 -->\n<g id=\"node8\" class=\"node\">\n<title>7</title>\n<ellipse fill=\"none\" stroke=\"#000000\" cx=\"579.677\" cy=\"-105\" rx=\"44.393\" ry=\"18\"/>\n<text text-anchor=\"middle\" x=\"579.677\" y=\"-101.3\" font-family=\"Times,serif\" font-size=\"14.00\" fill=\"#000000\">ex:Harga</text>\n</g>\n<!-- 7&#45;&gt;6 -->\n<g id=\"edge9\" class=\"edge\">\n<title>7&#45;&gt;6</title>\n<path fill=\"none\" stroke=\"#000000\" d=\"M599.0506,-88.636C614.5143,-75.5744 636.4122,-57.0781 653.9211,-42.289\"/>\n<polygon fill=\"#000000\" stroke=\"#000000\" points=\"656.237,-44.9144 661.618,-35.7878 651.72,-39.5667 656.237,-44.9144\"/>\n<text text-anchor=\"middle\" x=\"660.677\" y=\"-57.8\" font-family=\"Times,serif\" font-size=\"14.00\" fill=\"#000000\">rdf:type</text>\n</g>\n<!-- 11 -->\n<g id=\"node12\" class=\"node\">\n<title>11</title>\n<polygon fill=\"none\" stroke=\"#000000\" points=\"559.677,-36 391.677,-36 391.677,0 559.677,0 559.677,-36\"/>\n<text text-anchor=\"middle\" x=\"475.677\" y=\"-14.3\" font-family=\"Times,serif\" font-size=\"14.00\" fill=\"#000000\">&quot;3788000&quot;^^xsd:currency</text>\n</g>\n<!-- 7&#45;&gt;11 -->\n<g id=\"edge15\" class=\"edge\">\n<title>7&#45;&gt;11</title>\n<path fill=\"none\" stroke=\"#000000\" d=\"M543.4994,-94.5051C528.8221,-88.8289 512.5646,-80.557 500.677,-69 494.0708,-62.5775 488.9566,-54.0491 485.1253,-45.8078\"/>\n<polygon fill=\"#000000\" stroke=\"#000000\" points=\"488.2846,-44.2902 481.2044,-36.4084 481.8241,-46.9851 488.2846,-44.2902\"/>\n<text text-anchor=\"middle\" x=\"561.177\" y=\"-57.8\" font-family=\"Times,serif\" font-size=\"14.00\" fill=\"#000000\">gr:hasCurrencyValue</text>\n</g>\n<!-- 8 -->\n<g id=\"node9\" class=\"node\">\n<title>8</title>\n<ellipse fill=\"none\" stroke=\"#000000\" cx=\"1640.677\" cy=\"-105\" rx=\"62.2891\" ry=\"18\"/>\n<text text-anchor=\"middle\" x=\"1640.677\" y=\"-101.3\" font-family=\"Times,serif\" font-size=\"14.00\" fill=\"#000000\">gr:SomeItems</text>\n</g>\n<!-- 9 -->\n<g id=\"node10\" class=\"node\">\n<title>9</title>\n<polygon fill=\"none\" stroke=\"#000000\" points=\"799.677,-123 641.677,-123 641.677,-87 799.677,-87 799.677,-123\"/>\n<text text-anchor=\"middle\" x=\"720.677\" y=\"-101.3\" font-family=\"Times,serif\" font-size=\"14.00\" fill=\"#000000\">&quot;2019&#45;10&#45;02&quot;^^xsd:date</text>\n</g>\n<!-- 10 -->\n<g id=\"node11\" class=\"node\">\n<title>10</title>\n<ellipse fill=\"none\" stroke=\"#000000\" cx=\"929.677\" cy=\"-105\" rx=\"111.5806\" ry=\"18\"/>\n<text text-anchor=\"middle\" x=\"929.677\" y=\"-101.3\" font-family=\"Times,serif\" font-size=\"14.00\" fill=\"#000000\">gr:ProductOrServiceModel</text>\n</g>\n<!-- 14 -->\n<g id=\"node15\" class=\"node\">\n<title>14</title>\n<ellipse fill=\"none\" stroke=\"#000000\" cx=\"929.677\" cy=\"-192\" rx=\"163.5712\" ry=\"18\"/>\n<text text-anchor=\"middle\" x=\"929.677\" y=\"-188.3\" font-family=\"Times,serif\" font-size=\"14.00\" fill=\"#000000\">ex:TOSHIBA_Smart_HD_LED_TV_40</text>\n</g>\n<!-- 14&#45;&gt;1 -->\n<g id=\"edge11\" class=\"edge\">\n<title>14&#45;&gt;1</title>\n<path fill=\"none\" stroke=\"#000000\" d=\"M1077.7077,-184.272C1157.1865,-178.8379 1256.646,-169.9749 1344.677,-156 1360.6749,-153.4603 1471.3063,-128.111 1486.677,-123 1488.9177,-122.2549 1491.2039,-121.4333 1493.4932,-120.5637\"/>\n<polygon fill=\"#000000\" stroke=\"#000000\" points=\"1494.8565,-123.7878 1502.8136,-116.7924 1492.2309,-117.2988 1494.8565,-123.7878\"/>\n<text text-anchor=\"middle\" x=\"1464.177\" y=\"-144.8\" font-family=\"Times,serif\" font-size=\"14.00\" fill=\"#000000\">s:aggregateRating</text>\n</g>\n<!-- 14&#45;&gt;2 -->\n<g id=\"edge5\" class=\"edge\">\n<title>14&#45;&gt;2</title>\n<path fill=\"none\" stroke=\"#000000\" d=\"M802.3443,-180.6669C735.6278,-174.2926 652.6271,-165.6775 578.677,-156 507.2116,-146.6476 427.1302,-133.8828 364.9558,-123.4634\"/>\n<polygon fill=\"#000000\" stroke=\"#000000\" points=\"365.1851,-119.9529 354.7432,-121.7461 364.0243,-126.856 365.1851,-119.9529\"/>\n<text text-anchor=\"middle\" x=\"605.677\" y=\"-144.8\" font-family=\"Times,serif\" font-size=\"14.00\" fill=\"#000000\">foaf:page</text>\n</g>\n<!-- 14&#45;&gt;5 -->\n<g id=\"edge16\" class=\"edge\">\n<title>14&#45;&gt;5</title>\n<path fill=\"none\" stroke=\"#000000\" d=\"M1039.4741,-178.5929C1127.8787,-166.8382 1255.0351,-147.7628 1364.677,-123 1368.7967,-122.0696 1373.0472,-121.0153 1377.2973,-119.8951\"/>\n<polygon fill=\"#000000\" stroke=\"#000000\" points=\"1378.436,-123.212 1387.1519,-117.1884 1376.582,-116.4619 1378.436,-123.212\"/>\n<text text-anchor=\"middle\" x=\"1305.677\" y=\"-144.8\" font-family=\"Times,serif\" font-size=\"14.00\" fill=\"#000000\">gr:hasBrand</text>\n</g>\n<!-- 14&#45;&gt;7 -->\n<g id=\"edge12\" class=\"edge\">\n<title>14&#45;&gt;7</title>\n<path fill=\"none\" stroke=\"#000000\" d=\"M809.9112,-179.667C755.0171,-173.1366 696.4943,-164.6837 670.677,-156 649.6761,-148.9362 627.9642,-136.976 611.0175,-126.4128\"/>\n<polygon fill=\"#000000\" stroke=\"#000000\" points=\"612.438,-123.1667 602.1276,-120.728 608.6668,-129.064 612.438,-123.1667\"/>\n<text text-anchor=\"middle\" x=\"739.677\" y=\"-144.8\" font-family=\"Times,serif\" font-size=\"14.00\" fill=\"#000000\">gr:hasPriceSpecification</text>\n</g>\n<!-- 14&#45;&gt;9 -->\n<g id=\"edge7\" class=\"edge\">\n<title>14&#45;&gt;9</title>\n<path fill=\"none\" stroke=\"#000000\" d=\"M887.6342,-174.4989C854.8378,-160.8468 809.0775,-141.7983 773.7566,-127.0953\"/>\n<polygon fill=\"#000000\" stroke=\"#000000\" points=\"774.6677,-123.6835 764.0905,-123.0716 771.9775,-130.1459 774.6677,-123.6835\"/>\n<text text-anchor=\"middle\" x=\"876.677\" y=\"-144.8\" font-family=\"Times,serif\" font-size=\"14.00\" fill=\"#000000\">s:dateCreated</text>\n</g>\n<!-- 14&#45;&gt;10 -->\n<g id=\"edge4\" class=\"edge\">\n<title>14&#45;&gt;10</title>\n<path fill=\"none\" stroke=\"#000000\" d=\"M929.677,-173.9735C929.677,-162.1918 929.677,-146.5607 929.677,-133.1581\"/>\n<polygon fill=\"#000000\" stroke=\"#000000\" points=\"933.1771,-133.0033 929.677,-123.0034 926.1771,-133.0034 933.1771,-133.0033\"/>\n<text text-anchor=\"middle\" x=\"952.677\" y=\"-144.8\" font-family=\"Times,serif\" font-size=\"14.00\" fill=\"#000000\">rdf:type</text>\n</g>\n<!-- 15 -->\n<g id=\"node16\" class=\"node\">\n<title>15</title>\n<polygon fill=\"none\" stroke=\"#000000\" points=\"1356.177,-123 1059.177,-123 1059.177,-87 1356.177,-87 1356.177,-123\"/>\n<text text-anchor=\"middle\" x=\"1207.677\" y=\"-101.3\" font-family=\"Times,serif\" font-size=\"14.00\" fill=\"#000000\">&quot;TOSHIBA Smart HD LED TV 40&quot;^^xsd:string</text>\n</g>\n<!-- 14&#45;&gt;15 -->\n<g id=\"edge13\" class=\"edge\">\n<title>14&#45;&gt;15</title>\n<path fill=\"none\" stroke=\"#000000\" d=\"M984.2692,-174.9154C1028.9456,-160.9339 1092.3453,-141.093 1140.1996,-126.117\"/>\n<polygon fill=\"#000000\" stroke=\"#000000\" points=\"1141.3594,-129.4215 1149.8577,-123.0946 1139.2687,-122.741 1141.3594,-129.4215\"/>\n<text text-anchor=\"middle\" x=\"1109.177\" y=\"-144.8\" font-family=\"Times,serif\" font-size=\"14.00\" fill=\"#000000\">gr:name</text>\n</g>\n<!-- 16 -->\n<g id=\"node17\" class=\"node\">\n<title>16</title>\n<ellipse fill=\"none\" stroke=\"#000000\" cx=\"1640.677\" cy=\"-192\" rx=\"68.7879\" ry=\"18\"/>\n<text text-anchor=\"middle\" x=\"1640.677\" y=\"-188.3\" font-family=\"Times,serif\" font-size=\"14.00\" fill=\"#000000\">ex:beli&#45;smart&#45;tv</text>\n</g>\n<!-- 16&#45;&gt;3 -->\n<g id=\"edge10\" class=\"edge\">\n<title>16&#45;&gt;3</title>\n<path fill=\"none\" stroke=\"#000000\" d=\"M1671.3256,-175.8399C1696.9747,-162.3158 1733.8687,-142.8626 1762.5077,-127.762\"/>\n<polygon fill=\"#000000\" stroke=\"#000000\" points=\"1764.278,-130.7854 1771.4913,-123.0252 1761.0131,-124.5934 1764.278,-130.7854\"/>\n<text text-anchor=\"middle\" x=\"1765.177\" y=\"-144.8\" font-family=\"Times,serif\" font-size=\"14.00\" fill=\"#000000\">gr:category</text>\n</g>\n<!-- 16&#45;&gt;5 -->\n<g id=\"edge1\" class=\"edge\">\n<title>16&#45;&gt;5</title>\n<path fill=\"none\" stroke=\"#000000\" d=\"M1603.2269,-176.8458C1565.8498,-161.7211 1508.4613,-138.4987 1469.108,-122.5744\"/>\n<polygon fill=\"#000000\" stroke=\"#000000\" points=\"1470.0974,-119.1991 1459.5147,-118.6925 1467.4717,-125.688 1470.0974,-119.1991\"/>\n<text text-anchor=\"middle\" x=\"1581.677\" y=\"-144.8\" font-family=\"Times,serif\" font-size=\"14.00\" fill=\"#000000\">gr:hasBrand</text>\n</g>\n<!-- 16&#45;&gt;8 -->\n<g id=\"edge8\" class=\"edge\">\n<title>16&#45;&gt;8</title>\n<path fill=\"none\" stroke=\"#000000\" d=\"M1640.677,-173.9735C1640.677,-162.1918 1640.677,-146.5607 1640.677,-133.1581\"/>\n<polygon fill=\"#000000\" stroke=\"#000000\" points=\"1644.1771,-133.0033 1640.677,-123.0034 1637.1771,-133.0034 1644.1771,-133.0033\"/>\n<text text-anchor=\"middle\" x=\"1663.677\" y=\"-144.8\" font-family=\"Times,serif\" font-size=\"14.00\" fill=\"#000000\">rdf:type</text>\n</g>\n</g>\n</svg>\n"
          },
          "metadata": {}
        }
      ]
    },
    {
      "cell_type": "markdown",
      "metadata": {
        "id": "4RRU49te-Sus"
      },
      "source": [
        "Instance 3"
      ]
    },
    {
      "cell_type": "code",
      "metadata": {
        "colab": {
          "base_uri": "https://localhost:8080/",
          "height": 332
        },
        "id": "AiX3yiei89Qm",
        "outputId": "b074391a-7b5e-4dcc-f48f-f24d308f6da2"
      },
      "source": [
        "%%rdf turtle\n",
        "@prefix rdfs: <http://www.w3.org/2000/01/rdf-schema#> .\n",
        "@prefix rdf: <http://www.w3.org/1999/02/22-rdf-syntax-ns#> .\n",
        "@prefix xsd: <http://www.w3.org/2001/XMLSchema#> .\n",
        "@prefix ex: <http://example.com/> .\n",
        "@prefix gr: <http://purl.org/goodrelations/v1#> .\n",
        "@prefix foaf: <http://xmlns.com/foaf/0.1/> .\n",
        "@prefix s: <http://schema.org/> .\n",
        "\n",
        "ex:beli-smart-tv a gr:SomeItems;\n",
        "  gr:category \"beli-smart-tv\"^^xsd:string;\n",
        "  gr:hasBrand ex:Sharp .\n",
        "\n",
        "ex:Sharp a gr:Brand;\n",
        "    gr:name \"Sharp\"^^xsd:string.\n",
        "\n",
        "ex:Harga a gr:UnitPriceSpecification;\n",
        "  gr:hasCurrencyValue \"1275000\"^^xsd:currency.\n",
        "\n",
        "ex:Sharp_HD_LED_TV_24 a gr:ProductOrServiceModel;\n",
        "  gr:name \"Sharp HD LED TV 24\"^^xsd:string;\n",
        "  gr:hasBrand ex:Sharp;\n",
        "  gr:hasPriceSpecification ex:Harga;\n",
        "  foaf:page <https://www.lazada.co.id/products/sharp-hd-led-tv-24-lc-24le175i-hitam-i100004505-s100007387.html>;\n",
        "  s:aggregateRating [ a s:AggregateRating;\n",
        "                         s:ratingValue \"3\"^^xsd:integer;\n",
        "                         s:reviewCount \"11\"^^xsd:integer;\n",
        "                          ];\n",
        "  s:dateCreated \"2019-10-02\"^^xsd:date.\n"
      ],
      "execution_count": null,
      "outputs": [
        {
          "output_type": "display_data",
          "data": {
            "text/plain": [
              "<graphviz.dot.Digraph at 0x7f3f770d5f90>"
            ],
            "image/svg+xml": "<?xml version=\"1.0\" encoding=\"UTF-8\" standalone=\"no\"?>\n<!DOCTYPE svg PUBLIC \"-//W3C//DTD SVG 1.1//EN\"\n \"http://www.w3.org/Graphics/SVG/1.1/DTD/svg11.dtd\">\n<!-- Generated by graphviz version 2.40.1 (20161225.0304)\n -->\n<!-- Title: %3 Pages: 1 -->\n<svg width=\"2095pt\" height=\"218pt\"\n viewBox=\"0.00 0.00 2094.89 218.00\" xmlns=\"http://www.w3.org/2000/svg\" xmlns:xlink=\"http://www.w3.org/1999/xlink\">\n<g id=\"graph0\" class=\"graph\" transform=\"scale(1 1) rotate(0) translate(4 214)\">\n<title>%3</title>\n<polygon fill=\"#ffffff\" stroke=\"transparent\" points=\"-4,4 -4,-214 2090.8945,-214 2090.8945,4 -4,4\"/>\n<!-- 0 -->\n<g id=\"node1\" class=\"node\">\n<title>0</title>\n<ellipse fill=\"none\" stroke=\"#000000\" cx=\"1648.5\" cy=\"-18\" rx=\"44.393\" ry=\"18\"/>\n<text text-anchor=\"middle\" x=\"1648.5\" y=\"-14.3\" font-family=\"Times,serif\" font-size=\"14.00\" fill=\"#000000\">gr:Brand</text>\n</g>\n<!-- 1 -->\n<g id=\"node2\" class=\"node\">\n<title>1</title>\n<polygon fill=\"none\" stroke=\"#000000\" points=\"1944.5,-123 1774.5,-123 1774.5,-87 1944.5,-87 1944.5,-123\"/>\n<text text-anchor=\"middle\" x=\"1859.5\" y=\"-101.3\" font-family=\"Times,serif\" font-size=\"14.00\" fill=\"#000000\">&quot;beli&#45;smart&#45;tv&quot;^^xsd:string</text>\n</g>\n<!-- 2 -->\n<g id=\"node3\" class=\"node\">\n<title>2</title>\n<ellipse fill=\"none\" stroke=\"#000000\" cx=\"1046.5\" cy=\"-18\" rx=\"79.8859\" ry=\"18\"/>\n<text text-anchor=\"middle\" x=\"1046.5\" y=\"-14.3\" font-family=\"Times,serif\" font-size=\"14.00\" fill=\"#000000\">s:AggregateRating</text>\n</g>\n<!-- 3 -->\n<g id=\"node4\" class=\"node\">\n<title>3</title>\n<polygon fill=\"none\" stroke=\"#000000\" points=\"231,-123 0,-123 0,-87 231,-87 231,-123\"/>\n<text text-anchor=\"middle\" x=\"115.5\" y=\"-101.3\" font-family=\"Times,serif\" font-size=\"14.00\" fill=\"#000000\">&quot;Sharp HD LED TV 24&quot;^^xsd:string</text>\n</g>\n<!-- 4 -->\n<g id=\"node5\" class=\"node\">\n<title>4</title>\n<ellipse fill=\"none\" stroke=\"#000000\" cx=\"1200.5\" cy=\"-192\" rx=\"118.0794\" ry=\"18\"/>\n<text text-anchor=\"middle\" x=\"1200.5\" y=\"-188.3\" font-family=\"Times,serif\" font-size=\"14.00\" fill=\"#000000\">ex:Sharp_HD_LED_TV_24</text>\n</g>\n<!-- 4&#45;&gt;3 -->\n<g id=\"edge15\" class=\"edge\">\n<title>4&#45;&gt;3</title>\n<path fill=\"none\" stroke=\"#000000\" d=\"M1082.4054,-190.476C932.0315,-187.6084 664.3579,-179.3969 436.5,-156 364.169,-148.5729 283.3255,-135.7014 220.8644,-124.748\"/>\n<polygon fill=\"#000000\" stroke=\"#000000\" points=\"221.4579,-121.2988 211.0018,-123.0077 220.2414,-128.1923 221.4579,-121.2988\"/>\n<text text-anchor=\"middle\" x=\"460\" y=\"-144.8\" font-family=\"Times,serif\" font-size=\"14.00\" fill=\"#000000\">gr:name</text>\n</g>\n<!-- 6 -->\n<g id=\"node7\" class=\"node\">\n<title>6</title>\n<ellipse fill=\"none\" stroke=\"#000000\" cx=\"293.5\" cy=\"-105\" rx=\"44.393\" ry=\"18\"/>\n<text text-anchor=\"middle\" x=\"293.5\" y=\"-101.3\" font-family=\"Times,serif\" font-size=\"14.00\" fill=\"#000000\">ex:Harga</text>\n</g>\n<!-- 4&#45;&gt;6 -->\n<g id=\"edge12\" class=\"edge\">\n<title>4&#45;&gt;6</title>\n<path fill=\"none\" stroke=\"#000000\" d=\"M1087.856,-186.3563C889.3331,-175.8335 485.0613,-151.6668 346.5,-123 342.9107,-122.2574 339.2285,-121.3429 335.5587,-120.3232\"/>\n<polygon fill=\"#000000\" stroke=\"#000000\" points=\"336.5306,-116.9607 325.9459,-117.4244 334.5095,-123.6626 336.5306,-116.9607\"/>\n<text text-anchor=\"middle\" x=\"682.5\" y=\"-144.8\" font-family=\"Times,serif\" font-size=\"14.00\" fill=\"#000000\">gr:hasPriceSpecification</text>\n</g>\n<!-- 7 -->\n<g id=\"node8\" class=\"node\">\n<title>7</title>\n<ellipse fill=\"none\" stroke=\"#000000\" cx=\"752.5\" cy=\"-105\" rx=\"397.2296\" ry=\"18\"/>\n<text text-anchor=\"start\" x=\"455\" y=\"-101.3\" font-family=\"Times,serif\" font-size=\"14.00\" fill=\"#000000\">https://www.lazada.co.id/products/sharp&#45;hd&#45;led&#45;tv&#45;24&#45;lc&#45;24le175i&#45;hitam&#45;i100004505&#45;s100007387.html</text>\n</g>\n<!-- 4&#45;&gt;7 -->\n<g id=\"edge8\" class=\"edge\">\n<title>4&#45;&gt;7</title>\n<path fill=\"none\" stroke=\"#000000\" d=\"M1127.524,-177.8283C1052.8306,-163.3231 936.2016,-140.6742 852.8444,-124.4865\"/>\n<polygon fill=\"#000000\" stroke=\"#000000\" points=\"853.3327,-121.016 842.8488,-122.5454 851.9982,-127.8877 853.3327,-121.016\"/>\n<text text-anchor=\"middle\" x=\"1030.5\" y=\"-144.8\" font-family=\"Times,serif\" font-size=\"14.00\" fill=\"#000000\">foaf:page</text>\n</g>\n<!-- 9 -->\n<g id=\"node10\" class=\"node\">\n<title>9</title>\n<ellipse fill=\"none\" stroke=\"#000000\" cx=\"1200.5\" cy=\"-105\" rx=\"32.4942\" ry=\"18\"/>\n<text text-anchor=\"middle\" x=\"1200.5\" y=\"-101.3\" font-family=\"Times,serif\" font-size=\"14.00\" fill=\"#000000\">_:bn0</text>\n</g>\n<!-- 4&#45;&gt;9 -->\n<g id=\"edge2\" class=\"edge\">\n<title>4&#45;&gt;9</title>\n<path fill=\"none\" stroke=\"#000000\" d=\"M1200.5,-173.9735C1200.5,-162.1918 1200.5,-146.5607 1200.5,-133.1581\"/>\n<polygon fill=\"#000000\" stroke=\"#000000\" points=\"1204.0001,-133.0033 1200.5,-123.0034 1197.0001,-133.0034 1204.0001,-133.0033\"/>\n<text text-anchor=\"middle\" x=\"1252\" y=\"-144.8\" font-family=\"Times,serif\" font-size=\"14.00\" fill=\"#000000\">s:aggregateRating</text>\n</g>\n<!-- 10 -->\n<g id=\"node11\" class=\"node\">\n<title>10</title>\n<polygon fill=\"none\" stroke=\"#000000\" points=\"1408.5,-123 1250.5,-123 1250.5,-87 1408.5,-87 1408.5,-123\"/>\n<text text-anchor=\"middle\" x=\"1329.5\" y=\"-101.3\" font-family=\"Times,serif\" font-size=\"14.00\" fill=\"#000000\">&quot;2019&#45;10&#45;02&quot;^^xsd:date</text>\n</g>\n<!-- 4&#45;&gt;10 -->\n<g id=\"edge13\" class=\"edge\">\n<title>4&#45;&gt;10</title>\n<path fill=\"none\" stroke=\"#000000\" d=\"M1271.3339,-177.537C1284.4721,-172.3907 1297.2617,-165.4247 1307.5,-156 1314.231,-149.8039 1318.9945,-141.1956 1322.3245,-132.8142\"/>\n<polygon fill=\"#000000\" stroke=\"#000000\" points=\"1325.6755,-133.832 1325.607,-123.2374 1319.0536,-131.5623 1325.6755,-133.832\"/>\n<text text-anchor=\"middle\" x=\"1356.5\" y=\"-144.8\" font-family=\"Times,serif\" font-size=\"14.00\" fill=\"#000000\">s:dateCreated</text>\n</g>\n<!-- 11 -->\n<g id=\"node12\" class=\"node\">\n<title>11</title>\n<ellipse fill=\"none\" stroke=\"#000000\" cx=\"1538.5\" cy=\"-105\" rx=\"111.5806\" ry=\"18\"/>\n<text text-anchor=\"middle\" x=\"1538.5\" y=\"-101.3\" font-family=\"Times,serif\" font-size=\"14.00\" fill=\"#000000\">gr:ProductOrServiceModel</text>\n</g>\n<!-- 4&#45;&gt;11 -->\n<g id=\"edge11\" class=\"edge\">\n<title>4&#45;&gt;11</title>\n<path fill=\"none\" stroke=\"#000000\" d=\"M1286.4847,-179.6283C1321.528,-173.7437 1362.2482,-165.8225 1398.5,-156 1428.9646,-147.7456 1462.1927,-135.774 1488.6294,-125.5038\"/>\n<polygon fill=\"#000000\" stroke=\"#000000\" points=\"1490.0153,-128.7198 1498.0442,-121.807 1487.4568,-122.2041 1490.0153,-128.7198\"/>\n<text text-anchor=\"middle\" x=\"1468.5\" y=\"-144.8\" font-family=\"Times,serif\" font-size=\"14.00\" fill=\"#000000\">rdf:type</text>\n</g>\n<!-- 16 -->\n<g id=\"node17\" class=\"node\">\n<title>16</title>\n<ellipse fill=\"none\" stroke=\"#000000\" cx=\"1712.5\" cy=\"-105\" rx=\"44.393\" ry=\"18\"/>\n<text text-anchor=\"middle\" x=\"1712.5\" y=\"-101.3\" font-family=\"Times,serif\" font-size=\"14.00\" fill=\"#000000\">ex:Sharp</text>\n</g>\n<!-- 4&#45;&gt;16 -->\n<g id=\"edge16\" class=\"edge\">\n<title>4&#45;&gt;16</title>\n<path fill=\"none\" stroke=\"#000000\" d=\"M1303.9656,-183.2316C1397.908,-173.6774 1539.669,-155.2608 1659.5,-123 1662.8385,-122.1012 1666.2727,-121.1046 1669.7115,-120.0547\"/>\n<polygon fill=\"#000000\" stroke=\"#000000\" points=\"1670.8712,-123.3587 1679.3396,-116.9917 1668.7491,-116.6881 1670.8712,-123.3587\"/>\n<text text-anchor=\"middle\" x=\"1608.5\" y=\"-144.8\" font-family=\"Times,serif\" font-size=\"14.00\" fill=\"#000000\">gr:hasBrand</text>\n</g>\n<!-- 5 -->\n<g id=\"node6\" class=\"node\">\n<title>5</title>\n<ellipse fill=\"none\" stroke=\"#000000\" cx=\"190.5\" cy=\"-18\" rx=\"104.7816\" ry=\"18\"/>\n<text text-anchor=\"middle\" x=\"190.5\" y=\"-14.3\" font-family=\"Times,serif\" font-size=\"14.00\" fill=\"#000000\">gr:UnitPriceSpecification</text>\n</g>\n<!-- 6&#45;&gt;5 -->\n<g id=\"edge9\" class=\"edge\">\n<title>6&#45;&gt;5</title>\n<path fill=\"none\" stroke=\"#000000\" d=\"M274.1265,-88.636C258.6628,-75.5744 236.7649,-57.0781 219.256,-42.289\"/>\n<polygon fill=\"#000000\" stroke=\"#000000\" points=\"221.4571,-39.5667 211.5591,-35.7878 216.9401,-44.9144 221.4571,-39.5667\"/>\n<text text-anchor=\"middle\" x=\"271.5\" y=\"-57.8\" font-family=\"Times,serif\" font-size=\"14.00\" fill=\"#000000\">rdf:type</text>\n</g>\n<!-- 12 -->\n<g id=\"node13\" class=\"node\">\n<title>12</title>\n<polygon fill=\"none\" stroke=\"#000000\" points=\"481.5,-36 313.5,-36 313.5,0 481.5,0 481.5,-36\"/>\n<text text-anchor=\"middle\" x=\"397.5\" y=\"-14.3\" font-family=\"Times,serif\" font-size=\"14.00\" fill=\"#000000\">&quot;1275000&quot;^^xsd:currency</text>\n</g>\n<!-- 6&#45;&gt;12 -->\n<g id=\"edge7\" class=\"edge\">\n<title>6&#45;&gt;12</title>\n<path fill=\"none\" stroke=\"#000000\" d=\"M313.0616,-88.636C328.5734,-75.6598 350.4972,-57.3196 368.1176,-42.5795\"/>\n<polygon fill=\"#000000\" stroke=\"#000000\" points=\"370.4478,-45.1934 375.8722,-36.0925 365.9563,-39.8243 370.4478,-45.1934\"/>\n<text text-anchor=\"middle\" x=\"413\" y=\"-57.8\" font-family=\"Times,serif\" font-size=\"14.00\" fill=\"#000000\">gr:hasCurrencyValue</text>\n</g>\n<!-- 8 -->\n<g id=\"node9\" class=\"node\">\n<title>8</title>\n<ellipse fill=\"none\" stroke=\"#000000\" cx=\"2024.5\" cy=\"-105\" rx=\"62.2891\" ry=\"18\"/>\n<text text-anchor=\"middle\" x=\"2024.5\" y=\"-101.3\" font-family=\"Times,serif\" font-size=\"14.00\" fill=\"#000000\">gr:SomeItems</text>\n</g>\n<!-- 9&#45;&gt;2 -->\n<g id=\"edge4\" class=\"edge\">\n<title>9&#45;&gt;2</title>\n<path fill=\"none\" stroke=\"#000000\" d=\"M1177.4446,-91.9752C1153.1405,-78.245 1114.4269,-56.3743 1085.386,-39.9681\"/>\n<polygon fill=\"#000000\" stroke=\"#000000\" points=\"1086.7558,-36.722 1076.3275,-34.8506 1083.3127,-42.8167 1086.7558,-36.722\"/>\n<text text-anchor=\"middle\" x=\"1156.5\" y=\"-57.8\" font-family=\"Times,serif\" font-size=\"14.00\" fill=\"#000000\">rdf:type</text>\n</g>\n<!-- 13 -->\n<g id=\"node14\" class=\"node\">\n<title>13</title>\n<polygon fill=\"none\" stroke=\"#000000\" points=\"1257,-36 1144,-36 1144,0 1257,0 1257,-36\"/>\n<text text-anchor=\"middle\" x=\"1200.5\" y=\"-14.3\" font-family=\"Times,serif\" font-size=\"14.00\" fill=\"#000000\">&quot;3&quot;^^xsd:integer</text>\n</g>\n<!-- 9&#45;&gt;13 -->\n<g id=\"edge17\" class=\"edge\">\n<title>9&#45;&gt;13</title>\n<path fill=\"none\" stroke=\"#000000\" d=\"M1200.5,-86.9735C1200.5,-75.1918 1200.5,-59.5607 1200.5,-46.1581\"/>\n<polygon fill=\"#000000\" stroke=\"#000000\" points=\"1204.0001,-46.0033 1200.5,-36.0034 1197.0001,-46.0034 1204.0001,-46.0033\"/>\n<text text-anchor=\"middle\" x=\"1238\" y=\"-57.8\" font-family=\"Times,serif\" font-size=\"14.00\" fill=\"#000000\">s:ratingValue</text>\n</g>\n<!-- 14 -->\n<g id=\"node15\" class=\"node\">\n<title>14</title>\n<polygon fill=\"none\" stroke=\"#000000\" points=\"1394,-36 1275,-36 1275,0 1394,0 1394,-36\"/>\n<text text-anchor=\"middle\" x=\"1334.5\" y=\"-14.3\" font-family=\"Times,serif\" font-size=\"14.00\" fill=\"#000000\">&quot;11&quot;^^xsd:integer</text>\n</g>\n<!-- 9&#45;&gt;14 -->\n<g id=\"edge6\" class=\"edge\">\n<title>9&#45;&gt;14</title>\n<path fill=\"none\" stroke=\"#000000\" d=\"M1226.2447,-93.7586C1247.4208,-84.4308 1274.7019,-72.1961 1279.5,-69 1290.507,-61.6679 1301.437,-52.1265 1310.6188,-43.2827\"/>\n<polygon fill=\"#000000\" stroke=\"#000000\" points=\"1313.2452,-45.6074 1317.8835,-36.0818 1308.3174,-40.6358 1313.2452,-45.6074\"/>\n<text text-anchor=\"middle\" x=\"1339.5\" y=\"-57.8\" font-family=\"Times,serif\" font-size=\"14.00\" fill=\"#000000\">s:reviewCount</text>\n</g>\n<!-- 15 -->\n<g id=\"node16\" class=\"node\">\n<title>15</title>\n<polygon fill=\"none\" stroke=\"#000000\" points=\"1842.5,-36 1710.5,-36 1710.5,0 1842.5,0 1842.5,-36\"/>\n<text text-anchor=\"middle\" x=\"1776.5\" y=\"-14.3\" font-family=\"Times,serif\" font-size=\"14.00\" fill=\"#000000\">&quot;Sharp&quot;^^xsd:string</text>\n</g>\n<!-- 16&#45;&gt;0 -->\n<g id=\"edge5\" class=\"edge\">\n<title>16&#45;&gt;0</title>\n<path fill=\"none\" stroke=\"#000000\" d=\"M1699.5486,-87.3943C1690.2929,-74.8122 1677.6942,-57.6859 1667.329,-43.5957\"/>\n<polygon fill=\"#000000\" stroke=\"#000000\" points=\"1669.9587,-41.2639 1661.2137,-35.2827 1664.3201,-45.4119 1669.9587,-41.2639\"/>\n<text text-anchor=\"middle\" x=\"1707.5\" y=\"-57.8\" font-family=\"Times,serif\" font-size=\"14.00\" fill=\"#000000\">rdf:type</text>\n</g>\n<!-- 16&#45;&gt;15 -->\n<g id=\"edge14\" class=\"edge\">\n<title>16&#45;&gt;15</title>\n<path fill=\"none\" stroke=\"#000000\" d=\"M1725.4514,-87.3943C1734.5256,-75.0589 1746.813,-58.3558 1757.0587,-44.428\"/>\n<polygon fill=\"#000000\" stroke=\"#000000\" points=\"1760.021,-46.3077 1763.1273,-36.1785 1754.3823,-42.1597 1760.021,-46.3077\"/>\n<text text-anchor=\"middle\" x=\"1772\" y=\"-57.8\" font-family=\"Times,serif\" font-size=\"14.00\" fill=\"#000000\">gr:name</text>\n</g>\n<!-- 17 -->\n<g id=\"node18\" class=\"node\">\n<title>17</title>\n<ellipse fill=\"none\" stroke=\"#000000\" cx=\"1859.5\" cy=\"-192\" rx=\"68.7879\" ry=\"18\"/>\n<text text-anchor=\"middle\" x=\"1859.5\" y=\"-188.3\" font-family=\"Times,serif\" font-size=\"14.00\" fill=\"#000000\">ex:beli&#45;smart&#45;tv</text>\n</g>\n<!-- 17&#45;&gt;1 -->\n<g id=\"edge1\" class=\"edge\">\n<title>17&#45;&gt;1</title>\n<path fill=\"none\" stroke=\"#000000\" d=\"M1859.5,-173.9735C1859.5,-162.1918 1859.5,-146.5607 1859.5,-133.1581\"/>\n<polygon fill=\"#000000\" stroke=\"#000000\" points=\"1863.0001,-133.0033 1859.5,-123.0034 1856.0001,-133.0034 1863.0001,-133.0033\"/>\n<text text-anchor=\"middle\" x=\"1892\" y=\"-144.8\" font-family=\"Times,serif\" font-size=\"14.00\" fill=\"#000000\">gr:category</text>\n</g>\n<!-- 17&#45;&gt;8 -->\n<g id=\"edge10\" class=\"edge\">\n<title>17&#45;&gt;8</title>\n<path fill=\"none\" stroke=\"#000000\" d=\"M1890.783,-175.7411C1902.6106,-169.5774 1916.1855,-162.4834 1928.5,-156 1947.24,-146.1337 1967.9973,-135.1174 1985.4024,-125.8551\"/>\n<polygon fill=\"#000000\" stroke=\"#000000\" points=\"1987.5111,-128.6976 1994.6929,-120.9083 1984.2211,-122.5189 1987.5111,-128.6976\"/>\n<text text-anchor=\"middle\" x=\"1977.5\" y=\"-144.8\" font-family=\"Times,serif\" font-size=\"14.00\" fill=\"#000000\">rdf:type</text>\n</g>\n<!-- 17&#45;&gt;16 -->\n<g id=\"edge3\" class=\"edge\">\n<title>17&#45;&gt;16</title>\n<path fill=\"none\" stroke=\"#000000\" d=\"M1824.6485,-176.4294C1812.0833,-170.4565 1797.9406,-163.3108 1785.5,-156 1770.6298,-147.2615 1754.8565,-136.4537 1741.7913,-127.0397\"/>\n<polygon fill=\"#000000\" stroke=\"#000000\" points=\"1743.7753,-124.1548 1733.6333,-121.0905 1739.6508,-129.8106 1743.7753,-124.1548\"/>\n<text text-anchor=\"middle\" x=\"1820.5\" y=\"-144.8\" font-family=\"Times,serif\" font-size=\"14.00\" fill=\"#000000\">gr:hasBrand</text>\n</g>\n</g>\n</svg>\n"
          },
          "metadata": {}
        }
      ]
    },
    {
      "cell_type": "markdown",
      "metadata": {
        "id": "Hv7-Ozm2m8XL"
      },
      "source": [
        "\n",
        "\n",
        "---\n",
        "\n",
        "\n",
        "## **Vocabulary Perpanjangan dari Vocabulary Populer with Linked Data**"
      ]
    },
    {
      "cell_type": "markdown",
      "metadata": {
        "id": "DrYRpTBGm8XN"
      },
      "source": [
        "### **Namespaces**"
      ]
    },
    {
      "cell_type": "markdown",
      "metadata": {
        "id": "p52iGWbEm8XP"
      },
      "source": [
        "* @prefix rdfs: <http://www.w3.org/2000/01/rdf-schema#> .\n",
        "* @prefix rdf: <http://www.w3.org/1999/02/22-rdf-syntax-ns#> .\n",
        "* @prefix xsd: <http://www.w3.org/2001/XMLSchema#> .\n",
        "* @prefix ex: <http://example.com/> .\n",
        "* @prefix gr: <http://purl.org/goodrelations/v1#> .\n",
        "* @prefix foaf: <http://xmlns.com/foaf/0.1/> .\n",
        "* @prefix s: <http://schema.org/> .\n"
      ]
    },
    {
      "cell_type": "markdown",
      "metadata": {
        "id": "v9mkJyBDm8XQ"
      },
      "source": [
        "### **Classes**"
      ]
    },
    {
      "cell_type": "markdown",
      "metadata": {
        "id": "4W41iMb6m8XR"
      },
      "source": [
        "* **gr:SomeItems**. Contoh: beli-smart-tv. Propertinya adalah:\n",
        " * **gr:category [xsd:string]**: beli-smart-tv category \"beli-smart-tv\".\n",
        " * **gr:hasBrand [gr:Brand]**: beli-smart-tv hasBrand Toshiba.\n",
        "\n",
        "<br>\n",
        "\n",
        "* **gr:Brand**. Contoh: Toshiba. Propertinya adalah:\n",
        " * **gr:name [xsd:string]**: Toshiba name \"Toshiba\".\n",
        " * **s:Corporation [db:Page]**: Sharp Corporation \"Sharp_Corporation\".\n",
        "\n",
        "<br>\n",
        "\n",
        "* **gr:UnitPriceSpecification**. Contoh: Harga. Propertinya adalah:\n",
        " * **gr:hasCurrencyValue [xsd:currency]**.\n",
        "\n",
        "<br>\n",
        "\n",
        "* **gr:ProductOrServiceModel**. Contoh: TOSHIBA_Smart_HD_LED_TV_32. Propertinya adalah: \n",
        " * **gr:name [xsd:string]**: TOSHIBA_Smart_HD_LED_TV_32 name \"TOSHIBA Smart HD LED TV 32\".\n",
        " * **gr:hasBrand [xsd:string]**: TOSHIBA_Smart_HD_LED_TV_32 hasBrand Toshiba.\n",
        " * **gr:hasPriceSpecification [gr:UnitPriceSpecification]**: TOSHIBA_Smart_HD_LED_TV_32 hasPriceSpecification Harga.\n",
        " * **s:aggregateRating [s:AggregateRating; s:ratingValue; s:reviewCount]**: TOSHIBA_Smart_HD_LED_TV_32 AggregateRating; TOSHIBA_Smart_HD_LED_TV_32 ratingValue 4; TOSHIBA_Smart_HD_LED_TV_32 reviewCount 8.\n",
        " * **s:dateCreated [xsd:date]**: TOSHIBA_Smart_HD_LED_TV_32 dateCreated 2019-10-02."
      ]
    },
    {
      "cell_type": "markdown",
      "metadata": {
        "id": "WVmKuc3Im8XS"
      },
      "source": [
        "### **Instances**"
      ]
    },
    {
      "cell_type": "markdown",
      "metadata": {
        "id": "hgJOqsEDm8XT"
      },
      "source": [
        "Instance 1"
      ]
    },
    {
      "cell_type": "code",
      "metadata": {
        "colab": {
          "base_uri": "https://localhost:8080/",
          "height": 332
        },
        "id": "K7XERwXGm8XU",
        "outputId": "730c8344-d817-4630-9dfb-7208fcc68477"
      },
      "source": [
        "%%rdf turtle\n",
        "@prefix rdfs: <http://www.w3.org/2000/01/rdf-schema#> .\n",
        "@prefix rdf: <http://www.w3.org/1999/02/22-rdf-syntax-ns#> .\n",
        "@prefix xsd: <http://www.w3.org/2001/XMLSchema#> .\n",
        "@prefix ex: <http://example.com/> .\n",
        "@prefix gr: <http://purl.org/goodrelations/v1#> .\n",
        "@prefix foaf: <http://xmlns.com/foaf/0.1/> .\n",
        "@prefix s: <http://schema.org/> .\n",
        "@prefix db: <https://dbpedia.org/resource/> .\n",
        "\n",
        "ex:beli-smart-tv a gr:SomeItems;\n",
        "  gr:category \"beli-smart-tv\"^^xsd:string;\n",
        "  gr:hasBrand ex:Toshiba .\n",
        "\n",
        "ex:Toshiba a gr:Brand;\n",
        "    gr:name \"Toshiba\"^^xsd:string;\n",
        "    s:Corporation db:Toshiba.\n",
        "\n",
        "ex:Harga a gr:UnitPriceSpecification;\n",
        "  gr:hasCurrencyValue \"2499000\"^^xsd:currency.\n",
        "\n",
        "ex:TOSHIBA_Smart_HD_LED_TV_32 a gr:ProductOrServiceModel;\n",
        "  gr:name \"TOSHIBA Smart HD LED TV 32\"^^xsd:string;\n",
        "  gr:hasBrand ex:Toshiba;\n",
        "  gr:hasPriceSpecification ex:Harga;\n",
        "  foaf:page <https://www.lazada.co.id/products/toshiba-smart-hd-led-tv-32.html>;\n",
        "  s:aggregateRating [ a s:AggregateRating;\n",
        "                         s:ratingValue \"4\"^^xsd:integer;\n",
        "                         s:reviewCount \"8\"^^xsd:integer;\n",
        "                          ];\n",
        "  s:dateCreated \"2019-10-02\"^^xsd:date.\n"
      ],
      "execution_count": null,
      "outputs": [
        {
          "output_type": "display_data",
          "data": {
            "text/plain": [
              "<graphviz.dot.Digraph at 0x7f3f770dcd10>"
            ],
            "image/svg+xml": "<?xml version=\"1.0\" encoding=\"UTF-8\" standalone=\"no\"?>\n<!DOCTYPE svg PUBLIC \"-//W3C//DTD SVG 1.1//EN\"\n \"http://www.w3.org/Graphics/SVG/1.1/DTD/svg11.dtd\">\n<!-- Generated by graphviz version 2.40.1 (20161225.0304)\n -->\n<!-- Title: %3 Pages: 1 -->\n<svg width=\"1975pt\" height=\"218pt\"\n viewBox=\"0.00 0.00 1974.50 218.00\" xmlns=\"http://www.w3.org/2000/svg\" xmlns:xlink=\"http://www.w3.org/1999/xlink\">\n<g id=\"graph0\" class=\"graph\" transform=\"scale(1 1) rotate(0) translate(4 214)\">\n<title>%3</title>\n<polygon fill=\"#ffffff\" stroke=\"transparent\" points=\"-4,4 -4,-214 1970.5,-214 1970.5,4 -4,4\"/>\n<!-- 0 -->\n<g id=\"node1\" class=\"node\">\n<title>0</title>\n<ellipse fill=\"none\" stroke=\"#000000\" cx=\"573.5\" cy=\"-105\" rx=\"258.8542\" ry=\"18\"/>\n<text text-anchor=\"start\" x=\"382.5\" y=\"-101.3\" font-family=\"Times,serif\" font-size=\"14.00\" fill=\"#000000\">https://www.lazada.co.id/products/toshiba&#45;smart&#45;hd&#45;led&#45;tv&#45;32.html</text>\n</g>\n<!-- 1 -->\n<g id=\"node2\" class=\"node\">\n<title>1</title>\n<ellipse fill=\"none\" stroke=\"#000000\" cx=\"894.5\" cy=\"-105\" rx=\"44.393\" ry=\"18\"/>\n<text text-anchor=\"middle\" x=\"894.5\" y=\"-101.3\" font-family=\"Times,serif\" font-size=\"14.00\" fill=\"#000000\">ex:Harga</text>\n</g>\n<!-- 16 -->\n<g id=\"node17\" class=\"node\">\n<title>16</title>\n<ellipse fill=\"none\" stroke=\"#000000\" cx=\"693.5\" cy=\"-18\" rx=\"104.7816\" ry=\"18\"/>\n<text text-anchor=\"middle\" x=\"693.5\" y=\"-14.3\" font-family=\"Times,serif\" font-size=\"14.00\" fill=\"#000000\">gr:UnitPriceSpecification</text>\n</g>\n<!-- 1&#45;&gt;16 -->\n<g id=\"edge5\" class=\"edge\">\n<title>1&#45;&gt;16</title>\n<path fill=\"none\" stroke=\"#000000\" d=\"M863.9724,-91.7866C831.4735,-77.7199 779.5949,-55.265 741.5948,-38.8171\"/>\n<polygon fill=\"#000000\" stroke=\"#000000\" points=\"742.8205,-35.5339 732.253,-34.7737 740.0399,-41.958 742.8205,-35.5339\"/>\n<text text-anchor=\"middle\" x=\"829.5\" y=\"-57.8\" font-family=\"Times,serif\" font-size=\"14.00\" fill=\"#000000\">rdf:type</text>\n</g>\n<!-- 18 -->\n<g id=\"node19\" class=\"node\">\n<title>18</title>\n<polygon fill=\"none\" stroke=\"#000000\" points=\"984.5,-36 816.5,-36 816.5,0 984.5,0 984.5,-36\"/>\n<text text-anchor=\"middle\" x=\"900.5\" y=\"-14.3\" font-family=\"Times,serif\" font-size=\"14.00\" fill=\"#000000\">&quot;2499000&quot;^^xsd:currency</text>\n</g>\n<!-- 1&#45;&gt;18 -->\n<g id=\"edge12\" class=\"edge\">\n<title>1&#45;&gt;18</title>\n<path fill=\"none\" stroke=\"#000000\" d=\"M895.7432,-86.9735C896.5557,-75.1918 897.6337,-59.5607 898.5581,-46.1581\"/>\n<polygon fill=\"#000000\" stroke=\"#000000\" points=\"902.062,-46.2205 899.2584,-36.0034 895.0786,-45.7388 902.062,-46.2205\"/>\n<text text-anchor=\"middle\" x=\"959\" y=\"-57.8\" font-family=\"Times,serif\" font-size=\"14.00\" fill=\"#000000\">gr:hasCurrencyValue</text>\n</g>\n<!-- 2 -->\n<g id=\"node3\" class=\"node\">\n<title>2</title>\n<ellipse fill=\"none\" stroke=\"#000000\" cx=\"1716.5\" cy=\"-105\" rx=\"62.2891\" ry=\"18\"/>\n<text text-anchor=\"middle\" x=\"1716.5\" y=\"-101.3\" font-family=\"Times,serif\" font-size=\"14.00\" fill=\"#000000\">gr:SomeItems</text>\n</g>\n<!-- 3 -->\n<g id=\"node4\" class=\"node\">\n<title>3</title>\n<ellipse fill=\"none\" stroke=\"#000000\" cx=\"1068.5\" cy=\"-105\" rx=\"111.5806\" ry=\"18\"/>\n<text text-anchor=\"middle\" x=\"1068.5\" y=\"-101.3\" font-family=\"Times,serif\" font-size=\"14.00\" fill=\"#000000\">gr:ProductOrServiceModel</text>\n</g>\n<!-- 4 -->\n<g id=\"node5\" class=\"node\">\n<title>4</title>\n<polygon fill=\"none\" stroke=\"#000000\" points=\"297,-123 0,-123 0,-87 297,-87 297,-123\"/>\n<text text-anchor=\"middle\" x=\"148.5\" y=\"-101.3\" font-family=\"Times,serif\" font-size=\"14.00\" fill=\"#000000\">&quot;TOSHIBA Smart HD LED TV 32&quot;^^xsd:string</text>\n</g>\n<!-- 5 -->\n<g id=\"node6\" class=\"node\">\n<title>5</title>\n<polygon fill=\"none\" stroke=\"#000000\" points=\"1435,-36 1322,-36 1322,0 1435,0 1435,-36\"/>\n<text text-anchor=\"middle\" x=\"1378.5\" y=\"-14.3\" font-family=\"Times,serif\" font-size=\"14.00\" fill=\"#000000\">&quot;4&quot;^^xsd:integer</text>\n</g>\n<!-- 6 -->\n<g id=\"node7\" class=\"node\">\n<title>6</title>\n<polygon fill=\"none\" stroke=\"#000000\" points=\"1827.5,-36 1683.5,-36 1683.5,0 1827.5,0 1827.5,-36\"/>\n<text text-anchor=\"middle\" x=\"1755.5\" y=\"-14.3\" font-family=\"Times,serif\" font-size=\"14.00\" fill=\"#000000\">&quot;Toshiba&quot;^^xsd:string</text>\n</g>\n<!-- 7 -->\n<g id=\"node8\" class=\"node\">\n<title>7</title>\n<ellipse fill=\"none\" stroke=\"#000000\" cx=\"1716.5\" cy=\"-192\" rx=\"68.7879\" ry=\"18\"/>\n<text text-anchor=\"middle\" x=\"1716.5\" y=\"-188.3\" font-family=\"Times,serif\" font-size=\"14.00\" fill=\"#000000\">ex:beli&#45;smart&#45;tv</text>\n</g>\n<!-- 7&#45;&gt;2 -->\n<g id=\"edge18\" class=\"edge\">\n<title>7&#45;&gt;2</title>\n<path fill=\"none\" stroke=\"#000000\" d=\"M1716.5,-173.9735C1716.5,-162.1918 1716.5,-146.5607 1716.5,-133.1581\"/>\n<polygon fill=\"#000000\" stroke=\"#000000\" points=\"1720.0001,-133.0033 1716.5,-123.0034 1713.0001,-133.0034 1720.0001,-133.0033\"/>\n<text text-anchor=\"middle\" x=\"1739.5\" y=\"-144.8\" font-family=\"Times,serif\" font-size=\"14.00\" fill=\"#000000\">rdf:type</text>\n</g>\n<!-- 8 -->\n<g id=\"node9\" class=\"node\">\n<title>8</title>\n<ellipse fill=\"none\" stroke=\"#000000\" cx=\"1584.5\" cy=\"-105\" rx=\"51.9908\" ry=\"18\"/>\n<text text-anchor=\"middle\" x=\"1584.5\" y=\"-101.3\" font-family=\"Times,serif\" font-size=\"14.00\" fill=\"#000000\">ex:Toshiba</text>\n</g>\n<!-- 7&#45;&gt;8 -->\n<g id=\"edge16\" class=\"edge\">\n<title>7&#45;&gt;8</title>\n<path fill=\"none\" stroke=\"#000000\" d=\"M1680.0518,-176.6498C1667.7337,-170.8482 1654.1572,-163.755 1642.5,-156 1630.8721,-148.2645 1619.105,-138.3813 1609.2368,-129.3784\"/>\n<polygon fill=\"#000000\" stroke=\"#000000\" points=\"1611.4665,-126.6717 1601.7688,-122.4049 1606.689,-131.788 1611.4665,-126.6717\"/>\n<text text-anchor=\"middle\" x=\"1677.5\" y=\"-144.8\" font-family=\"Times,serif\" font-size=\"14.00\" fill=\"#000000\">gr:hasBrand</text>\n</g>\n<!-- 13 -->\n<g id=\"node14\" class=\"node\">\n<title>13</title>\n<polygon fill=\"none\" stroke=\"#000000\" points=\"1966.5,-123 1796.5,-123 1796.5,-87 1966.5,-87 1966.5,-123\"/>\n<text text-anchor=\"middle\" x=\"1881.5\" y=\"-101.3\" font-family=\"Times,serif\" font-size=\"14.00\" fill=\"#000000\">&quot;beli&#45;smart&#45;tv&quot;^^xsd:string</text>\n</g>\n<!-- 7&#45;&gt;13 -->\n<g id=\"edge15\" class=\"edge\">\n<title>7&#45;&gt;13</title>\n<path fill=\"none\" stroke=\"#000000\" d=\"M1747.1485,-175.8399C1772.7977,-162.3158 1809.6917,-142.8626 1838.3307,-127.762\"/>\n<polygon fill=\"#000000\" stroke=\"#000000\" points=\"1840.101,-130.7854 1847.3142,-123.0252 1836.8361,-124.5934 1840.101,-130.7854\"/>\n<text text-anchor=\"middle\" x=\"1842\" y=\"-144.8\" font-family=\"Times,serif\" font-size=\"14.00\" fill=\"#000000\">gr:category</text>\n</g>\n<!-- 8&#45;&gt;6 -->\n<g id=\"edge17\" class=\"edge\">\n<title>8&#45;&gt;6</title>\n<path fill=\"none\" stroke=\"#000000\" d=\"M1624.0796,-93.3085C1642.6188,-87.1587 1664.7075,-78.8442 1683.5,-69 1697.8324,-61.4922 1712.5949,-51.4977 1724.9925,-42.3466\"/>\n<polygon fill=\"#000000\" stroke=\"#000000\" points=\"1727.2851,-45.0015 1733.1634,-36.187 1723.0713,-39.4119 1727.2851,-45.0015\"/>\n<text text-anchor=\"middle\" x=\"1732\" y=\"-57.8\" font-family=\"Times,serif\" font-size=\"14.00\" fill=\"#000000\">gr:name</text>\n</g>\n<!-- 11 -->\n<g id=\"node12\" class=\"node\">\n<title>11</title>\n<ellipse fill=\"none\" stroke=\"#000000\" cx=\"1497.5\" cy=\"-18\" rx=\"44.393\" ry=\"18\"/>\n<text text-anchor=\"middle\" x=\"1497.5\" y=\"-14.3\" font-family=\"Times,serif\" font-size=\"14.00\" fill=\"#000000\">gr:Brand</text>\n</g>\n<!-- 8&#45;&gt;11 -->\n<g id=\"edge11\" class=\"edge\">\n<title>8&#45;&gt;11</title>\n<path fill=\"none\" stroke=\"#000000\" d=\"M1566.7259,-87.8716C1560.603,-81.9273 1553.7224,-75.1988 1547.5,-69 1538.8913,-60.4239 1529.5463,-50.9401 1521.2904,-42.5003\"/>\n<polygon fill=\"#000000\" stroke=\"#000000\" points=\"1523.5563,-39.8109 1514.067,-35.0989 1518.5467,-44.7001 1523.5563,-39.8109\"/>\n<text text-anchor=\"middle\" x=\"1570.5\" y=\"-57.8\" font-family=\"Times,serif\" font-size=\"14.00\" fill=\"#000000\">rdf:type</text>\n</g>\n<!-- 12 -->\n<g id=\"node13\" class=\"node\">\n<title>12</title>\n<ellipse fill=\"none\" stroke=\"#000000\" cx=\"1612.5\" cy=\"-18\" rx=\"52.7911\" ry=\"18\"/>\n<text text-anchor=\"middle\" x=\"1612.5\" y=\"-14.3\" font-family=\"Times,serif\" font-size=\"14.00\" fill=\"#000000\">db:Toshiba</text>\n</g>\n<!-- 8&#45;&gt;12 -->\n<g id=\"edge4\" class=\"edge\">\n<title>8&#45;&gt;12</title>\n<path fill=\"none\" stroke=\"#000000\" d=\"M1590.3016,-86.9735C1594.131,-75.0751 1599.2239,-59.2508 1603.5655,-45.7606\"/>\n<polygon fill=\"#000000\" stroke=\"#000000\" points=\"1606.9738,-46.5948 1606.7058,-36.0034 1600.3104,-44.4502 1606.9738,-46.5948\"/>\n<text text-anchor=\"middle\" x=\"1640\" y=\"-57.8\" font-family=\"Times,serif\" font-size=\"14.00\" fill=\"#000000\">s:Corporation</text>\n</g>\n<!-- 9 -->\n<g id=\"node10\" class=\"node\">\n<title>9</title>\n<polygon fill=\"none\" stroke=\"#000000\" points=\"1127,-36 1014,-36 1014,0 1127,0 1127,-36\"/>\n<text text-anchor=\"middle\" x=\"1070.5\" y=\"-14.3\" font-family=\"Times,serif\" font-size=\"14.00\" fill=\"#000000\">&quot;8&quot;^^xsd:integer</text>\n</g>\n<!-- 10 -->\n<g id=\"node11\" class=\"node\">\n<title>10</title>\n<ellipse fill=\"none\" stroke=\"#000000\" cx=\"1230.5\" cy=\"-105\" rx=\"32.4942\" ry=\"18\"/>\n<text text-anchor=\"middle\" x=\"1230.5\" y=\"-101.3\" font-family=\"Times,serif\" font-size=\"14.00\" fill=\"#000000\">_:bn0</text>\n</g>\n<!-- 10&#45;&gt;5 -->\n<g id=\"edge3\" class=\"edge\">\n<title>10&#45;&gt;5</title>\n<path fill=\"none\" stroke=\"#000000\" d=\"M1252.978,-91.7866C1275.8168,-78.3611 1311.6541,-57.2945 1339.1995,-41.1023\"/>\n<polygon fill=\"#000000\" stroke=\"#000000\" points=\"1340.9773,-44.1172 1347.8245,-36.0322 1337.4299,-38.0826 1340.9773,-44.1172\"/>\n<text text-anchor=\"middle\" x=\"1351\" y=\"-57.8\" font-family=\"Times,serif\" font-size=\"14.00\" fill=\"#000000\">s:ratingValue</text>\n</g>\n<!-- 10&#45;&gt;9 -->\n<g id=\"edge10\" class=\"edge\">\n<title>10&#45;&gt;9</title>\n<path fill=\"none\" stroke=\"#000000\" d=\"M1205.0243,-93.495C1199.91,-91.2761 1194.5543,-89.0165 1189.5,-87 1167.5632,-78.2477 1160.3278,-80.1369 1139.5,-69 1125.6526,-61.5956 1111.5098,-51.6417 1099.6627,-42.4933\"/>\n<polygon fill=\"#000000\" stroke=\"#000000\" points=\"1101.4939,-39.4793 1091.4789,-36.0222 1097.1521,-44.9702 1101.4939,-39.4793\"/>\n<text text-anchor=\"middle\" x=\"1181.5\" y=\"-57.8\" font-family=\"Times,serif\" font-size=\"14.00\" fill=\"#000000\">s:reviewCount</text>\n</g>\n<!-- 14 -->\n<g id=\"node15\" class=\"node\">\n<title>14</title>\n<ellipse fill=\"none\" stroke=\"#000000\" cx=\"1224.5\" cy=\"-18\" rx=\"79.8859\" ry=\"18\"/>\n<text text-anchor=\"middle\" x=\"1224.5\" y=\"-14.3\" font-family=\"Times,serif\" font-size=\"14.00\" fill=\"#000000\">s:AggregateRating</text>\n</g>\n<!-- 10&#45;&gt;14 -->\n<g id=\"edge14\" class=\"edge\">\n<title>10&#45;&gt;14</title>\n<path fill=\"none\" stroke=\"#000000\" d=\"M1229.2568,-86.9735C1228.4443,-75.1918 1227.3663,-59.5607 1226.4419,-46.1581\"/>\n<polygon fill=\"#000000\" stroke=\"#000000\" points=\"1229.9214,-45.7388 1225.7416,-36.0034 1222.938,-46.2205 1229.9214,-45.7388\"/>\n<text text-anchor=\"middle\" x=\"1251.5\" y=\"-57.8\" font-family=\"Times,serif\" font-size=\"14.00\" fill=\"#000000\">rdf:type</text>\n</g>\n<!-- 15 -->\n<g id=\"node16\" class=\"node\">\n<title>15</title>\n<ellipse fill=\"none\" stroke=\"#000000\" cx=\"1068.5\" cy=\"-192\" rx=\"163.5712\" ry=\"18\"/>\n<text text-anchor=\"middle\" x=\"1068.5\" y=\"-188.3\" font-family=\"Times,serif\" font-size=\"14.00\" fill=\"#000000\">ex:TOSHIBA_Smart_HD_LED_TV_32</text>\n</g>\n<!-- 15&#45;&gt;0 -->\n<g id=\"edge6\" class=\"edge\">\n<title>15&#45;&gt;0</title>\n<path fill=\"none\" stroke=\"#000000\" d=\"M978.032,-176.9454C940.1549,-170.5811 895.6751,-163.0277 855.5,-156 795.6375,-145.5285 728.7,-133.4389 675.0673,-123.6594\"/>\n<polygon fill=\"#000000\" stroke=\"#000000\" points=\"675.6783,-120.2132 665.2124,-121.8612 674.4217,-127.0995 675.6783,-120.2132\"/>\n<text text-anchor=\"middle\" x=\"882.5\" y=\"-144.8\" font-family=\"Times,serif\" font-size=\"14.00\" fill=\"#000000\">foaf:page</text>\n</g>\n<!-- 15&#45;&gt;1 -->\n<g id=\"edge1\" class=\"edge\">\n<title>15&#45;&gt;1</title>\n<path fill=\"none\" stroke=\"#000000\" d=\"M985.6469,-176.4378C960.4573,-170.5445 936.7285,-163.4478 926.5,-156 918.0962,-149.8808 911.3924,-140.819 906.3361,-132.0245\"/>\n<polygon fill=\"#000000\" stroke=\"#000000\" points=\"909.3987,-130.3282 901.661,-123.0909 903.1966,-133.5739 909.3987,-130.3282\"/>\n<text text-anchor=\"middle\" x=\"995.5\" y=\"-144.8\" font-family=\"Times,serif\" font-size=\"14.00\" fill=\"#000000\">gr:hasPriceSpecification</text>\n</g>\n<!-- 15&#45;&gt;3 -->\n<g id=\"edge13\" class=\"edge\">\n<title>15&#45;&gt;3</title>\n<path fill=\"none\" stroke=\"#000000\" d=\"M1068.5,-173.9735C1068.5,-162.1918 1068.5,-146.5607 1068.5,-133.1581\"/>\n<polygon fill=\"#000000\" stroke=\"#000000\" points=\"1072.0001,-133.0033 1068.5,-123.0034 1065.0001,-133.0034 1072.0001,-133.0033\"/>\n<text text-anchor=\"middle\" x=\"1091.5\" y=\"-144.8\" font-family=\"Times,serif\" font-size=\"14.00\" fill=\"#000000\">rdf:type</text>\n</g>\n<!-- 15&#45;&gt;4 -->\n<g id=\"edge8\" class=\"edge\">\n<title>15&#45;&gt;4</title>\n<path fill=\"none\" stroke=\"#000000\" d=\"M937.7863,-181.1382C787.9876,-168.4714 534.838,-146.3975 307.3669,-123.1808\"/>\n<polygon fill=\"#000000\" stroke=\"#000000\" points=\"307.5438,-119.6807 297.2395,-122.1446 306.8313,-126.6443 307.5438,-119.6807\"/>\n<text text-anchor=\"middle\" x=\"664\" y=\"-144.8\" font-family=\"Times,serif\" font-size=\"14.00\" fill=\"#000000\">gr:name</text>\n</g>\n<!-- 15&#45;&gt;8 -->\n<g id=\"edge2\" class=\"edge\">\n<title>15&#45;&gt;8</title>\n<path fill=\"none\" stroke=\"#000000\" d=\"M1196.8633,-180.789C1252.8828,-174.9452 1319.1882,-166.741 1378.5,-156 1432.2553,-146.2653 1492.8474,-130.6983 1534.3234,-119.3208\"/>\n<polygon fill=\"#000000\" stroke=\"#000000\" points=\"1535.4718,-122.6347 1544.1784,-116.5975 1533.6073,-115.8875 1535.4718,-122.6347\"/>\n<text text-anchor=\"middle\" x=\"1482.5\" y=\"-144.8\" font-family=\"Times,serif\" font-size=\"14.00\" fill=\"#000000\">gr:hasBrand</text>\n</g>\n<!-- 15&#45;&gt;10 -->\n<g id=\"edge9\" class=\"edge\">\n<title>15&#45;&gt;10</title>\n<path fill=\"none\" stroke=\"#000000\" d=\"M1101.674,-174.1843C1129.7846,-159.0879 1169.8681,-137.5616 1197.8333,-122.5432\"/>\n<polygon fill=\"#000000\" stroke=\"#000000\" points=\"1199.6638,-125.533 1206.8178,-117.7182 1196.3519,-119.3661 1199.6638,-125.533\"/>\n<text text-anchor=\"middle\" x=\"1211\" y=\"-144.8\" font-family=\"Times,serif\" font-size=\"14.00\" fill=\"#000000\">s:aggregateRating</text>\n</g>\n<!-- 17 -->\n<g id=\"node18\" class=\"node\">\n<title>17</title>\n<polygon fill=\"none\" stroke=\"#000000\" points=\"1438.5,-123 1280.5,-123 1280.5,-87 1438.5,-87 1438.5,-123\"/>\n<text text-anchor=\"middle\" x=\"1359.5\" y=\"-101.3\" font-family=\"Times,serif\" font-size=\"14.00\" fill=\"#000000\">&quot;2019&#45;10&#45;02&quot;^^xsd:date</text>\n</g>\n<!-- 15&#45;&gt;17 -->\n<g id=\"edge7\" class=\"edge\">\n<title>15&#45;&gt;17</title>\n<path fill=\"none\" stroke=\"#000000\" d=\"M1178.0435,-178.5549C1207.278,-173.227 1238.5095,-165.9242 1266.5,-156 1286.1227,-149.0426 1306.5528,-138.2829 1323.2496,-128.4365\"/>\n<polygon fill=\"#000000\" stroke=\"#000000\" points=\"1325.3577,-131.2524 1332.1126,-123.0902 1321.742,-125.2584 1325.3577,-131.2524\"/>\n<text text-anchor=\"middle\" x=\"1336.5\" y=\"-144.8\" font-family=\"Times,serif\" font-size=\"14.00\" fill=\"#000000\">s:dateCreated</text>\n</g>\n</g>\n</svg>\n"
          },
          "metadata": {}
        }
      ]
    },
    {
      "cell_type": "markdown",
      "metadata": {
        "id": "wBcywz-dm8XX"
      },
      "source": [
        "Instance 2"
      ]
    },
    {
      "cell_type": "code",
      "metadata": {
        "colab": {
          "base_uri": "https://localhost:8080/",
          "height": 332
        },
        "id": "GED_52-Sm8XZ",
        "outputId": "60746eff-aeef-4d9f-d3f3-d630af30a4d9"
      },
      "source": [
        "%%rdf turtle\n",
        "@prefix rdfs: <http://www.w3.org/2000/01/rdf-schema#> .\n",
        "@prefix rdf: <http://www.w3.org/1999/02/22-rdf-syntax-ns#> .\n",
        "@prefix xsd: <http://www.w3.org/2001/XMLSchema#> .\n",
        "@prefix ex: <http://example.com/> .\n",
        "@prefix gr: <http://purl.org/goodrelations/v1#> .\n",
        "@prefix foaf: <http://xmlns.com/foaf/0.1/> .\n",
        "@prefix s: <http://schema.org/> .\n",
        "@prefix db: <https://dbpedia.org/resource/> .\n",
        "\n",
        "ex:beli-smart-tv a gr:SomeItems;\n",
        "  gr:category \"beli-smart-tv\"^^xsd:string;\n",
        "  gr:hasBrand ex:Toshiba .\n",
        "\n",
        "ex:Toshiba a gr:Brand;\n",
        "    gr:name \"Toshiba\"^^xsd:string;\n",
        "    s:Corporation db:Toshiba.\n",
        "\n",
        "ex:Harga a gr:UnitPriceSpecification;\n",
        "  gr:hasCurrencyValue \"3788000\"^^xsd:currency.\n",
        "\n",
        "ex:TOSHIBA_Smart_HD_LED_TV_40 a gr:ProductOrServiceModel;\n",
        "  gr:name \"TOSHIBA Smart HD LED TV 40\"^^xsd:string;\n",
        "  gr:hasBrand ex:Toshiba;\n",
        "  gr:hasPriceSpecification ex:Harga;\n",
        "  foaf:page <https://www.lazada.co.id/products/toshiba-smart-hd-led-tv-40.html>;\n",
        "  s:aggregateRating [ a s:AggregateRating;\n",
        "                         s:ratingValue \"3\"^^xsd:integer;\n",
        "                         s:reviewCount \"3\"^^xsd:integer;\n",
        "                          ];\n",
        "  s:dateCreated \"2019-10-02\"^^xsd:date.\n"
      ],
      "execution_count": null,
      "outputs": [
        {
          "output_type": "display_data",
          "data": {
            "text/plain": [
              "<graphviz.dot.Digraph at 0x7f3f723dff10>"
            ],
            "image/svg+xml": "<?xml version=\"1.0\" encoding=\"UTF-8\" standalone=\"no\"?>\n<!DOCTYPE svg PUBLIC \"-//W3C//DTD SVG 1.1//EN\"\n \"http://www.w3.org/Graphics/SVG/1.1/DTD/svg11.dtd\">\n<!-- Generated by graphviz version 2.40.1 (20161225.0304)\n -->\n<!-- Title: %3 Pages: 1 -->\n<svg width=\"2165pt\" height=\"218pt\"\n viewBox=\"0.00 0.00 2164.94 218.00\" xmlns=\"http://www.w3.org/2000/svg\" xmlns:xlink=\"http://www.w3.org/1999/xlink\">\n<g id=\"graph0\" class=\"graph\" transform=\"scale(1 1) rotate(0) translate(4 214)\">\n<title>%3</title>\n<polygon fill=\"#ffffff\" stroke=\"transparent\" points=\"-4,4 -4,-214 2160.9429,-214 2160.9429,4 -4,4\"/>\n<!-- 0 -->\n<g id=\"node1\" class=\"node\">\n<title>0</title>\n<ellipse fill=\"none\" stroke=\"#000000\" cx=\"1659.9429\" cy=\"-18\" rx=\"44.393\" ry=\"18\"/>\n<text text-anchor=\"middle\" x=\"1659.9429\" y=\"-14.3\" font-family=\"Times,serif\" font-size=\"14.00\" fill=\"#000000\">gr:Brand</text>\n</g>\n<!-- 1 -->\n<g id=\"node2\" class=\"node\">\n<title>1</title>\n<ellipse fill=\"none\" stroke=\"#000000\" cx=\"1445.9429\" cy=\"-105\" rx=\"258.8542\" ry=\"18\"/>\n<text text-anchor=\"start\" x=\"1254.9429\" y=\"-101.3\" font-family=\"Times,serif\" font-size=\"14.00\" fill=\"#000000\">https://www.lazada.co.id/products/toshiba&#45;smart&#45;hd&#45;led&#45;tv&#45;40.html</text>\n</g>\n<!-- 2 -->\n<g id=\"node3\" class=\"node\">\n<title>2</title>\n<ellipse fill=\"none\" stroke=\"#000000\" cx=\"1774.9429\" cy=\"-18\" rx=\"52.7911\" ry=\"18\"/>\n<text text-anchor=\"middle\" x=\"1774.9429\" y=\"-14.3\" font-family=\"Times,serif\" font-size=\"14.00\" fill=\"#000000\">db:Toshiba</text>\n</g>\n<!-- 3 -->\n<g id=\"node4\" class=\"node\">\n<title>3</title>\n<polygon fill=\"none\" stroke=\"#000000\" points=\"2156.9429,-123 1986.9429,-123 1986.9429,-87 2156.9429,-87 2156.9429,-123\"/>\n<text text-anchor=\"middle\" x=\"2071.9429\" y=\"-101.3\" font-family=\"Times,serif\" font-size=\"14.00\" fill=\"#000000\">&quot;beli&#45;smart&#45;tv&quot;^^xsd:string</text>\n</g>\n<!-- 4 -->\n<g id=\"node5\" class=\"node\">\n<title>4</title>\n<ellipse fill=\"none\" stroke=\"#000000\" cx=\"79.9429\" cy=\"-18\" rx=\"79.8859\" ry=\"18\"/>\n<text text-anchor=\"middle\" x=\"79.9429\" y=\"-14.3\" font-family=\"Times,serif\" font-size=\"14.00\" fill=\"#000000\">s:AggregateRating</text>\n</g>\n<!-- 5 -->\n<g id=\"node6\" class=\"node\">\n<title>5</title>\n<ellipse fill=\"none\" stroke=\"#000000\" cx=\"1774.9429\" cy=\"-105\" rx=\"51.9908\" ry=\"18\"/>\n<text text-anchor=\"middle\" x=\"1774.9429\" y=\"-101.3\" font-family=\"Times,serif\" font-size=\"14.00\" fill=\"#000000\">ex:Toshiba</text>\n</g>\n<!-- 5&#45;&gt;0 -->\n<g id=\"edge15\" class=\"edge\">\n<title>5&#45;&gt;0</title>\n<path fill=\"none\" stroke=\"#000000\" d=\"M1751.898,-88.7088C1743.3727,-82.6032 1733.6637,-75.5563 1724.9429,-69 1712.6727,-59.7752 1699.3015,-49.3499 1687.8944,-40.3402\"/>\n<polygon fill=\"#000000\" stroke=\"#000000\" points=\"1689.9904,-37.5354 1679.9793,-34.0673 1685.6426,-43.0215 1689.9904,-37.5354\"/>\n<text text-anchor=\"middle\" x=\"1747.9429\" y=\"-57.8\" font-family=\"Times,serif\" font-size=\"14.00\" fill=\"#000000\">rdf:type</text>\n</g>\n<!-- 5&#45;&gt;2 -->\n<g id=\"edge9\" class=\"edge\">\n<title>5&#45;&gt;2</title>\n<path fill=\"none\" stroke=\"#000000\" d=\"M1774.9429,-86.9735C1774.9429,-75.1918 1774.9429,-59.5607 1774.9429,-46.1581\"/>\n<polygon fill=\"#000000\" stroke=\"#000000\" points=\"1778.443,-46.0033 1774.9429,-36.0034 1771.443,-46.0034 1778.443,-46.0033\"/>\n<text text-anchor=\"middle\" x=\"1814.4429\" y=\"-57.8\" font-family=\"Times,serif\" font-size=\"14.00\" fill=\"#000000\">s:Corporation</text>\n</g>\n<!-- 10 -->\n<g id=\"node11\" class=\"node\">\n<title>10</title>\n<polygon fill=\"none\" stroke=\"#000000\" points=\"1989.9429,-36 1845.9429,-36 1845.9429,0 1989.9429,0 1989.9429,-36\"/>\n<text text-anchor=\"middle\" x=\"1917.9429\" y=\"-14.3\" font-family=\"Times,serif\" font-size=\"14.00\" fill=\"#000000\">&quot;Toshiba&quot;^^xsd:string</text>\n</g>\n<!-- 5&#45;&gt;10 -->\n<g id=\"edge18\" class=\"edge\">\n<title>5&#45;&gt;10</title>\n<path fill=\"none\" stroke=\"#000000\" d=\"M1811.2388,-91.9724C1826.2048,-85.9183 1843.4092,-78.0487 1857.9429,-69 1869.8478,-61.588 1881.8457,-51.9275 1891.9506,-43.0105\"/>\n<polygon fill=\"#000000\" stroke=\"#000000\" points=\"1894.5463,-45.3818 1899.6107,-36.0758 1889.8483,-40.1924 1894.5463,-45.3818\"/>\n<text text-anchor=\"middle\" x=\"1901.4429\" y=\"-57.8\" font-family=\"Times,serif\" font-size=\"14.00\" fill=\"#000000\">gr:name</text>\n</g>\n<!-- 6 -->\n<g id=\"node7\" class=\"node\">\n<title>6</title>\n<ellipse fill=\"none\" stroke=\"#000000\" cx=\"192.9429\" cy=\"-105\" rx=\"32.4942\" ry=\"18\"/>\n<text text-anchor=\"middle\" x=\"192.9429\" y=\"-101.3\" font-family=\"Times,serif\" font-size=\"14.00\" fill=\"#000000\">_:bn0</text>\n</g>\n<!-- 6&#45;&gt;4 -->\n<g id=\"edge14\" class=\"edge\">\n<title>6&#45;&gt;4</title>\n<path fill=\"none\" stroke=\"#000000\" d=\"M164.0341,-96.5269C147.7312,-90.7026 127.7312,-81.7026 112.9429,-69 105.1054,-62.2679 98.4337,-53.2194 93.1833,-44.6133\"/>\n<polygon fill=\"#000000\" stroke=\"#000000\" points=\"96.2246,-42.8812 88.237,-35.9207 90.1406,-46.3431 96.2246,-42.8812\"/>\n<text text-anchor=\"middle\" x=\"135.9429\" y=\"-57.8\" font-family=\"Times,serif\" font-size=\"14.00\" fill=\"#000000\">rdf:type</text>\n</g>\n<!-- 14 -->\n<g id=\"node15\" class=\"node\">\n<title>14</title>\n<polygon fill=\"none\" stroke=\"#000000\" points=\"290.4429,-36 177.4429,-36 177.4429,0 290.4429,0 290.4429,-36\"/>\n<text text-anchor=\"middle\" x=\"233.9429\" y=\"-14.3\" font-family=\"Times,serif\" font-size=\"14.00\" fill=\"#000000\">&quot;3&quot;^^xsd:integer</text>\n</g>\n<!-- 6&#45;&gt;14 -->\n<g id=\"edge1\" class=\"edge\">\n<title>6&#45;&gt;14</title>\n<path fill=\"none\" stroke=\"#000000\" d=\"M175.5597,-89.6311C166.1693,-79.4067 157.8219,-65.7473 164.9429,-54 167.6318,-49.5642 171.066,-45.6492 174.9615,-42.1985\"/>\n<polygon fill=\"#000000\" stroke=\"#000000\" points=\"177.1095,-44.9622 182.9465,-36.1203 172.8696,-39.3922 177.1095,-44.9622\"/>\n<text text-anchor=\"middle\" x=\"202.4429\" y=\"-57.8\" font-family=\"Times,serif\" font-size=\"14.00\" fill=\"#000000\">s:ratingValue</text>\n</g>\n<!-- 6&#45;&gt;14 -->\n<g id=\"edge2\" class=\"edge\">\n<title>6&#45;&gt;14</title>\n<path fill=\"none\" stroke=\"#000000\" d=\"M216.9787,-92.796C225.8962,-86.9162 235.029,-78.9537 239.9429,-69 243.3616,-62.0751 243.7797,-53.9972 242.8364,-46.3394\"/>\n<polygon fill=\"#000000\" stroke=\"#000000\" points=\"246.2266,-45.4404 240.8602,-36.3052 239.3586,-46.7931 246.2266,-45.4404\"/>\n<text text-anchor=\"middle\" x=\"285.9429\" y=\"-57.8\" font-family=\"Times,serif\" font-size=\"14.00\" fill=\"#000000\">s:reviewCount</text>\n</g>\n<!-- 7 -->\n<g id=\"node8\" class=\"node\">\n<title>7</title>\n<ellipse fill=\"none\" stroke=\"#000000\" cx=\"599.9429\" cy=\"-18\" rx=\"104.7816\" ry=\"18\"/>\n<text text-anchor=\"middle\" x=\"599.9429\" y=\"-14.3\" font-family=\"Times,serif\" font-size=\"14.00\" fill=\"#000000\">gr:UnitPriceSpecification</text>\n</g>\n<!-- 8 -->\n<g id=\"node9\" class=\"node\">\n<title>8</title>\n<ellipse fill=\"none\" stroke=\"#000000\" cx=\"392.9429\" cy=\"-105\" rx=\"44.393\" ry=\"18\"/>\n<text text-anchor=\"middle\" x=\"392.9429\" y=\"-101.3\" font-family=\"Times,serif\" font-size=\"14.00\" fill=\"#000000\">ex:Harga</text>\n</g>\n<!-- 8&#45;&gt;7 -->\n<g id=\"edge12\" class=\"edge\">\n<title>8&#45;&gt;7</title>\n<path fill=\"none\" stroke=\"#000000\" d=\"M426.4547,-93.1535C432.8927,-91.0098 439.6037,-88.8654 445.9429,-87 477.5861,-77.6884 487.5707,-81.8659 517.9429,-69 535.0732,-61.7435 552.7601,-51.1952 567.3023,-41.5723\"/>\n<polygon fill=\"#000000\" stroke=\"#000000\" points=\"569.6,-44.2434 575.9174,-35.7381 565.6749,-38.4474 569.6,-44.2434\"/>\n<text text-anchor=\"middle\" x=\"569.9429\" y=\"-57.8\" font-family=\"Times,serif\" font-size=\"14.00\" fill=\"#000000\">rdf:type</text>\n</g>\n<!-- 13 -->\n<g id=\"node14\" class=\"node\">\n<title>13</title>\n<polygon fill=\"none\" stroke=\"#000000\" points=\"476.9429,-36 308.9429,-36 308.9429,0 476.9429,0 476.9429,-36\"/>\n<text text-anchor=\"middle\" x=\"392.9429\" y=\"-14.3\" font-family=\"Times,serif\" font-size=\"14.00\" fill=\"#000000\">&quot;3788000&quot;^^xsd:currency</text>\n</g>\n<!-- 8&#45;&gt;13 -->\n<g id=\"edge10\" class=\"edge\">\n<title>8&#45;&gt;13</title>\n<path fill=\"none\" stroke=\"#000000\" d=\"M392.9429,-86.9735C392.9429,-75.1918 392.9429,-59.5607 392.9429,-46.1581\"/>\n<polygon fill=\"#000000\" stroke=\"#000000\" points=\"396.443,-46.0033 392.9429,-36.0034 389.443,-46.0034 396.443,-46.0033\"/>\n<text text-anchor=\"middle\" x=\"453.4429\" y=\"-57.8\" font-family=\"Times,serif\" font-size=\"14.00\" fill=\"#000000\">gr:hasCurrencyValue</text>\n</g>\n<!-- 9 -->\n<g id=\"node10\" class=\"node\">\n<title>9</title>\n<ellipse fill=\"none\" stroke=\"#000000\" cx=\"1906.9429\" cy=\"-105\" rx=\"62.2891\" ry=\"18\"/>\n<text text-anchor=\"middle\" x=\"1906.9429\" y=\"-101.3\" font-family=\"Times,serif\" font-size=\"14.00\" fill=\"#000000\">gr:SomeItems</text>\n</g>\n<!-- 11 -->\n<g id=\"node12\" class=\"node\">\n<title>11</title>\n<polygon fill=\"none\" stroke=\"#000000\" points=\"612.9429,-123 454.9429,-123 454.9429,-87 612.9429,-87 612.9429,-123\"/>\n<text text-anchor=\"middle\" x=\"533.9429\" y=\"-101.3\" font-family=\"Times,serif\" font-size=\"14.00\" fill=\"#000000\">&quot;2019&#45;10&#45;02&quot;^^xsd:date</text>\n</g>\n<!-- 12 -->\n<g id=\"node13\" class=\"node\">\n<title>12</title>\n<ellipse fill=\"none\" stroke=\"#000000\" cx=\"742.9429\" cy=\"-105\" rx=\"111.5806\" ry=\"18\"/>\n<text text-anchor=\"middle\" x=\"742.9429\" y=\"-101.3\" font-family=\"Times,serif\" font-size=\"14.00\" fill=\"#000000\">gr:ProductOrServiceModel</text>\n</g>\n<!-- 15 -->\n<g id=\"node16\" class=\"node\">\n<title>15</title>\n<polygon fill=\"none\" stroke=\"#000000\" points=\"1169.4429,-123 872.4429,-123 872.4429,-87 1169.4429,-87 1169.4429,-123\"/>\n<text text-anchor=\"middle\" x=\"1020.9429\" y=\"-101.3\" font-family=\"Times,serif\" font-size=\"14.00\" fill=\"#000000\">&quot;TOSHIBA Smart HD LED TV 40&quot;^^xsd:string</text>\n</g>\n<!-- 16 -->\n<g id=\"node17\" class=\"node\">\n<title>16</title>\n<ellipse fill=\"none\" stroke=\"#000000\" cx=\"742.9429\" cy=\"-192\" rx=\"163.5712\" ry=\"18\"/>\n<text text-anchor=\"middle\" x=\"742.9429\" y=\"-188.3\" font-family=\"Times,serif\" font-size=\"14.00\" fill=\"#000000\">ex:TOSHIBA_Smart_HD_LED_TV_40</text>\n</g>\n<!-- 16&#45;&gt;1 -->\n<g id=\"edge7\" class=\"edge\">\n<title>16&#45;&gt;1</title>\n<path fill=\"none\" stroke=\"#000000\" d=\"M852.0153,-178.5017C975.0191,-163.2793 1175.2469,-138.5001 1308.7573,-121.9775\"/>\n<polygon fill=\"#000000\" stroke=\"#000000\" points=\"1309.5591,-125.405 1319.0535,-120.7032 1308.6994,-118.458 1309.5591,-125.405\"/>\n<text text-anchor=\"middle\" x=\"1163.9429\" y=\"-144.8\" font-family=\"Times,serif\" font-size=\"14.00\" fill=\"#000000\">foaf:page</text>\n</g>\n<!-- 16&#45;&gt;5 -->\n<g id=\"edge17\" class=\"edge\">\n<title>16&#45;&gt;5</title>\n<path fill=\"none\" stroke=\"#000000\" d=\"M894.8026,-185.2181C1127.4417,-174.1479 1561.152,-150.636 1713.9429,-123 1718.34,-122.2047 1722.8713,-121.211 1727.3844,-120.1015\"/>\n<polygon fill=\"#000000\" stroke=\"#000000\" points=\"1728.3991,-123.4537 1737.1764,-117.5199 1726.6145,-116.685 1728.3991,-123.4537\"/>\n<text text-anchor=\"middle\" x=\"1588.9429\" y=\"-144.8\" font-family=\"Times,serif\" font-size=\"14.00\" fill=\"#000000\">gr:hasBrand</text>\n</g>\n<!-- 16&#45;&gt;6 -->\n<g id=\"edge8\" class=\"edge\">\n<title>16&#45;&gt;6</title>\n<path fill=\"none\" stroke=\"#000000\" d=\"M601.6618,-182.8453C506.873,-176.0207 390.9041,-166.1598 342.9429,-156 302.8113,-147.4987 258.5294,-131.5934 228.5537,-119.7963\"/>\n<polygon fill=\"#000000\" stroke=\"#000000\" points=\"229.5482,-116.4248 218.9632,-115.9696 226.9541,-122.9264 229.5482,-116.4248\"/>\n<text text-anchor=\"middle\" x=\"394.4429\" y=\"-144.8\" font-family=\"Times,serif\" font-size=\"14.00\" fill=\"#000000\">s:aggregateRating</text>\n</g>\n<!-- 16&#45;&gt;8 -->\n<g id=\"edge13\" class=\"edge\">\n<title>16&#45;&gt;8</title>\n<path fill=\"none\" stroke=\"#000000\" d=\"M623.177,-179.667C568.2829,-173.1366 509.7602,-164.6837 483.9429,-156 462.9419,-148.9362 441.2301,-136.976 424.2833,-126.4128\"/>\n<polygon fill=\"#000000\" stroke=\"#000000\" points=\"425.7038,-123.1667 415.3935,-120.728 421.9326,-129.064 425.7038,-123.1667\"/>\n<text text-anchor=\"middle\" x=\"552.9429\" y=\"-144.8\" font-family=\"Times,serif\" font-size=\"14.00\" fill=\"#000000\">gr:hasPriceSpecification</text>\n</g>\n<!-- 16&#45;&gt;11 -->\n<g id=\"edge5\" class=\"edge\">\n<title>16&#45;&gt;11</title>\n<path fill=\"none\" stroke=\"#000000\" d=\"M700.9,-174.4989C668.1037,-160.8468 622.3434,-141.7983 587.0224,-127.0953\"/>\n<polygon fill=\"#000000\" stroke=\"#000000\" points=\"587.9335,-123.6835 577.3564,-123.0716 585.2434,-130.1459 587.9335,-123.6835\"/>\n<text text-anchor=\"middle\" x=\"689.9429\" y=\"-144.8\" font-family=\"Times,serif\" font-size=\"14.00\" fill=\"#000000\">s:dateCreated</text>\n</g>\n<!-- 16&#45;&gt;12 -->\n<g id=\"edge6\" class=\"edge\">\n<title>16&#45;&gt;12</title>\n<path fill=\"none\" stroke=\"#000000\" d=\"M742.9429,-173.9735C742.9429,-162.1918 742.9429,-146.5607 742.9429,-133.1581\"/>\n<polygon fill=\"#000000\" stroke=\"#000000\" points=\"746.443,-133.0033 742.9429,-123.0034 739.443,-133.0034 746.443,-133.0033\"/>\n<text text-anchor=\"middle\" x=\"765.9429\" y=\"-144.8\" font-family=\"Times,serif\" font-size=\"14.00\" fill=\"#000000\">rdf:type</text>\n</g>\n<!-- 16&#45;&gt;15 -->\n<g id=\"edge4\" class=\"edge\">\n<title>16&#45;&gt;15</title>\n<path fill=\"none\" stroke=\"#000000\" d=\"M797.5351,-174.9154C842.2115,-160.9339 905.6111,-141.093 953.4655,-126.117\"/>\n<polygon fill=\"#000000\" stroke=\"#000000\" points=\"954.6253,-129.4215 963.1235,-123.0946 952.5346,-122.741 954.6253,-129.4215\"/>\n<text text-anchor=\"middle\" x=\"922.4429\" y=\"-144.8\" font-family=\"Times,serif\" font-size=\"14.00\" fill=\"#000000\">gr:name</text>\n</g>\n<!-- 17 -->\n<g id=\"node18\" class=\"node\">\n<title>17</title>\n<ellipse fill=\"none\" stroke=\"#000000\" cx=\"1906.9429\" cy=\"-192\" rx=\"68.7879\" ry=\"18\"/>\n<text text-anchor=\"middle\" x=\"1906.9429\" y=\"-188.3\" font-family=\"Times,serif\" font-size=\"14.00\" fill=\"#000000\">ex:beli&#45;smart&#45;tv</text>\n</g>\n<!-- 17&#45;&gt;3 -->\n<g id=\"edge16\" class=\"edge\">\n<title>17&#45;&gt;3</title>\n<path fill=\"none\" stroke=\"#000000\" d=\"M1937.5914,-175.8399C1963.2406,-162.3158 2000.1346,-142.8626 2028.7736,-127.762\"/>\n<polygon fill=\"#000000\" stroke=\"#000000\" points=\"2030.5439,-130.7854 2037.7571,-123.0252 2027.279,-124.5934 2030.5439,-130.7854\"/>\n<text text-anchor=\"middle\" x=\"2031.4429\" y=\"-144.8\" font-family=\"Times,serif\" font-size=\"14.00\" fill=\"#000000\">gr:category</text>\n</g>\n<!-- 17&#45;&gt;5 -->\n<g id=\"edge3\" class=\"edge\">\n<title>17&#45;&gt;5</title>\n<path fill=\"none\" stroke=\"#000000\" d=\"M1870.4947,-176.6498C1858.1767,-170.8482 1844.6001,-163.755 1832.9429,-156 1821.315,-148.2645 1809.5479,-138.3813 1799.6797,-129.3784\"/>\n<polygon fill=\"#000000\" stroke=\"#000000\" points=\"1801.9094,-126.6717 1792.2117,-122.4049 1797.1319,-131.788 1801.9094,-126.6717\"/>\n<text text-anchor=\"middle\" x=\"1867.9429\" y=\"-144.8\" font-family=\"Times,serif\" font-size=\"14.00\" fill=\"#000000\">gr:hasBrand</text>\n</g>\n<!-- 17&#45;&gt;9 -->\n<g id=\"edge11\" class=\"edge\">\n<title>17&#45;&gt;9</title>\n<path fill=\"none\" stroke=\"#000000\" d=\"M1906.9429,-173.9735C1906.9429,-162.1918 1906.9429,-146.5607 1906.9429,-133.1581\"/>\n<polygon fill=\"#000000\" stroke=\"#000000\" points=\"1910.443,-133.0033 1906.9429,-123.0034 1903.443,-133.0034 1910.443,-133.0033\"/>\n<text text-anchor=\"middle\" x=\"1929.9429\" y=\"-144.8\" font-family=\"Times,serif\" font-size=\"14.00\" fill=\"#000000\">rdf:type</text>\n</g>\n</g>\n</svg>\n"
          },
          "metadata": {}
        }
      ]
    },
    {
      "cell_type": "markdown",
      "metadata": {
        "id": "DIHJsJZxm8XZ"
      },
      "source": [
        "Instance 3"
      ]
    },
    {
      "cell_type": "code",
      "metadata": {
        "colab": {
          "base_uri": "https://localhost:8080/",
          "height": 332
        },
        "id": "nQM_-4OZm8Xb",
        "outputId": "35cd9a77-cb71-4c59-d2c5-17699af71af0"
      },
      "source": [
        "%%rdf turtle\n",
        "@prefix rdfs: <http://www.w3.org/2000/01/rdf-schema#> .\n",
        "@prefix rdf: <http://www.w3.org/1999/02/22-rdf-syntax-ns#> .\n",
        "@prefix xsd: <http://www.w3.org/2001/XMLSchema#> .\n",
        "@prefix ex: <http://example.com/> .\n",
        "@prefix gr: <http://purl.org/goodrelations/v1#> .\n",
        "@prefix foaf: <http://xmlns.com/foaf/0.1/> .\n",
        "@prefix s: <http://schema.org/> .\n",
        "@prefix db: <https://dbpedia.org/resource/> .\n",
        "\n",
        "ex:beli-smart-tv a gr:SomeItems;\n",
        "  gr:category \"beli-smart-tv\"^^xsd:string;\n",
        "  gr:hasBrand ex:Sharp .\n",
        "\n",
        "ex:Sharp a gr:Brand;\n",
        "    gr:name \"Sharp\"^^xsd:string;\n",
        "    s:Corporation db:Sharp_Corporation.\n",
        "\n",
        "ex:Harga a gr:UnitPriceSpecification;\n",
        "  gr:hasCurrencyValue \"1275000\"^^xsd:currency.\n",
        "\n",
        "ex:Sharp_HD_LED_TV_24 a gr:ProductOrServiceModel;\n",
        "  gr:name \"Sharp HD LED TV 24\"^^xsd:string;\n",
        "  gr:hasBrand ex:Sharp;\n",
        "  gr:hasPriceSpecification ex:Harga;\n",
        "  foaf:page <https://www.lazada.co.id/products/sharp-hd-led-tv-24-lc-24le175i-hitam-i100004505-s100007387.html>;\n",
        "  s:aggregateRating [ a s:AggregateRating;\n",
        "                         s:ratingValue \"3\"^^xsd:integer;\n",
        "                         s:reviewCount \"11\"^^xsd:integer;\n",
        "                          ];\n",
        "  s:dateCreated \"2019-10-02\"^^xsd:date.\n"
      ],
      "execution_count": null,
      "outputs": [
        {
          "output_type": "display_data",
          "data": {
            "text/plain": [
              "<graphviz.dot.Digraph at 0x7f3f723a8290>"
            ],
            "image/svg+xml": "<?xml version=\"1.0\" encoding=\"UTF-8\" standalone=\"no\"?>\n<!DOCTYPE svg PUBLIC \"-//W3C//DTD SVG 1.1//EN\"\n \"http://www.w3.org/Graphics/SVG/1.1/DTD/svg11.dtd\">\n<!-- Generated by graphviz version 2.40.1 (20161225.0304)\n -->\n<!-- Title: %3 Pages: 1 -->\n<svg width=\"2139pt\" height=\"218pt\"\n viewBox=\"0.00 0.00 2139.11 218.00\" xmlns=\"http://www.w3.org/2000/svg\" xmlns:xlink=\"http://www.w3.org/1999/xlink\">\n<g id=\"graph0\" class=\"graph\" transform=\"scale(1 1) rotate(0) translate(4 214)\">\n<title>%3</title>\n<polygon fill=\"#ffffff\" stroke=\"transparent\" points=\"-4,4 -4,-214 2135.1148,-214 2135.1148,4 -4,4\"/>\n<!-- 0 -->\n<g id=\"node1\" class=\"node\">\n<title>0</title>\n<ellipse fill=\"none\" stroke=\"#000000\" cx=\"950\" cy=\"-105\" rx=\"44.393\" ry=\"18\"/>\n<text text-anchor=\"middle\" x=\"950\" y=\"-101.3\" font-family=\"Times,serif\" font-size=\"14.00\" fill=\"#000000\">ex:Harga</text>\n</g>\n<!-- 7 -->\n<g id=\"node8\" class=\"node\">\n<title>7</title>\n<polygon fill=\"none\" stroke=\"#000000\" points=\"1044,-36 876,-36 876,0 1044,0 1044,-36\"/>\n<text text-anchor=\"middle\" x=\"960\" y=\"-14.3\" font-family=\"Times,serif\" font-size=\"14.00\" fill=\"#000000\">&quot;1275000&quot;^^xsd:currency</text>\n</g>\n<!-- 0&#45;&gt;7 -->\n<g id=\"edge11\" class=\"edge\">\n<title>0&#45;&gt;7</title>\n<path fill=\"none\" stroke=\"#000000\" d=\"M952.072,-86.9735C953.4262,-75.1918 955.2229,-59.5607 956.7634,-46.1581\"/>\n<polygon fill=\"#000000\" stroke=\"#000000\" points=\"960.2658,-46.3376 957.9306,-36.0034 953.3115,-45.5383 960.2658,-46.3376\"/>\n<text text-anchor=\"middle\" x=\"1015.5\" y=\"-57.8\" font-family=\"Times,serif\" font-size=\"14.00\" fill=\"#000000\">gr:hasCurrencyValue</text>\n</g>\n<!-- 16 -->\n<g id=\"node17\" class=\"node\">\n<title>16</title>\n<ellipse fill=\"none\" stroke=\"#000000\" cx=\"753\" cy=\"-18\" rx=\"104.7816\" ry=\"18\"/>\n<text text-anchor=\"middle\" x=\"753\" y=\"-14.3\" font-family=\"Times,serif\" font-size=\"14.00\" fill=\"#000000\">gr:UnitPriceSpecification</text>\n</g>\n<!-- 0&#45;&gt;16 -->\n<g id=\"edge10\" class=\"edge\">\n<title>0&#45;&gt;16</title>\n<path fill=\"none\" stroke=\"#000000\" d=\"M919.6505,-91.5969C887.9461,-77.5955 837.7655,-55.4345 800.7454,-39.0855\"/>\n<polygon fill=\"#000000\" stroke=\"#000000\" points=\"801.7204,-35.69 791.1587,-34.8518 798.8924,-42.0934 801.7204,-35.69\"/>\n<text text-anchor=\"middle\" x=\"886\" y=\"-57.8\" font-family=\"Times,serif\" font-size=\"14.00\" fill=\"#000000\">rdf:type</text>\n</g>\n<!-- 1 -->\n<g id=\"node2\" class=\"node\">\n<title>1</title>\n<ellipse fill=\"none\" stroke=\"#000000\" cx=\"251\" cy=\"-105\" rx=\"62.2891\" ry=\"18\"/>\n<text text-anchor=\"middle\" x=\"251\" y=\"-101.3\" font-family=\"Times,serif\" font-size=\"14.00\" fill=\"#000000\">gr:SomeItems</text>\n</g>\n<!-- 2 -->\n<g id=\"node3\" class=\"node\">\n<title>2</title>\n<ellipse fill=\"none\" stroke=\"#000000\" cx=\"1124\" cy=\"-105\" rx=\"111.5806\" ry=\"18\"/>\n<text text-anchor=\"middle\" x=\"1124\" y=\"-101.3\" font-family=\"Times,serif\" font-size=\"14.00\" fill=\"#000000\">gr:ProductOrServiceModel</text>\n</g>\n<!-- 3 -->\n<g id=\"node4\" class=\"node\">\n<title>3</title>\n<polygon fill=\"none\" stroke=\"#000000\" points=\"1358.5,-36 1239.5,-36 1239.5,0 1358.5,0 1358.5,-36\"/>\n<text text-anchor=\"middle\" x=\"1299\" y=\"-14.3\" font-family=\"Times,serif\" font-size=\"14.00\" fill=\"#000000\">&quot;11&quot;^^xsd:integer</text>\n</g>\n<!-- 4 -->\n<g id=\"node5\" class=\"node\">\n<title>4</title>\n<ellipse fill=\"none\" stroke=\"#000000\" cx=\"376\" cy=\"-105\" rx=\"44.393\" ry=\"18\"/>\n<text text-anchor=\"middle\" x=\"376\" y=\"-101.3\" font-family=\"Times,serif\" font-size=\"14.00\" fill=\"#000000\">ex:Sharp</text>\n</g>\n<!-- 9 -->\n<g id=\"node10\" class=\"node\">\n<title>9</title>\n<ellipse fill=\"none\" stroke=\"#000000\" cx=\"337\" cy=\"-18\" rx=\"186.5669\" ry=\"18\"/>\n<text text-anchor=\"start\" x=\"201.5\" y=\"-14.3\" font-family=\"Times,serif\" font-size=\"14.00\" fill=\"#000000\">https://dbpedia.org/resourceSharp_Corporation</text>\n</g>\n<!-- 4&#45;&gt;9 -->\n<g id=\"edge6\" class=\"edge\">\n<title>4&#45;&gt;9</title>\n<path fill=\"none\" stroke=\"#000000\" d=\"M367.9192,-86.9735C362.5331,-74.9585 355.3525,-58.9401 349.2669,-45.3646\"/>\n<polygon fill=\"#000000\" stroke=\"#000000\" points=\"352.3549,-43.6967 345.0705,-36.0034 345.9673,-46.5602 352.3549,-43.6967\"/>\n<text text-anchor=\"middle\" x=\"398.5\" y=\"-57.8\" font-family=\"Times,serif\" font-size=\"14.00\" fill=\"#000000\">s:Corporation</text>\n</g>\n<!-- 12 -->\n<g id=\"node13\" class=\"node\">\n<title>12</title>\n<ellipse fill=\"none\" stroke=\"#000000\" cx=\"586\" cy=\"-18\" rx=\"44.393\" ry=\"18\"/>\n<text text-anchor=\"middle\" x=\"586\" y=\"-14.3\" font-family=\"Times,serif\" font-size=\"14.00\" fill=\"#000000\">gr:Brand</text>\n</g>\n<!-- 4&#45;&gt;12 -->\n<g id=\"edge17\" class=\"edge\">\n<title>4&#45;&gt;12</title>\n<path fill=\"none\" stroke=\"#000000\" d=\"M406.9862,-92.1629C443.7434,-76.9349 505.122,-51.5066 545.5824,-34.7444\"/>\n<polygon fill=\"#000000\" stroke=\"#000000\" points=\"546.9877,-37.9508 554.8866,-30.8898 544.3085,-31.4838 546.9877,-37.9508\"/>\n<text text-anchor=\"middle\" x=\"517\" y=\"-57.8\" font-family=\"Times,serif\" font-size=\"14.00\" fill=\"#000000\">rdf:type</text>\n</g>\n<!-- 18 -->\n<g id=\"node19\" class=\"node\">\n<title>18</title>\n<polygon fill=\"none\" stroke=\"#000000\" points=\"132,-36 0,-36 0,0 132,0 132,-36\"/>\n<text text-anchor=\"middle\" x=\"66\" y=\"-14.3\" font-family=\"Times,serif\" font-size=\"14.00\" fill=\"#000000\">&quot;Sharp&quot;^^xsd:string</text>\n</g>\n<!-- 4&#45;&gt;18 -->\n<g id=\"edge5\" class=\"edge\">\n<title>4&#45;&gt;18</title>\n<path fill=\"none\" stroke=\"#000000\" d=\"M342.1055,-93.3655C335.4614,-91.1802 328.529,-88.9662 322,-87 261.8786,-68.8944 193.1447,-50.4933 142.0458,-37.2521\"/>\n<polygon fill=\"#000000\" stroke=\"#000000\" points=\"142.6266,-33.7872 132.069,-34.6742 140.8754,-40.5647 142.6266,-33.7872\"/>\n<text text-anchor=\"middle\" x=\"283.5\" y=\"-57.8\" font-family=\"Times,serif\" font-size=\"14.00\" fill=\"#000000\">gr:name</text>\n</g>\n<!-- 5 -->\n<g id=\"node6\" class=\"node\">\n<title>5</title>\n<ellipse fill=\"none\" stroke=\"#000000\" cx=\"950\" cy=\"-192\" rx=\"118.0794\" ry=\"18\"/>\n<text text-anchor=\"middle\" x=\"950\" y=\"-188.3\" font-family=\"Times,serif\" font-size=\"14.00\" fill=\"#000000\">ex:Sharp_HD_LED_TV_24</text>\n</g>\n<!-- 5&#45;&gt;0 -->\n<g id=\"edge16\" class=\"edge\">\n<title>5&#45;&gt;0</title>\n<path fill=\"none\" stroke=\"#000000\" d=\"M950,-173.9735C950,-162.1918 950,-146.5607 950,-133.1581\"/>\n<polygon fill=\"#000000\" stroke=\"#000000\" points=\"953.5001,-133.0033 950,-123.0034 946.5001,-133.0034 953.5001,-133.0033\"/>\n<text text-anchor=\"middle\" x=\"1019\" y=\"-144.8\" font-family=\"Times,serif\" font-size=\"14.00\" fill=\"#000000\">gr:hasPriceSpecification</text>\n</g>\n<!-- 5&#45;&gt;2 -->\n<g id=\"edge18\" class=\"edge\">\n<title>5&#45;&gt;2</title>\n<path fill=\"none\" stroke=\"#000000\" d=\"M1025.6086,-178.0923C1053.3885,-171.8964 1080.7949,-164.1589 1092,-156 1100.4038,-149.8808 1107.1076,-140.819 1112.1639,-132.0245\"/>\n<polygon fill=\"#000000\" stroke=\"#000000\" points=\"1115.3034,-133.5739 1116.839,-123.0909 1109.1013,-130.3282 1115.3034,-133.5739\"/>\n<text text-anchor=\"middle\" x=\"1128\" y=\"-144.8\" font-family=\"Times,serif\" font-size=\"14.00\" fill=\"#000000\">rdf:type</text>\n</g>\n<!-- 5&#45;&gt;4 -->\n<g id=\"edge14\" class=\"edge\">\n<title>5&#45;&gt;4</title>\n<path fill=\"none\" stroke=\"#000000\" d=\"M856.532,-180.9216C801.8069,-174.2116 731.4041,-165.1944 669,-156 580.739,-142.9959 558.8325,-138.6384 471,-123 456.5044,-120.4191 440.7898,-117.4937 426.3932,-114.7629\"/>\n<polygon fill=\"#000000\" stroke=\"#000000\" points=\"426.6578,-111.2504 416.1794,-112.8165 425.3474,-118.1267 426.6578,-111.2504\"/>\n<text text-anchor=\"middle\" x=\"704\" y=\"-144.8\" font-family=\"Times,serif\" font-size=\"14.00\" fill=\"#000000\">gr:hasBrand</text>\n</g>\n<!-- 6 -->\n<g id=\"node7\" class=\"node\">\n<title>6</title>\n<ellipse fill=\"none\" stroke=\"#000000\" cx=\"1286\" cy=\"-105\" rx=\"32.4942\" ry=\"18\"/>\n<text text-anchor=\"middle\" x=\"1286\" y=\"-101.3\" font-family=\"Times,serif\" font-size=\"14.00\" fill=\"#000000\">_:bn0</text>\n</g>\n<!-- 5&#45;&gt;6 -->\n<g id=\"edge9\" class=\"edge\">\n<title>5&#45;&gt;6</title>\n<path fill=\"none\" stroke=\"#000000\" d=\"M1038.2866,-180.0157C1074.7421,-174.1597 1117.2254,-166.1558 1155,-156 1196.1431,-144.9386 1205.4758,-138.9043 1245,-123 1247.0509,-122.1747 1249.152,-121.3107 1251.267,-120.4267\"/>\n<polygon fill=\"#000000\" stroke=\"#000000\" points=\"1252.6904,-123.6248 1260.5149,-116.4814 1249.9435,-117.1862 1252.6904,-123.6248\"/>\n<text text-anchor=\"middle\" x=\"1251.5\" y=\"-144.8\" font-family=\"Times,serif\" font-size=\"14.00\" fill=\"#000000\">s:aggregateRating</text>\n</g>\n<!-- 10 -->\n<g id=\"node11\" class=\"node\">\n<title>10</title>\n<ellipse fill=\"none\" stroke=\"#000000\" cx=\"1734\" cy=\"-105\" rx=\"397.2296\" ry=\"18\"/>\n<text text-anchor=\"start\" x=\"1436.5\" y=\"-101.3\" font-family=\"Times,serif\" font-size=\"14.00\" fill=\"#000000\">https://www.lazada.co.id/products/sharp&#45;hd&#45;led&#45;tv&#45;24&#45;lc&#45;24le175i&#45;hitam&#45;i100004505&#45;s100007387.html</text>\n</g>\n<!-- 5&#45;&gt;10 -->\n<g id=\"edge4\" class=\"edge\">\n<title>5&#45;&gt;10</title>\n<path fill=\"none\" stroke=\"#000000\" d=\"M1050.4596,-182.3669C1122.0236,-175.3831 1220.468,-165.5297 1307,-156 1400.4178,-145.7119 1505.2108,-133.21 1587.6037,-123.1592\"/>\n<polygon fill=\"#000000\" stroke=\"#000000\" points=\"1588.0363,-126.6324 1597.5383,-121.9459 1587.1877,-119.6841 1588.0363,-126.6324\"/>\n<text text-anchor=\"middle\" x=\"1463\" y=\"-144.8\" font-family=\"Times,serif\" font-size=\"14.00\" fill=\"#000000\">foaf:page</text>\n</g>\n<!-- 15 -->\n<g id=\"node16\" class=\"node\">\n<title>15</title>\n<polygon fill=\"none\" stroke=\"#000000\" points=\"711.5,-123 480.5,-123 480.5,-87 711.5,-87 711.5,-123\"/>\n<text text-anchor=\"middle\" x=\"596\" y=\"-101.3\" font-family=\"Times,serif\" font-size=\"14.00\" fill=\"#000000\">&quot;Sharp HD LED TV 24&quot;^^xsd:string</text>\n</g>\n<!-- 5&#45;&gt;15 -->\n<g id=\"edge2\" class=\"edge\">\n<title>5&#45;&gt;15</title>\n<path fill=\"none\" stroke=\"#000000\" d=\"M885.6668,-176.8433C858.8531,-170.4791 827.402,-162.9531 799,-156 758.6613,-146.1246 713.8811,-134.9022 676.6648,-125.5036\"/>\n<polygon fill=\"#000000\" stroke=\"#000000\" points=\"677.4302,-122.0871 666.8774,-123.03 675.7149,-128.8737 677.4302,-122.0871\"/>\n<text text-anchor=\"middle\" x=\"822.5\" y=\"-144.8\" font-family=\"Times,serif\" font-size=\"14.00\" fill=\"#000000\">gr:name</text>\n</g>\n<!-- 17 -->\n<g id=\"node18\" class=\"node\">\n<title>17</title>\n<polygon fill=\"none\" stroke=\"#000000\" points=\"888,-123 730,-123 730,-87 888,-87 888,-123\"/>\n<text text-anchor=\"middle\" x=\"809\" y=\"-101.3\" font-family=\"Times,serif\" font-size=\"14.00\" fill=\"#000000\">&quot;2019&#45;10&#45;02&quot;^^xsd:date</text>\n</g>\n<!-- 5&#45;&gt;17 -->\n<g id=\"edge13\" class=\"edge\">\n<title>5&#45;&gt;17</title>\n<path fill=\"none\" stroke=\"#000000\" d=\"M906.95,-175.2144C894.6567,-169.7392 881.4874,-163.1957 870,-156 858.0923,-148.5411 846.01,-138.9508 835.7746,-130.1032\"/>\n<polygon fill=\"#000000\" stroke=\"#000000\" points=\"837.8083,-127.2292 828.0005,-123.2218 833.1686,-132.4707 837.8083,-127.2292\"/>\n<text text-anchor=\"middle\" x=\"908\" y=\"-144.8\" font-family=\"Times,serif\" font-size=\"14.00\" fill=\"#000000\">s:dateCreated</text>\n</g>\n<!-- 6&#45;&gt;3 -->\n<g id=\"edge1\" class=\"edge\">\n<title>6&#45;&gt;3</title>\n<path fill=\"none\" stroke=\"#000000\" d=\"M1288.6936,-86.9735C1290.4541,-75.1918 1292.7898,-59.5607 1294.7925,-46.1581\"/>\n<polygon fill=\"#000000\" stroke=\"#000000\" points=\"1298.2935,-46.4108 1296.3098,-36.0034 1291.3703,-45.3763 1298.2935,-46.4108\"/>\n<text text-anchor=\"middle\" x=\"1335\" y=\"-57.8\" font-family=\"Times,serif\" font-size=\"14.00\" fill=\"#000000\">s:reviewCount</text>\n</g>\n<!-- 11 -->\n<g id=\"node12\" class=\"node\">\n<title>11</title>\n<polygon fill=\"none\" stroke=\"#000000\" points=\"1489.5,-36 1376.5,-36 1376.5,0 1489.5,0 1489.5,-36\"/>\n<text text-anchor=\"middle\" x=\"1433\" y=\"-14.3\" font-family=\"Times,serif\" font-size=\"14.00\" fill=\"#000000\">&quot;3&quot;^^xsd:integer</text>\n</g>\n<!-- 6&#45;&gt;11 -->\n<g id=\"edge8\" class=\"edge\">\n<title>6&#45;&gt;11</title>\n<path fill=\"none\" stroke=\"#000000\" d=\"M1311.6365,-93.6398C1317.0112,-91.3634 1322.6668,-89.0449 1328,-87 1351.228,-78.0936 1359.8119,-82.0356 1381,-69 1392.1065,-62.1669 1402.7032,-52.563 1411.3984,-43.5295\"/>\n<polygon fill=\"#000000\" stroke=\"#000000\" points=\"1414.0042,-45.8668 1418.2247,-36.1489 1408.8652,-41.1138 1414.0042,-45.8668\"/>\n<text text-anchor=\"middle\" x=\"1437.5\" y=\"-57.8\" font-family=\"Times,serif\" font-size=\"14.00\" fill=\"#000000\">s:ratingValue</text>\n</g>\n<!-- 14 -->\n<g id=\"node15\" class=\"node\">\n<title>14</title>\n<ellipse fill=\"none\" stroke=\"#000000\" cx=\"1142\" cy=\"-18\" rx=\"79.8859\" ry=\"18\"/>\n<text text-anchor=\"middle\" x=\"1142\" y=\"-14.3\" font-family=\"Times,serif\" font-size=\"14.00\" fill=\"#000000\">s:AggregateRating</text>\n</g>\n<!-- 6&#45;&gt;14 -->\n<g id=\"edge12\" class=\"edge\">\n<title>6&#45;&gt;14</title>\n<path fill=\"none\" stroke=\"#000000\" d=\"M1263.8156,-91.5969C1241.2048,-77.9362 1205.7378,-56.5082 1178.8925,-40.2892\"/>\n<polygon fill=\"#000000\" stroke=\"#000000\" points=\"1180.5191,-37.1828 1170.15,-35.0073 1176.8992,-43.1742 1180.5191,-37.1828\"/>\n<text text-anchor=\"middle\" x=\"1245\" y=\"-57.8\" font-family=\"Times,serif\" font-size=\"14.00\" fill=\"#000000\">rdf:type</text>\n</g>\n<!-- 8 -->\n<g id=\"node9\" class=\"node\">\n<title>8</title>\n<ellipse fill=\"none\" stroke=\"#000000\" cx=\"251\" cy=\"-192\" rx=\"68.7879\" ry=\"18\"/>\n<text text-anchor=\"middle\" x=\"251\" y=\"-188.3\" font-family=\"Times,serif\" font-size=\"14.00\" fill=\"#000000\">ex:beli&#45;smart&#45;tv</text>\n</g>\n<!-- 8&#45;&gt;1 -->\n<g id=\"edge7\" class=\"edge\">\n<title>8&#45;&gt;1</title>\n<path fill=\"none\" stroke=\"#000000\" d=\"M251,-173.9735C251,-162.1918 251,-146.5607 251,-133.1581\"/>\n<polygon fill=\"#000000\" stroke=\"#000000\" points=\"254.5001,-133.0033 251,-123.0034 247.5001,-133.0034 254.5001,-133.0033\"/>\n<text text-anchor=\"middle\" x=\"274\" y=\"-144.8\" font-family=\"Times,serif\" font-size=\"14.00\" fill=\"#000000\">rdf:type</text>\n</g>\n<!-- 8&#45;&gt;4 -->\n<g id=\"edge3\" class=\"edge\">\n<title>8&#45;&gt;4</title>\n<path fill=\"none\" stroke=\"#000000\" d=\"M275.398,-175.019C295.2557,-161.198 323.4117,-141.6015 344.8888,-126.6534\"/>\n<polygon fill=\"#000000\" stroke=\"#000000\" points=\"347.1381,-129.3522 353.3465,-120.7669 343.1393,-123.6068 347.1381,-129.3522\"/>\n<text text-anchor=\"middle\" x=\"356\" y=\"-144.8\" font-family=\"Times,serif\" font-size=\"14.00\" fill=\"#000000\">gr:hasBrand</text>\n</g>\n<!-- 13 -->\n<g id=\"node14\" class=\"node\">\n<title>13</title>\n<polygon fill=\"none\" stroke=\"#000000\" points=\"171,-123 1,-123 1,-87 171,-87 171,-123\"/>\n<text text-anchor=\"middle\" x=\"86\" y=\"-101.3\" font-family=\"Times,serif\" font-size=\"14.00\" fill=\"#000000\">&quot;beli&#45;smart&#45;tv&quot;^^xsd:string</text>\n</g>\n<!-- 8&#45;&gt;13 -->\n<g id=\"edge15\" class=\"edge\">\n<title>8&#45;&gt;13</title>\n<path fill=\"none\" stroke=\"#000000\" d=\"M219.717,-175.7411C207.8894,-169.5774 194.3145,-162.4834 182,-156 164.669,-146.8755 145.6127,-136.7674 129.0782,-127.9729\"/>\n<polygon fill=\"#000000\" stroke=\"#000000\" points=\"130.6508,-124.845 120.1787,-123.2367 127.3621,-131.0245 130.6508,-124.845\"/>\n<text text-anchor=\"middle\" x=\"214.5\" y=\"-144.8\" font-family=\"Times,serif\" font-size=\"14.00\" fill=\"#000000\">gr:category</text>\n</g>\n</g>\n</svg>\n"
          },
          "metadata": {}
        }
      ]
    },
    {
      "cell_type": "markdown",
      "metadata": {
        "id": "mYVSLWksB1yT"
      },
      "source": [
        "\n",
        "\n",
        "---\n",
        "\n",
        "\n",
        "## **Daftar Pustaka:**\n",
        "\n",
        "\n",
        "\n",
        "\n",
        "\n",
        "\n",
        "\n"
      ]
    },
    {
      "cell_type": "markdown",
      "metadata": {
        "id": "XOHq8NHasVqP"
      },
      "source": [
        "1.   Rakhmawati, N. A. (2015). Semantic Web dan Linked Data. Yogyakarta, Indonesia: SiBuku.\n",
        "2. Rakha Abadi Susilo, Gary Dimitri Hamidi, & Nur Aini Rakhmawati. (2021). garydh/tekweb-tugas-4/: Release v0.1 (v0.1) [Data set]. Zenodo. DOI: https://doi.org/10.5281/zenodo.5520953\n",
        "3. Hamidi, Gary & Susilo, Rakha & Rakhmawati, Nur. (2021). Vocabulary Lazada Indonesian Reviews. https://doi.org/10.13140/RG.2.2.26475.26400. \n",
        "4. Rakha Abadi Susilo, Gary Dimitri Hamidi, & Nur Aini Rakhmawati. (2021). garydh/tekweb-tugas-6/: Release v0.1 (v0.1). Zenodo. DOI: https://doi.org/10.5281/zenodo.xxxxxxx"
      ]
    }
  ]
}